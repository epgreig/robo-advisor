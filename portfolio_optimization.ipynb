{
 "cells": [
  {
   "cell_type": "code",
   "execution_count": 1,
   "metadata": {},
   "outputs": [],
   "source": [
    "import pandas as pd\n",
    "import numpy as np\n",
    "from environment import Environment"
   ]
  },
  {
   "cell_type": "code",
   "execution_count": 2,
   "metadata": {},
   "outputs": [],
   "source": [
    "from historical import HistoricalData\n",
    "from pandas._libs.tslibs.timestamps import Timestamp, Timedelta\n",
    "\n",
    "path = \"data\\\\\"\n",
    "env_df = pd.read_csv(path + \"Consolidated.csv\", header = [0,1], index_col=[0])\n",
    "targets_df = pd.read_csv(path + \"Targets.csv\", index_col=[0])\n",
    "features_df = pd.read_csv(path + \"Features.csv\", header = [0,1], index_col=[0])\n",
    "\n",
    "\n",
    "data = HistoricalData(env_df, features_df, targets_df)"
   ]
  },
  {
   "cell_type": "code",
   "execution_count": 3,
   "metadata": {},
   "outputs": [],
   "source": [
    "import instrument\n",
    "from historical import ShockMap, Distribution\n",
    "\n",
    "date = Timestamp('2009-03-31')\n",
    "#date = Timestamp('2019-03-31')\n",
    "env_now = Environment(*data.get_env_args(date))\n",
    "\n",
    "etfs = env_df[['EQ', 'FI', 'EM', 'RE']].columns.droplevel()\n",
    "etf_dict = {etf: instrument.Equity(etf, 'USD') for etf in etfs}\n",
    "\n",
    "sm = ShockMap(data, date)\n",
    "etfs_cov = np.array(sm.targets_df[etfs].cov())"
   ]
  },
  {
   "cell_type": "code",
   "execution_count": 4,
   "metadata": {},
   "outputs": [],
   "source": [
    "# Optimization\n",
    "from scipy import optimize\n",
    "\n",
    "N = len(etfs)\n",
    "Q = etfs_cov\n",
    "y0 = np.ones(N)/N\n",
    "\n",
    "def f(y):\n",
    "    return 0.5*np.dot(y, np.dot(Q, y)) - 0.1*sum(np.log(y))\n",
    "\n",
    "def grad_f(y):\n",
    "    return np.dot(Q, y) - 0.1/y\n",
    "\n",
    "non_neg_constr = {'type':'ineq', 'fun':lambda x: np.dot(np.identity(N), x), 'jac':lambda x: np.identity(N)}\n",
    "\n",
    "y = optimize.minimize(f, y0, jac=grad_f, constraints=non_neg_constr, tol=1e-7, options={'maxiter':500})\n",
    "pos_dict = {}"
   ]
  },
  {
   "cell_type": "code",
   "execution_count": 5,
   "metadata": {},
   "outputs": [
    {
     "data": {
      "text/plain": [
       "(115, 'Optimization terminated successfully.')"
      ]
     },
     "execution_count": 5,
     "metadata": {},
     "output_type": "execute_result"
    }
   ],
   "source": [
    "# Optimization Result\n",
    "y.nit, y.message"
   ]
  },
  {
   "cell_type": "code",
   "execution_count": 6,
   "metadata": {
    "scrolled": true
   },
   "outputs": [
    {
     "data": {
      "text/plain": [
       "SPY US Equity      0.010832\n",
       "EFA US Equity      0.008230\n",
       "XLF US Equity      0.007065\n",
       "XLK US Equity      0.011272\n",
       "XLV US Equity      0.013053\n",
       "XLP US Equity      0.015555\n",
       "XLE US Equity      0.012053\n",
       "EWJ US Equity      0.010248\n",
       "XLU US Equity      0.013977\n",
       "XLI US Equity      0.008804\n",
       "EZU US Equity      0.006712\n",
       "XLB US Equity      0.008919\n",
       "IXN US Equity      0.009669\n",
       "IYZ US Equity      0.011860\n",
       "IEV US Equity      0.007985\n",
       "TIP US Equity      0.024901\n",
       "AGG US Equity      0.042191\n",
       "IEF US Equity      0.045785\n",
       "TLT US Equity      0.021187\n",
       "SHY US Equity      0.649911\n",
       "LQD US Equity      0.020963\n",
       "EWZ US Equity      0.007023\n",
       "ISMUF US Equity    0.005458\n",
       "ILF US Equity      0.007317\n",
       "IYR US Equity      0.006621\n",
       "RWR US Equity      0.006356\n",
       "ICF US Equity      0.006053\n",
       "dtype: float64"
      ]
     },
     "execution_count": 6,
     "metadata": {},
     "output_type": "execute_result"
    }
   ],
   "source": [
    "# Portfolio Weights\n",
    "x = y.x/sum(y.x)\n",
    "pd.Series(x, index=etfs)"
   ]
  },
  {
   "cell_type": "code",
   "execution_count": 7,
   "metadata": {},
   "outputs": [
    {
     "data": {
      "text/plain": [
       "array([0.03703172, 0.03703293, 0.03704184, 0.03704516, 0.03703188,\n",
       "       0.03703881, 0.03703907, 0.03703489, 0.03703559, 0.03703963,\n",
       "       0.03704092, 0.0370252 , 0.0370342 , 0.03702953, 0.03705069,\n",
       "       0.03703899, 0.03702505, 0.03703866, 0.0370399 , 0.03705031,\n",
       "       0.03703566, 0.03702898, 0.03703507, 0.0370303 , 0.03704228,\n",
       "       0.03704405, 0.03703869])"
      ]
     },
     "execution_count": 7,
     "metadata": {},
     "output_type": "execute_result"
    }
   ],
   "source": [
    "# Risk Contributions\n",
    "np.multiply(x, np.dot(Q, x))/sum(np.multiply(x, np.dot(Q, x)).flatten())"
   ]
  },
  {
   "cell_type": "code",
   "execution_count": null,
   "metadata": {},
   "outputs": [],
   "source": []
  }
 ],
 "metadata": {
  "kernelspec": {
   "display_name": "Python 3",
   "language": "python",
   "name": "python3"
  },
  "language_info": {
   "codemirror_mode": {
    "name": "ipython",
    "version": 3
   },
   "file_extension": ".py",
   "mimetype": "text/x-python",
   "name": "python",
   "nbconvert_exporter": "python",
   "pygments_lexer": "ipython3",
   "version": "3.7.0"
  }
 },
 "nbformat": 4,
 "nbformat_minor": 2
}
