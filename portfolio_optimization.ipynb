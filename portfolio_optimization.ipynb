{
 "cells": [
  {
   "cell_type": "code",
   "execution_count": 1,
   "metadata": {},
   "outputs": [],
   "source": [
    "import pandas as pd\n",
    "import numpy as np\n",
    "from environment import Environment"
   ]
  },
  {
   "cell_type": "code",
   "execution_count": 2,
   "metadata": {},
   "outputs": [],
   "source": [
    "from historical import HistoricalData\n",
    "from pandas._libs.tslibs.timestamps import Timestamp, Timedelta\n",
    "\n",
    "path = \"data/\"\n",
    "env_df = pd.read_csv(path + \"Consolidated.csv\", header = [0,1], index_col=[0])\n",
    "targets_df = pd.read_csv(path + \"Targets.csv\", index_col=[0])\n",
    "features_df = pd.read_csv(path + \"Features.csv\", header = [0,1], index_col=[0])\n",
    "\n",
    "\n",
    "data = HistoricalData(env_df, features_df, targets_df)"
   ]
  },
  {
   "cell_type": "code",
   "execution_count": 3,
   "metadata": {},
   "outputs": [
    {
     "name": "stdout",
     "output_type": "stream",
     "text": [
      "(115, 'Optimization terminated successfully.')\n"
     ]
    },
    {
     "data": {
      "text/plain": [
       "{'SPY US Equity': 0.010831529908701596,\n",
       " 'EFA US Equity': 0.008229718776450706,\n",
       " 'XLF US Equity': 0.007064840247302686,\n",
       " 'XLK US Equity': 0.011271959790903795,\n",
       " 'XLV US Equity': 0.01305311029869129,\n",
       " 'XLP US Equity': 0.015554828605645107,\n",
       " 'XLE US Equity': 0.012053266257413738,\n",
       " 'EWJ US Equity': 0.010247547131749404,\n",
       " 'XLU US Equity': 0.013977134483740349,\n",
       " 'XLI US Equity': 0.008803803384770046,\n",
       " 'EZU US Equity': 0.006712332333218833,\n",
       " 'XLB US Equity': 0.008918591491523747,\n",
       " 'IXN US Equity': 0.00966912572540267,\n",
       " 'IYZ US Equity': 0.011860254574462352,\n",
       " 'IEV US Equity': 0.007984676847161832,\n",
       " 'TIP US Equity': 0.02490071140900414,\n",
       " 'AGG US Equity': 0.04219147394841228,\n",
       " 'IEF US Equity': 0.045785397004632064,\n",
       " 'TLT US Equity': 0.021187038975300908,\n",
       " 'SHY US Equity': 0.6499114754273941,\n",
       " 'LQD US Equity': 0.02096298770781848,\n",
       " 'EWZ US Equity': 0.007023470930599182,\n",
       " 'ISMUF US Equity': 0.005458219397969484,\n",
       " 'ILF US Equity': 0.007316730717740453,\n",
       " 'IYR US Equity': 0.006620663798931747,\n",
       " 'RWR US Equity': 0.006356032883858249,\n",
       " 'ICF US Equity': 0.0060530779412007575}"
      ]
     },
     "execution_count": 3,
     "metadata": {},
     "output_type": "execute_result"
    }
   ],
   "source": [
    "from risk_parity import RiskParity\n",
    "rp = RiskParity(data)\n",
    "date = Timestamp('2009-03-31')\n",
    "rp.get_weights(date)"
   ]
  },
  {
   "cell_type": "code",
   "execution_count": 4,
   "metadata": {},
   "outputs": [
    {
     "data": {
      "text/plain": [
       "array([0.03703172, 0.03703293, 0.03704184, 0.03704516, 0.03703188,\n",
       "       0.03703881, 0.03703907, 0.03703489, 0.03703559, 0.03703963,\n",
       "       0.03704092, 0.0370252 , 0.0370342 , 0.03702953, 0.03705069,\n",
       "       0.03703899, 0.03702505, 0.03703866, 0.0370399 , 0.03705031,\n",
       "       0.03703566, 0.03702898, 0.03703507, 0.0370303 , 0.03704228,\n",
       "       0.03704405, 0.03703869])"
      ]
     },
     "execution_count": 4,
     "metadata": {},
     "output_type": "execute_result"
    }
   ],
   "source": [
    "# Risk Contributions\n",
    "x = rp.weights_vector\n",
    "Q = rp.Q\n",
    "np.multiply(x, np.dot(Q, x))/sum(np.multiply(x, np.dot(Q, x)).flatten())"
   ]
  },
  {
   "cell_type": "code",
   "execution_count": null,
   "metadata": {},
   "outputs": [],
   "source": []
  }
 ],
 "metadata": {
  "kernelspec": {
   "display_name": "Python 3",
   "language": "python",
   "name": "python3"
  },
  "language_info": {
   "codemirror_mode": {
    "name": "ipython",
    "version": 3
   },
   "file_extension": ".py",
   "mimetype": "text/x-python",
   "name": "python",
   "nbconvert_exporter": "python",
   "pygments_lexer": "ipython3",
   "version": "3.7.0"
  }
 },
 "nbformat": 4,
 "nbformat_minor": 2
}
