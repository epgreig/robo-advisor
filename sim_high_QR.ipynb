{
 "cells": [
  {
   "cell_type": "code",
   "execution_count": 2,
   "metadata": {},
   "outputs": [],
   "source": [
    "import pandas as pd\n",
    "import numpy as np\n",
    "from environment import Environment\n",
    "from pandas.tseries.offsets import MonthEnd\n",
    "import instrument\n",
    "from portfolio import Portfolio\n",
    "from risk_parity import RiskParity\n",
    "from copy import copy, deepcopy\n",
    "\n",
    "%load_ext autoreload\n",
    "%autoreload 2"
   ]
  },
  {
   "cell_type": "code",
   "execution_count": 3,
   "metadata": {},
   "outputs": [],
   "source": [
    "from historical import HistoricalData\n",
    "from pandas._libs.tslibs.timestamps import Timestamp, Timedelta\n",
    "\n",
    "path = \"data/\"\n",
    "env_df = pd.read_csv(path + \"Consolidated.csv\", header = [0,1], index_col=[0])\n",
    "targets_df = pd.read_csv(path + \"Targets.csv\", index_col=[0])\n",
    "features_df = pd.read_csv(path + \"Features.csv\", header = [0,1], index_col=[0])\n",
    "exps = pd.read_csv(path + 'ETF_info.csv', index_col=0).loc[env_df[['EQ', 'EM', 'RE', 'FI']].columns.droplevel(), 'Expense Ratio'].astype(float)\n",
    "data = HistoricalData(env_df, features_df, targets_df)\n",
    "\n",
    "date = Timestamp('2014-03-01') + MonthEnd(0)\n",
    "date_end = date + MonthEnd(62)\n",
    "env_now = Environment(*data.get_env_args(date))\n",
    "rp = RiskParity(data)\n"
   ]
  },
  {
   "cell_type": "markdown",
   "metadata": {},
   "source": [
    "### Initializing stuff"
   ]
  },
  {
   "cell_type": "code",
   "execution_count": 4,
   "metadata": {},
   "outputs": [],
   "source": [
    "usd = 200000/env_now.fx['CAD']\n",
    "w_dict = rp.get_weights_ac(date, asset_classes=np.array(['FI', 'RE', 'EM']))\n",
    "pos_dict = Portfolio.weights_to_pos(w_dict, env_now, usd)\n",
    "pos_dict = Portfolio.etf_dict_from_names(pos_dict)\n",
    "icash = instrument.Cash('USD')\n",
    "pos_dict[icash] = 0"
   ]
  },
  {
   "cell_type": "code",
   "execution_count": 5,
   "metadata": {},
   "outputs": [],
   "source": [
    "my_pf = Portfolio(pos_dict)\n",
    "etf_w = 0.98\n",
    "etf_total_val= my_pf.calc_value(env_now)*etf_w\n",
    "opt_total_val = my_pf.calc_value(env_now)*(1-etf_w)\n",
    "\n",
    "my_pf.rebalance(env_now, Portfolio.weights_to_pos(w_dict, env_now, etf_total_val), exps, time_past=0)\n",
    "\n",
    "\n",
    "C = 1 + 0.02\n",
    "K1 = C - 0.03\n",
    "K2 = C\n",
    "K3 = C + 0.03\n",
    "ttm=2\n",
    "\n",
    "specs = [{'name':'SPY Call 1', 'ccy':'USD', 'is_call':1, 'ul':'SPY US Equity'},\n",
    "         {'name':'SPY Call 2', 'ccy':'USD', 'is_call':1, 'ul':'SPY US Equity'},\n",
    "         {'name':'SPY Call 3', 'ccy':'USD', 'is_call':1, 'ul':'SPY US Equity'}\n",
    "         ]\n",
    "\n",
    "cost = Portfolio.get_opt_strategy_price(env_now, specs, [1, -2, 1], [K1,K2,K3], ttm=ttm)\n",
    "nopt = opt_total_val/cost\n",
    "ofee, ospread = my_pf.buy_options(env_now, specs, [nopt, -nopt*2, nopt], [K1,K2,K3], ttm=ttm)\n",
    "\n",
    "last_pf_val = my_pf.calc_value(env_now)\n",
    "last_etf_val = my_pf.get_eq_value(env_now)\n",
    "\n",
    "last_eq_val = my_pf.get_names_value(env_now, env_df['EQ'].columns)\n",
    "last_fi_val = my_pf.get_names_value(env_now, env_df['FI'].columns)\n",
    "last_re_val = my_pf.get_names_value(env_now, env_df['RE'].columns)\n",
    "last_em_val = my_pf.get_names_value(env_now, env_df['EM'].columns)\n",
    "\n",
    "last_opt_val = my_pf.get_options_value(env_now)\n",
    "\n"
   ]
  },
  {
   "cell_type": "markdown",
   "metadata": {},
   "source": [
    "### Set up performance df"
   ]
  },
  {
   "cell_type": "code",
   "execution_count": 6,
   "metadata": {},
   "outputs": [],
   "source": [
    "perf_df = pd.DataFrame(index = pd.date_range(start=date, end=date_end, freq='M'))\n",
    "\n",
    "# us and cad portf values after rebalancing each month\n",
    "perf_df['USD Value'] = 0\n",
    "perf_df['CAD Value'] = 0\n",
    "\n",
    "perf_df['PNL'] = np.nan  # PNL before rebalancing\n",
    "perf_df['Post-trading PNL'] = np.nan  # PNL after trading fees and expenses\n",
    "perf_df['Post-fee PNL'] = np.nan  # PNL after trading fees and expenses and advisor fees\n",
    "\n",
    "# PNL attributions for ETFs\n",
    "perf_df['ETF PNL'] = np.nan\n",
    "perf_df['EQ PNL'] = np.nan\n",
    "perf_df['FI PNL'] = np.nan\n",
    "perf_df['EM PNL'] = np.nan\n",
    "perf_df['RE PNL'] = np.nan\n",
    "\n",
    "# PNL attributions for Options\n",
    "perf_df['Option PNL'] = np.nan\n",
    "perf_df['Delta PNL'] = np.nan\n",
    "perf_df['Vega PNL'] = np.nan\n",
    "perf_df['Theta PNL'] = np.nan\n",
    "perf_df['Rho PNL'] = np.nan\n",
    "perf_df['Unexplained PNL'] = np.nan\n",
    "\n",
    "# below is the PNL values divided by the portfolio value at the end of last rebalancing (returns)\n",
    "perf_df['Return'] = np.nan\n",
    "perf_df['Post-trading Return'] = np.nan\n",
    "perf_df['Post-fee Return'] = np.nan\n",
    "\n",
    "perf_df['ETF Return'] = np.nan\n",
    "perf_df['EQ Return'] = np.nan\n",
    "perf_df['FI Return'] = np.nan\n",
    "perf_df['EM Return'] = np.nan\n",
    "perf_df['RE Return'] = np.nan\n",
    "\n",
    "perf_df['Option Return'] = np.nan\n",
    "perf_df['Delta Return'] = np.nan\n",
    "perf_df['Vega Return'] = np.nan\n",
    "perf_df['Theta Return'] = np.nan\n",
    "perf_df['Rho Return'] = np.nan\n",
    "perf_df['Unexplained Return'] = np.nan\n",
    "\n",
    "\n",
    "perf_df['Injection'] = 0  # injectios of 20k CAD\n",
    "perf_df['FX'] = env_now.fx['CAD']  # fx for converting CAD to USD\n",
    "\n",
    "# ETF trading fees and management expenses in $\n",
    "perf_df['ETF Fees'] = 0\n",
    "perf_df['ETF Expenses'] = 0\n",
    "\n",
    "# option trading fees and bid-ask spread losses in $\n",
    "perf_df['Option Fees'] = ofee\n",
    "perf_df['Option Spread'] = ospread\n",
    "\n",
    "# total trading fees, expenses and spread losses in $\n",
    "perf_df['Total Trading Fees'] = 0\n",
    "\n",
    "# total advisor fees in $\n",
    "perf_df['Advisor Fees'] = 0\n",
    "# total fees in $\n",
    "perf_df['Total Fees'] = 0\n",
    "\n",
    "# total trading fees, expenses and spread losses as a fraction of pre-rebalancing portfolio value\n",
    "perf_df['Percentage Trading Fees'] = 0\n",
    "\n",
    "# total advisor fees as a fraction of pre-rebalancing portfolio value\n",
    "perf_df['Percentage Advisor Fees'] = 0\n",
    "\n",
    "# total fees as a fraction of pre-rebalancing portfolio value\n",
    "perf_df['Percentage Fees'] = 0\n",
    "\n"
   ]
  },
  {
   "cell_type": "markdown",
   "metadata": {},
   "source": [
    "### Run sim/backtest"
   ]
  },
  {
   "cell_type": "code",
   "execution_count": 7,
   "metadata": {},
   "outputs": [],
   "source": [
    "perf_df.loc[date, 'USD Value'] = my_pf.calc_value(env_now)\n",
    "perf_df.loc[date, 'CAD Value'] = my_pf.calc_value(env_now, ccy='CAD')\n",
    "perf_df.loc[date, 'Return'] = np.nan\n",
    "perf_df.loc[date, 'PNL'] = np.nan\n",
    "\n",
    "while date < date_end:\n",
    "    # print(my_pf.pf_units[my_pf.get_cash('USD')])\n",
    "    date = date + MonthEnd(1)\n",
    "    env_before = deepcopy(env_now)\n",
    "    env_now = Environment(*data.get_env_args(date))\n",
    "    \n",
    "    #if env_now.surfaces['SPY US Equity'].matrix[1,5] > 0.20:\n",
    "    #    # print(date, \": high vol of {:.2f}\".format(env_now.surfaces['SPY US Equity'].matrix[1,5]))\n",
    "    #    etf_w = 1\n",
    "    #else:\n",
    "    #    etf_w = 0.98\n",
    "    \n",
    "    new_pf_val = my_pf.calc_value(env_now)\n",
    "    new_etf_val = my_pf.get_eq_value(env_now)\n",
    "    new_opt_val = my_pf.get_options_value(env_now)\n",
    "    new_eq_val = my_pf.get_names_value(env_now, env_df['EQ'].columns)\n",
    "    new_fi_val = my_pf.get_names_value(env_now, env_df['FI'].columns)\n",
    "    new_re_val = my_pf.get_names_value(env_now, env_df['RE'].columns)\n",
    "    new_em_val = my_pf.get_names_value(env_now, env_df['EM'].columns)\n",
    "    \n",
    "    w_dict = rp.get_weights_ac(date, asset_classes=np.array(['FI', 'RE', 'EM']))\n",
    "    \n",
    "    \n",
    "    etf_total_val= my_pf.calc_value(env_now)*etf_w\n",
    "    opt_total_val = my_pf.calc_value(env_now)*(1-etf_w)\n",
    "    \n",
    "\n",
    "    perf_df.loc[date, 'FX'] = env_now.fx['CAD']\n",
    "    \n",
    "    # add injection if it happened\n",
    "    if (date.month == 8) or (date.month == 2):\n",
    "        my_pf.pf_units[my_pf.get_cash('USD')] += 20000/env_now.fx['CAD']\n",
    "        perf_df.loc[date, 'Injection'] = 20000/env_now.fx['CAD']\n",
    "     \n",
    "    # collect our robo fees\n",
    "    adv_fee = my_pf.calc_value(env_now)*0.004/12/env_now.fx['CAD']\n",
    "    my_pf.pf_units[my_pf.get_cash('USD')] -= adv_fee\n",
    "    perf_df.loc[date, 'Advisor Fees'] = adv_fee\n",
    "    \n",
    "    # record pnls\n",
    "    perf_df.loc[date, 'PNL'] = new_pf_val - last_pf_val # post-old and pre-new rebalancing pnl (pure portfolio growth)\n",
    "    perf_df.loc[date, 'ETF PNL'] = new_etf_val - last_etf_val\n",
    "    perf_df.loc[date, 'Option PNL'] = new_opt_val - last_opt_val\n",
    "    \n",
    "    \n",
    "    attribs = my_pf.get_pnl_attr(env_before, env_now)\n",
    "    perf_df.loc[date, 'Delta PNL'] = attribs['delta']\n",
    "    perf_df.loc[date, 'Vega PNL'] = attribs['vega']\n",
    "    perf_df.loc[date, 'Theta PNL'] = attribs['theta']\n",
    "    perf_df.loc[date, 'Rho PNL'] = attribs['rho']\n",
    "    perf_df.loc[date, 'Unexplained PNL'] = perf_df.loc[date, 'Option PNL'] -\\\n",
    "            attribs['delta'] - attribs['vega'] - attribs['theta'] - attribs['rho']\n",
    "    \n",
    "    perf_df.loc[date, 'EQ PNL'] = new_eq_val - last_eq_val\n",
    "    perf_df.loc[date, 'FI PNL'] = new_fi_val - last_fi_val\n",
    "    perf_df.loc[date, 'EM PNL'] = new_em_val - last_em_val\n",
    "    perf_df.loc[date, 'RE PNL'] = new_re_val - last_re_val\n",
    "    \n",
    "    perf_df.loc[date, 'Return'] = (new_pf_val - last_pf_val)/last_pf_val \n",
    "    perf_df.loc[date, 'ETF Return'] = (new_etf_val - last_etf_val)/last_pf_val\n",
    "    perf_df.loc[date, 'Option Return'] = (new_opt_val - last_opt_val)/last_pf_val\n",
    "    perf_df.loc[date, 'Delta Return'] = attribs['delta']/last_pf_val\n",
    "    perf_df.loc[date, 'Vega Return'] = attribs['vega']/last_pf_val\n",
    "    perf_df.loc[date, 'Theta Return'] = attribs['theta']/last_pf_val\n",
    "    perf_df.loc[date, 'Rho Return'] = attribs['rho']/last_pf_val\n",
    "    perf_df.loc[date, 'Unexplained Return'] = perf_df.loc[date, 'Unexplained PNL']/last_pf_val\n",
    "    \n",
    "    perf_df.loc[date, 'EQ Return'] = (new_eq_val - last_eq_val)/last_pf_val\n",
    "    perf_df.loc[date, 'FI Return'] = (new_fi_val - last_fi_val)/last_pf_val\n",
    "    perf_df.loc[date, 'EM Return'] = (new_em_val - last_em_val)/last_pf_val\n",
    "    perf_df.loc[date, 'RE Return'] = (new_re_val - last_re_val)/last_pf_val\n",
    "    \n",
    "    \n",
    "    efee, eexps = my_pf.rebalance(env_now, Portfolio.weights_to_pos(w_dict, env_now, etf_total_val), exps)\n",
    "    ofee, ospread = my_pf.sell_options(env_now)\n",
    "    \n",
    "    # re-buy options\n",
    "    \n",
    "    cost = Portfolio.get_opt_strategy_price(env_now, specs, [1, -2, 1], [K1,K2,K3], ttm=ttm)\n",
    "    nopt = opt_total_val/cost    \n",
    "    ofee_buy, ospread_buy = my_pf.buy_options(env_now, specs, [nopt, -nopt*2, nopt], [K1,K2,K3], ttm=ttm)\n",
    "    ofee += ofee_buy\n",
    "    ospread += ospread_buy\n",
    "    # record post-rebalancing (next month starting) portf value\n",
    "    perf_df.loc[date, 'USD Value'] = my_pf.calc_value(env_now)\n",
    "    perf_df.loc[date, 'CAD Value'] = my_pf.calc_value(env_now, ccy='CAD')\n",
    "    \n",
    "    # record pnl after paying trading fees and robo fees\n",
    "    perf_df.loc[date, 'Post-fee Return'] = (perf_df.loc[date, 'USD Value'] - perf_df.loc[date, 'Injection'])/perf_df.loc[date + MonthEnd(-1), 'USD Value'] - 1\n",
    "    perf_df.loc[date, 'Post-fee PNL'] = (perf_df.loc[date, 'USD Value'] - perf_df.loc[date, 'Injection']) - perf_df.loc[date + MonthEnd(-1), 'USD Value']\n",
    "    \n",
    "    # record pnl after paying trading fees but before robo fees\n",
    "    perf_df.loc[date, 'Post-trading Return'] = (perf_df.loc[date, 'USD Value'] - perf_df.loc[date, 'Injection'] + perf_df.loc[date, 'Advisor Fees'])/perf_df.loc[date + MonthEnd(-1), 'USD Value'] - 1\n",
    "    perf_df.loc[date, 'Post-trading PNL'] = (perf_df.loc[date, 'USD Value'] - perf_df.loc[date, 'Injection'] + perf_df.loc[date, 'Advisor Fees']) - perf_df.loc[date + MonthEnd(-1), 'USD Value']\n",
    "    \n",
    "    # record fees\n",
    "    perf_df.loc[date, 'ETF Fees'] = efee\n",
    "    perf_df.loc[date, 'ETF Expenses'] = eexps\n",
    "    perf_df.loc[date, 'Option Fees'] = ofee\n",
    "    perf_df.loc[date, 'Option Spread'] = ospread\n",
    "    perf_df.loc[date, 'Total Trading Fees'] = ofee + eexps + efee + ospread\n",
    "    perf_df.loc[date, 'Percentage Trading Fees'] = (ofee + eexps + efee + ospread)/last_pf_val\n",
    "    perf_df.loc[date, 'Percentage Advisor Fees'] = adv_fee/last_pf_val\n",
    "    perf_df.loc[date, 'Total Fees'] = ofee + eexps + efee + ospread + adv_fee\n",
    "    perf_df.loc[date, 'Percentage Fees'] = (ofee + eexps + efee + ospread + adv_fee)/last_pf_val\n",
    "    \n",
    "    \n",
    "    \n",
    "    # record post rebalancing values for opts and eqs\n",
    "    last_pf_val = my_pf.calc_value(env_now)\n",
    "    last_etf_val = my_pf.get_eq_value(env_now)\n",
    "    last_opt_val = my_pf.get_options_value(env_now)\n",
    "    last_eq_val = my_pf.get_names_value(env_now, env_df['EQ'].columns)\n",
    "    last_fi_val = my_pf.get_names_value(env_now, env_df['FI'].columns)\n",
    "    last_re_val = my_pf.get_names_value(env_now, env_df['RE'].columns)\n",
    "    last_em_val = my_pf.get_names_value(env_now, env_df['EM'].columns)\n",
    "    \n",
    "    #####\n",
    "    # my_pf.get_forw_risk(env_now: Environment, dist: Distribution, N=1000) vector of 1000 simulated forward pnls\n",
    "    # -> self.emp_dist = xxxx\n",
    "    # -> my_pf.calc_var()\n",
    "    # -->   return -np.percentile(self.emp_dist, 5)\n",
    "    # -> my_pf.calc_cvar()\n",
    "    \n",
    "    \n",
    "    #####\n",
    "    "
   ]
  },
  {
   "cell_type": "code",
   "execution_count": 8,
   "metadata": {},
   "outputs": [
    {
     "data": {
      "text/plain": [
       "{'delta': 0.5752521451668763,\n",
       " 'gamma': 0.01573381241576674,\n",
       " 'vega': 59.586495541189265,\n",
       " 'theta': -29.51746307746316,\n",
       " 'rho': 33.92496903814483}"
      ]
     },
     "execution_count": 8,
     "metadata": {},
     "output_type": "execute_result"
    }
   ],
   "source": [
    "my_pf.get_options()[0].get_greeks(env_now)"
   ]
  },
  {
   "cell_type": "code",
   "execution_count": 9,
   "metadata": {},
   "outputs": [
    {
     "name": "stderr",
     "output_type": "stream",
     "text": [
      "/anaconda3/lib/python3.6/site-packages/pandas/core/indexing.py:362: SettingWithCopyWarning: \n",
      "A value is trying to be set on a copy of a slice from a DataFrame.\n",
      "Try using .loc[row_indexer,col_indexer] = value instead\n",
      "\n",
      "See the caveats in the documentation: http://pandas.pydata.org/pandas-docs/stable/indexing.html#indexing-view-versus-copy\n",
      "  self.obj[key] = _infer_fill_value(value)\n",
      "/anaconda3/lib/python3.6/site-packages/pandas/core/indexing.py:366: SettingWithCopyWarning: \n",
      "A value is trying to be set on a copy of a slice from a DataFrame\n",
      "\n",
      "See the caveats in the documentation: http://pandas.pydata.org/pandas-docs/stable/indexing.html#indexing-view-versus-copy\n",
      "  self._setitem_with_indexer(new_indexer, value)\n",
      "/anaconda3/lib/python3.6/site-packages/pandas/core/indexing.py:190: SettingWithCopyWarning: \n",
      "A value is trying to be set on a copy of a slice from a DataFrame\n",
      "\n",
      "See the caveats in the documentation: http://pandas.pydata.org/pandas-docs/stable/indexing.html#indexing-view-versus-copy\n",
      "  self._setitem_with_indexer(indexer, value)\n"
     ]
    },
    {
     "data": {
      "text/html": [
       "<div>\n",
       "<style scoped>\n",
       "    .dataframe tbody tr th:only-of-type {\n",
       "        vertical-align: middle;\n",
       "    }\n",
       "\n",
       "    .dataframe tbody tr th {\n",
       "        vertical-align: top;\n",
       "    }\n",
       "\n",
       "    .dataframe thead th {\n",
       "        text-align: right;\n",
       "    }\n",
       "</style>\n",
       "<table border=\"1\" class=\"dataframe\">\n",
       "  <thead>\n",
       "    <tr style=\"text-align: right;\">\n",
       "      <th></th>\n",
       "      <th>Option PNL</th>\n",
       "      <th>Delta PNL</th>\n",
       "      <th>Vega PNL</th>\n",
       "      <th>Theta PNL</th>\n",
       "      <th>Rho PNL</th>\n",
       "      <th>Unexplained PNL</th>\n",
       "      <th>UL</th>\n",
       "    </tr>\n",
       "  </thead>\n",
       "  <tbody>\n",
       "    <tr>\n",
       "      <th>2014-03-31</th>\n",
       "      <td>NaN</td>\n",
       "      <td>NaN</td>\n",
       "      <td>NaN</td>\n",
       "      <td>NaN</td>\n",
       "      <td>NaN</td>\n",
       "      <td>NaN</td>\n",
       "      <td>229.8109</td>\n",
       "    </tr>\n",
       "    <tr>\n",
       "      <th>2014-04-30</th>\n",
       "      <td>1935.252548</td>\n",
       "      <td>349.412698</td>\n",
       "      <td>161.604032</td>\n",
       "      <td>690.055030</td>\n",
       "      <td>0.000000</td>\n",
       "      <td>734.180788</td>\n",
       "      <td>231.4084</td>\n",
       "    </tr>\n",
       "    <tr>\n",
       "      <th>2014-05-31</th>\n",
       "      <td>5152.786935</td>\n",
       "      <td>1179.194007</td>\n",
       "      <td>1459.042427</td>\n",
       "      <td>702.459323</td>\n",
       "      <td>0.848903</td>\n",
       "      <td>1811.242275</td>\n",
       "      <td>236.7786</td>\n",
       "    </tr>\n",
       "    <tr>\n",
       "      <th>2014-06-30</th>\n",
       "      <td>4790.858529</td>\n",
       "      <td>1155.042573</td>\n",
       "      <td>1259.624921</td>\n",
       "      <td>672.280544</td>\n",
       "      <td>-0.944255</td>\n",
       "      <td>1704.854746</td>\n",
       "      <td>241.6641</td>\n",
       "    </tr>\n",
       "    <tr>\n",
       "      <th>2014-07-31</th>\n",
       "      <td>-963.639435</td>\n",
       "      <td>-973.400684</td>\n",
       "      <td>-1276.231498</td>\n",
       "      <td>665.944917</td>\n",
       "      <td>0.000000</td>\n",
       "      <td>620.047830</td>\n",
       "      <td>238.4168</td>\n",
       "    </tr>\n",
       "  </tbody>\n",
       "</table>\n",
       "</div>"
      ],
      "text/plain": [
       "             Option PNL    Delta PNL     Vega PNL   Theta PNL   Rho PNL  \\\n",
       "2014-03-31          NaN          NaN          NaN         NaN       NaN   \n",
       "2014-04-30  1935.252548   349.412698   161.604032  690.055030  0.000000   \n",
       "2014-05-31  5152.786935  1179.194007  1459.042427  702.459323  0.848903   \n",
       "2014-06-30  4790.858529  1155.042573  1259.624921  672.280544 -0.944255   \n",
       "2014-07-31  -963.639435  -973.400684 -1276.231498  665.944917  0.000000   \n",
       "\n",
       "            Unexplained PNL        UL  \n",
       "2014-03-31              NaN  229.8109  \n",
       "2014-04-30       734.180788  231.4084  \n",
       "2014-05-31      1811.242275  236.7786  \n",
       "2014-06-30      1704.854746  241.6641  \n",
       "2014-07-31       620.047830  238.4168  "
      ]
     },
     "execution_count": 9,
     "metadata": {},
     "output_type": "execute_result"
    }
   ],
   "source": [
    "sub_df = perf_df[['Option PNL', 'Delta PNL', 'Vega PNL', 'Theta PNL', 'Rho PNL', 'Unexplained PNL']]\n",
    "sub_df.loc[sub_df.index, 'UL'] = env_df['EQ'].loc[sub_df.index, 'SPY US Equity']\n",
    "sub_df.head()"
   ]
  },
  {
   "cell_type": "code",
   "execution_count": 10,
   "metadata": {},
   "outputs": [
    {
     "data": {
      "text/html": [
       "<div>\n",
       "<style scoped>\n",
       "    .dataframe tbody tr th:only-of-type {\n",
       "        vertical-align: middle;\n",
       "    }\n",
       "\n",
       "    .dataframe tbody tr th {\n",
       "        vertical-align: top;\n",
       "    }\n",
       "\n",
       "    .dataframe thead th {\n",
       "        text-align: right;\n",
       "    }\n",
       "</style>\n",
       "<table border=\"1\" class=\"dataframe\">\n",
       "  <thead>\n",
       "    <tr style=\"text-align: right;\">\n",
       "      <th></th>\n",
       "      <th>ETF Fees</th>\n",
       "      <th>ETF Expenses</th>\n",
       "      <th>Option Fees</th>\n",
       "      <th>Option Spread</th>\n",
       "      <th>Total Trading Fees</th>\n",
       "      <th>Advisor Fees</th>\n",
       "      <th>Total Fees</th>\n",
       "    </tr>\n",
       "  </thead>\n",
       "  <tbody>\n",
       "    <tr>\n",
       "      <th>2014-03-31</th>\n",
       "      <td>0.00</td>\n",
       "      <td>0.000000</td>\n",
       "      <td>136.816940</td>\n",
       "      <td>357.584875</td>\n",
       "      <td>0.000000</td>\n",
       "      <td>0.000000</td>\n",
       "      <td>0.000000</td>\n",
       "    </tr>\n",
       "    <tr>\n",
       "      <th>2014-04-30</th>\n",
       "      <td>24.75</td>\n",
       "      <td>33.071057</td>\n",
       "      <td>273.460995</td>\n",
       "      <td>595.229882</td>\n",
       "      <td>926.511934</td>\n",
       "      <td>56.321544</td>\n",
       "      <td>982.833479</td>\n",
       "    </tr>\n",
       "    <tr>\n",
       "      <th>2014-05-31</th>\n",
       "      <td>0.00</td>\n",
       "      <td>33.503932</td>\n",
       "      <td>266.280271</td>\n",
       "      <td>556.647464</td>\n",
       "      <td>856.431667</td>\n",
       "      <td>58.992744</td>\n",
       "      <td>915.424411</td>\n",
       "    </tr>\n",
       "    <tr>\n",
       "      <th>2014-06-30</th>\n",
       "      <td>14.85</td>\n",
       "      <td>35.181608</td>\n",
       "      <td>259.498027</td>\n",
       "      <td>558.352303</td>\n",
       "      <td>867.881937</td>\n",
       "      <td>61.702482</td>\n",
       "      <td>929.584420</td>\n",
       "    </tr>\n",
       "    <tr>\n",
       "      <th>2014-07-31</th>\n",
       "      <td>59.40</td>\n",
       "      <td>35.536646</td>\n",
       "      <td>279.891129</td>\n",
       "      <td>646.964578</td>\n",
       "      <td>1021.792353</td>\n",
       "      <td>59.890894</td>\n",
       "      <td>1081.683247</td>\n",
       "    </tr>\n",
       "  </tbody>\n",
       "</table>\n",
       "</div>"
      ],
      "text/plain": [
       "            ETF Fees  ETF Expenses  Option Fees  Option Spread  \\\n",
       "2014-03-31      0.00      0.000000   136.816940     357.584875   \n",
       "2014-04-30     24.75     33.071057   273.460995     595.229882   \n",
       "2014-05-31      0.00     33.503932   266.280271     556.647464   \n",
       "2014-06-30     14.85     35.181608   259.498027     558.352303   \n",
       "2014-07-31     59.40     35.536646   279.891129     646.964578   \n",
       "\n",
       "            Total Trading Fees  Advisor Fees   Total Fees  \n",
       "2014-03-31            0.000000      0.000000     0.000000  \n",
       "2014-04-30          926.511934     56.321544   982.833479  \n",
       "2014-05-31          856.431667     58.992744   915.424411  \n",
       "2014-06-30          867.881937     61.702482   929.584420  \n",
       "2014-07-31         1021.792353     59.890894  1081.683247  "
      ]
     },
     "execution_count": 10,
     "metadata": {},
     "output_type": "execute_result"
    }
   ],
   "source": [
    "# total trading fees, expenses and spread losses as a fraction of pre-rebalancing portfolio value\n",
    "#perf_df['Percentage Trading Fees'] = 0\n",
    "# total fees as a fraction of pre-rebalancing portfolio value\n",
    "#perf_df['Percentage Fees'] = 0\n",
    "fee_df = perf_df[['ETF Fees', 'ETF Expenses', 'Option Fees', 'Option Spread', 'Total Trading Fees', 'Advisor Fees', 'Total Fees']]\n",
    "fee_df.head()"
   ]
  },
  {
   "cell_type": "code",
   "execution_count": 11,
   "metadata": {},
   "outputs": [
    {
     "data": {
      "text/html": [
       "<div>\n",
       "<style scoped>\n",
       "    .dataframe tbody tr th:only-of-type {\n",
       "        vertical-align: middle;\n",
       "    }\n",
       "\n",
       "    .dataframe tbody tr th {\n",
       "        vertical-align: top;\n",
       "    }\n",
       "\n",
       "    .dataframe thead th {\n",
       "        text-align: right;\n",
       "    }\n",
       "</style>\n",
       "<table border=\"1\" class=\"dataframe\">\n",
       "  <thead>\n",
       "    <tr style=\"text-align: right;\">\n",
       "      <th></th>\n",
       "      <th>Return</th>\n",
       "      <th>ETF Return</th>\n",
       "      <th>Option Return</th>\n",
       "      <th>Percentage Trading Fees</th>\n",
       "      <th>Percentage Advisor Fees</th>\n",
       "      <th>Post-trading Return</th>\n",
       "      <th>Post-fee Return</th>\n",
       "    </tr>\n",
       "  </thead>\n",
       "  <tbody>\n",
       "    <tr>\n",
       "      <th>2014-03-31</th>\n",
       "      <td>NaN</td>\n",
       "      <td>NaN</td>\n",
       "      <td>NaN</td>\n",
       "      <td>0.000000</td>\n",
       "      <td>0.000000</td>\n",
       "      <td>NaN</td>\n",
       "      <td>NaN</td>\n",
       "    </tr>\n",
       "    <tr>\n",
       "      <th>2014-04-30</th>\n",
       "      <td>0.026392</td>\n",
       "      <td>0.015667</td>\n",
       "      <td>0.010725</td>\n",
       "      <td>0.005134</td>\n",
       "      <td>0.000312</td>\n",
       "      <td>0.021257</td>\n",
       "      <td>0.020945</td>\n",
       "    </tr>\n",
       "    <tr>\n",
       "      <th>2014-05-31</th>\n",
       "      <td>0.041872</td>\n",
       "      <td>0.013903</td>\n",
       "      <td>0.027969</td>\n",
       "      <td>0.004649</td>\n",
       "      <td>0.000320</td>\n",
       "      <td>0.037223</td>\n",
       "      <td>0.036903</td>\n",
       "    </tr>\n",
       "    <tr>\n",
       "      <th>2014-06-30</th>\n",
       "      <td>0.033978</td>\n",
       "      <td>0.008899</td>\n",
       "      <td>0.025079</td>\n",
       "      <td>0.004543</td>\n",
       "      <td>0.000323</td>\n",
       "      <td>0.029435</td>\n",
       "      <td>0.029112</td>\n",
       "    </tr>\n",
       "    <tr>\n",
       "      <th>2014-07-31</th>\n",
       "      <td>-0.003229</td>\n",
       "      <td>0.001673</td>\n",
       "      <td>-0.004902</td>\n",
       "      <td>0.005198</td>\n",
       "      <td>0.000305</td>\n",
       "      <td>-0.008426</td>\n",
       "      <td>-0.008731</td>\n",
       "    </tr>\n",
       "  </tbody>\n",
       "</table>\n",
       "</div>"
      ],
      "text/plain": [
       "              Return  ETF Return  Option Return  Percentage Trading Fees  \\\n",
       "2014-03-31       NaN         NaN            NaN                 0.000000   \n",
       "2014-04-30  0.026392    0.015667       0.010725                 0.005134   \n",
       "2014-05-31  0.041872    0.013903       0.027969                 0.004649   \n",
       "2014-06-30  0.033978    0.008899       0.025079                 0.004543   \n",
       "2014-07-31 -0.003229    0.001673      -0.004902                 0.005198   \n",
       "\n",
       "            Percentage Advisor Fees  Post-trading Return  Post-fee Return  \n",
       "2014-03-31                 0.000000                  NaN              NaN  \n",
       "2014-04-30                 0.000312             0.021257         0.020945  \n",
       "2014-05-31                 0.000320             0.037223         0.036903  \n",
       "2014-06-30                 0.000323             0.029435         0.029112  \n",
       "2014-07-31                 0.000305            -0.008426        -0.008731  "
      ]
     },
     "execution_count": 11,
     "metadata": {},
     "output_type": "execute_result"
    }
   ],
   "source": [
    "# total trading fees, expenses and spread losses as a fraction of pre-rebalancing portfolio value\n",
    "#perf_df['Percentage Trading Fees'] = 0\n",
    "# total fees as a fraction of pre-rebalancing portfolio value\n",
    "#perf_df['Percentage Fees'] = 0\n",
    "pct_df = perf_df[['Return', 'ETF Return', 'Option Return', 'Percentage Trading Fees', 'Percentage Advisor Fees', 'Post-trading Return', 'Post-fee Return']]\n",
    "pct_df.head()"
   ]
  },
  {
   "cell_type": "code",
   "execution_count": 12,
   "metadata": {},
   "outputs": [
    {
     "name": "stdout",
     "output_type": "stream",
     "text": [
      "2014-03-31             NaN\n",
      "2014-04-30    6.245005e-17\n",
      "2014-05-31   -8.326673e-17\n",
      "2014-06-30    1.387779e-17\n",
      "2014-07-31    1.175275e-16\n",
      "Freq: M, dtype: float64\n",
      "2014-03-31             NaN\n",
      "2014-04-30    3.469447e-16\n",
      "2014-05-31    1.665335e-16\n",
      "2014-06-30    1.804112e-16\n",
      "2014-07-31    3.469447e-17\n",
      "Freq: M, dtype: float64\n"
     ]
    }
   ],
   "source": [
    "# sanity checks of the decomp\n",
    "print((pct_df['ETF Return'] + pct_df['Option Return'] - pct_df['Return']).head())\n",
    "print((pct_df['Return'] - pct_df['Percentage Trading Fees'] - pct_df['Percentage Advisor Fees'] - pct_df['Post-fee Return']).head())"
   ]
  },
  {
   "cell_type": "markdown",
   "metadata": {},
   "source": [
    "### Evaluate performance"
   ]
  },
  {
   "cell_type": "code",
   "execution_count": 13,
   "metadata": {},
   "outputs": [
    {
     "data": {
      "text/plain": [
       "0.13774708101963906"
      ]
     },
     "execution_count": 13,
     "metadata": {},
     "output_type": "execute_result"
    }
   ],
   "source": [
    "irr_values = np.array([-perf_df['USD Value'].iloc[0]] + (-perf_df['Injection'].values).tolist())\n",
    "irr_values[-1] += perf_df['USD Value'].iloc[-1]\n",
    "np.irr(irr_values)*12"
   ]
  },
  {
   "cell_type": "code",
   "execution_count": 14,
   "metadata": {},
   "outputs": [
    {
     "name": "stdout",
     "output_type": "stream",
     "text": [
      "Mean: 14.1%\n",
      "Std: 8.2%\n",
      "VaR: 10.5%\n",
      "CVaR: 12.5%\n",
      "Sharpe: 1.7\n"
     ]
    }
   ],
   "source": [
    "ret_vec =  perf_df['Post-fee Return'].dropna().values\n",
    "# ret_vec = perf_df['Option Return'].dropna().values\n",
    "\n",
    "\n",
    "m = ret_vec.mean()*12\n",
    "s = ret_vec.std()*np.sqrt(12)\n",
    "var = -np.percentile(ret_vec, 5)*np.sqrt(12)\n",
    "cvar = -ret_vec[ret_vec<np.percentile(ret_vec, 5)].mean()*np.sqrt(12)\n",
    "print(\"Mean: {:.1f}%\\nStd: {:.1f}%\\nVaR: {:.1f}%\\nCVaR: {:.1f}%\".format(m*100, s*100, var*100, cvar*100))\n",
    "print(\"Sharpe: {:.1f}\".format(m/s))"
   ]
  },
  {
   "cell_type": "code",
   "execution_count": 26,
   "metadata": {},
   "outputs": [
    {
     "data": {
      "image/png": "[encoded data removed]",
      "text/plain": [
       "<Figure size 288x360 with 1 Axes>"
      ]
     },
     "metadata": {
      "needs_background": "light"
     },
     "output_type": "display_data"
    }
   ],
   "source": [
    "import matplotlib.pyplot as plt\n",
    "from matplotlib.ticker import FuncFormatter\n",
    "\n",
    "plt.figure(figsize=(4,5))\n",
    "perf_df['Return'].dropna().hist(bins=8)\n",
    "plt.title('Distribution of Monthly Returns')\n",
    "plt.ylabel('Frequency')\n",
    "plt.xlabel('Percentage Monthly Return')\n",
    "\n",
    "ax = plt.gca()\n",
    "ax.set_xlim([-0.075,0.075])\n",
    "ax.xaxis.set_major_formatter(FuncFormatter(lambda y, _: '{:.0%}'.format(y))) \n",
    "plt.show()"
   ]
  },
  {
   "cell_type": "code",
   "execution_count": 98,
   "metadata": {},
   "outputs": [
    {
     "name": "stdout",
     "output_type": "stream",
     "text": [
      "0.055961380370316255\n",
      "0.04937181218082236\n"
     ]
    }
   ],
   "source": [
    "print(perf_df['ETF Return'].std()*np.sqrt(12))\n",
    "print(perf_df['ETF Return'].mean()*12)"
   ]
  },
  {
   "cell_type": "code",
   "execution_count": 81,
   "metadata": {},
   "outputs": [
    {
     "name": "stdout",
     "output_type": "stream",
     "text": [
      "0.053366396139004485\n",
      "0.1518902150086826\n"
     ]
    }
   ],
   "source": [
    "print(perf_df['Option Return'].std()*np.sqrt(12))\n",
    "print(perf_df['Option Return'].mean()*12)"
   ]
  },
  {
   "cell_type": "code",
   "execution_count": 82,
   "metadata": {},
   "outputs": [],
   "source": [
    "my_pf.get_forward_pnl(env_now, data, 10000)"
   ]
  },
  {
   "cell_type": "markdown",
   "metadata": {},
   "source": [
    "### Risk stuff for current portfolio"
   ]
  },
  {
   "cell_type": "code",
   "execution_count": 83,
   "metadata": {},
   "outputs": [
    {
     "name": "stdout",
     "output_type": "stream",
     "text": [
      "Est. VaR loss: 3.44%\n",
      "Est. CVaR loss: 4.48%\n",
      "Est. Standard Deviation: 2.60%\n"
     ]
    }
   ],
   "source": [
    "#display these numbers somewhere in the report\n",
    "\n",
    "var_loss = my_pf.calc_var()/my_pf.calc_value(env_now)*100\n",
    "cvar_loss = my_pf.calc_es()/my_pf.calc_value(env_now)*100\n",
    "print(\"Est. VaR loss: {:.2f}%\".format(var_loss))\n",
    "print(\"Est. CVaR loss: {:.2f}%\".format(cvar_loss))\n",
    "\n",
    "std = np.std(my_pf.emp_dist)/my_pf.calc_value(env_now)*100\n",
    "print(\"Est. Standard Deviation: {:.2f}%\".format(std))"
   ]
  },
  {
   "cell_type": "code",
   "execution_count": 84,
   "metadata": {},
   "outputs": [
    {
     "data": {
      "text/html": [
       "<div>\n",
       "<style scoped>\n",
       "    .dataframe tbody tr th:only-of-type {\n",
       "        vertical-align: middle;\n",
       "    }\n",
       "\n",
       "    .dataframe tbody tr th {\n",
       "        vertical-align: top;\n",
       "    }\n",
       "\n",
       "    .dataframe thead th {\n",
       "        text-align: right;\n",
       "    }\n",
       "</style>\n",
       "<table border=\"1\" class=\"dataframe\">\n",
       "  <thead>\n",
       "    <tr style=\"text-align: right;\">\n",
       "      <th></th>\n",
       "      <th>Component VaR</th>\n",
       "    </tr>\n",
       "  </thead>\n",
       "  <tbody>\n",
       "    <tr>\n",
       "      <th>SPY US Equity</th>\n",
       "      <td>0.000000</td>\n",
       "    </tr>\n",
       "    <tr>\n",
       "      <th>EFA US Equity</th>\n",
       "      <td>0.000000</td>\n",
       "    </tr>\n",
       "    <tr>\n",
       "      <th>XLF US Equity</th>\n",
       "      <td>0.000000</td>\n",
       "    </tr>\n",
       "    <tr>\n",
       "      <th>XLK US Equity</th>\n",
       "      <td>0.000000</td>\n",
       "    </tr>\n",
       "    <tr>\n",
       "      <th>XLV US Equity</th>\n",
       "      <td>0.000000</td>\n",
       "    </tr>\n",
       "    <tr>\n",
       "      <th>XLP US Equity</th>\n",
       "      <td>0.000000</td>\n",
       "    </tr>\n",
       "    <tr>\n",
       "      <th>XLE US Equity</th>\n",
       "      <td>0.000000</td>\n",
       "    </tr>\n",
       "    <tr>\n",
       "      <th>EWJ US Equity</th>\n",
       "      <td>0.000000</td>\n",
       "    </tr>\n",
       "    <tr>\n",
       "      <th>XLU US Equity</th>\n",
       "      <td>0.000000</td>\n",
       "    </tr>\n",
       "    <tr>\n",
       "      <th>XLI US Equity</th>\n",
       "      <td>0.000000</td>\n",
       "    </tr>\n",
       "    <tr>\n",
       "      <th>EZU US Equity</th>\n",
       "      <td>0.000000</td>\n",
       "    </tr>\n",
       "    <tr>\n",
       "      <th>XLB US Equity</th>\n",
       "      <td>0.000000</td>\n",
       "    </tr>\n",
       "    <tr>\n",
       "      <th>IXN US Equity</th>\n",
       "      <td>0.000000</td>\n",
       "    </tr>\n",
       "    <tr>\n",
       "      <th>IYZ US Equity</th>\n",
       "      <td>0.000000</td>\n",
       "    </tr>\n",
       "    <tr>\n",
       "      <th>IEV US Equity</th>\n",
       "      <td>0.000000</td>\n",
       "    </tr>\n",
       "    <tr>\n",
       "      <th>TIP US Equity</th>\n",
       "      <td>7.094716</td>\n",
       "    </tr>\n",
       "    <tr>\n",
       "      <th>AGG US Equity</th>\n",
       "      <td>4.037804</td>\n",
       "    </tr>\n",
       "    <tr>\n",
       "      <th>IEF US Equity</th>\n",
       "      <td>4.194534</td>\n",
       "    </tr>\n",
       "    <tr>\n",
       "      <th>TLT US Equity</th>\n",
       "      <td>9.248363</td>\n",
       "    </tr>\n",
       "    <tr>\n",
       "      <th>SHY US Equity</th>\n",
       "      <td>0.134418</td>\n",
       "    </tr>\n",
       "    <tr>\n",
       "      <th>LQD US Equity</th>\n",
       "      <td>8.338738</td>\n",
       "    </tr>\n",
       "    <tr>\n",
       "      <th>IYR US Equity</th>\n",
       "      <td>9.733023</td>\n",
       "    </tr>\n",
       "    <tr>\n",
       "      <th>RWR US Equity</th>\n",
       "      <td>10.004216</td>\n",
       "    </tr>\n",
       "    <tr>\n",
       "      <th>ICF US Equity</th>\n",
       "      <td>10.548478</td>\n",
       "    </tr>\n",
       "    <tr>\n",
       "      <th>EWZ US Equity</th>\n",
       "      <td>12.937258</td>\n",
       "    </tr>\n",
       "    <tr>\n",
       "      <th>ISMUF US Equity</th>\n",
       "      <td>12.913031</td>\n",
       "    </tr>\n",
       "    <tr>\n",
       "      <th>ILF US Equity</th>\n",
       "      <td>10.815422</td>\n",
       "    </tr>\n",
       "  </tbody>\n",
       "</table>\n",
       "</div>"
      ],
      "text/plain": [
       "                 Component VaR\n",
       "SPY US Equity         0.000000\n",
       "EFA US Equity         0.000000\n",
       "XLF US Equity         0.000000\n",
       "XLK US Equity         0.000000\n",
       "XLV US Equity         0.000000\n",
       "XLP US Equity         0.000000\n",
       "XLE US Equity         0.000000\n",
       "EWJ US Equity         0.000000\n",
       "XLU US Equity         0.000000\n",
       "XLI US Equity         0.000000\n",
       "EZU US Equity         0.000000\n",
       "XLB US Equity         0.000000\n",
       "IXN US Equity         0.000000\n",
       "IYZ US Equity         0.000000\n",
       "IEV US Equity         0.000000\n",
       "TIP US Equity         7.094716\n",
       "AGG US Equity         4.037804\n",
       "IEF US Equity         4.194534\n",
       "TLT US Equity         9.248363\n",
       "SHY US Equity         0.134418\n",
       "LQD US Equity         8.338738\n",
       "IYR US Equity         9.733023\n",
       "RWR US Equity        10.004216\n",
       "ICF US Equity        10.548478\n",
       "EWZ US Equity        12.937258\n",
       "ISMUF US Equity      12.913031\n",
       "ILF US Equity        10.815422"
      ]
     },
     "execution_count": 84,
     "metadata": {},
     "output_type": "execute_result"
    }
   ],
   "source": [
    "#these are percentage risk contributions without options\n",
    "(my_pf.calc_risk_contribs(env_now)/my_pf.calc_risk_contribs(env_now).sum())*100"
   ]
  },
  {
   "cell_type": "code",
   "execution_count": 85,
   "metadata": {},
   "outputs": [
    {
     "data": {
      "text/plain": [
       "(array([   9.,  105.,  556., 1612., 2569., 2655., 1793.,  590.,  103.,\n",
       "           8.]),\n",
       " array([-52757.06817877, -41289.4537132 , -29821.83924763, -18354.22478205,\n",
       "         -6886.61031648,   4581.0041491 ,  16048.61861467,  27516.23308025,\n",
       "         38983.84754582,  50451.46201139,  61919.07647697]),\n",
       " <a list of 10 Patch objects>)"
      ]
     },
     "execution_count": 85,
     "metadata": {},
     "output_type": "execute_result"
    },
    {
     "data": {
      "image/png": "[encoded data removed]",
      "text/plain": [
       "<Figure size 432x288 with 1 Axes>"
      ]
     },
     "metadata": {
      "needs_background": "light"
     },
     "output_type": "display_data"
    }
   ],
   "source": [
    "#you can copy my_pf.emp_dist to excel and create a histogram there\n",
    "# ie my_pf.emp_dist\n",
    "plt.hist(my_pf.emp_dist)"
   ]
  },
  {
   "cell_type": "code",
   "execution_count": 86,
   "metadata": {},
   "outputs": [
    {
     "data": {
      "text/plain": [
       "2014-09-30    3.329737\n",
       "2018-02-28    3.298596\n",
       "2015-08-31    3.216431\n",
       "2018-10-31    2.607064\n",
       "2015-06-30    2.056538\n",
       "Name: Return, dtype: float64"
      ]
     },
     "execution_count": 86,
     "metadata": {},
     "output_type": "execute_result"
    }
   ],
   "source": [
    "#backtested VaR shows reasonable results\n",
    "-(perf_df['Return']).sort_values()[0:5]*100"
   ]
  },
  {
   "cell_type": "code",
   "execution_count": 87,
   "metadata": {},
   "outputs": [],
   "source": [
    "greeks = my_pf.calc_opt_greeks(env_now)"
   ]
  },
  {
   "cell_type": "code",
   "execution_count": 88,
   "metadata": {
    "scrolled": true
   },
   "outputs": [
    {
     "name": "stdout",
     "output_type": "stream",
     "text": [
      "940.0145443218476\n",
      "-49.313692904505196\n",
      "-427.2469357844576\n",
      "2217.2955786984944\n"
     ]
    }
   ],
   "source": [
    "#potential(expected) PnL given a reasonable movement\n",
    "print(greeks['delta']*env_now.prices['SPY US Equity']*0.01)\n",
    "#we expect 1% movement in SPY over 1 month\n",
    "print(0.5*greeks['gamma']*(env_now.prices['SPY US Equity']*0.01)**2)\n",
    "print(greeks['vega']*0.01)\n",
    "#we might expect a 1% move in vega\n",
    "print(greeks['theta']/12)\n",
    "# literally from 1 month of theta"
   ]
  },
  {
   "cell_type": "code",
   "execution_count": 92,
   "metadata": {},
   "outputs": [
    {
     "data": {
      "text/plain": [
       "596978.3890446571"
      ]
     },
     "execution_count": 92,
     "metadata": {},
     "output_type": "execute_result"
    }
   ],
   "source": [
    "#scenario analysis \n",
    "from historical import Distribution, ShockMap\n",
    "\n",
    "\n",
    "dist = Distribution(data, date, method = \"Normal\")\n",
    "sm = ShockMap(data, date)\n",
    "curr_port_value = my_pf.calc_value(env_now)\n",
    "#print(curr_port_value)\n",
    "pnl = []\n",
    "\n",
    "#GDP down 1% monthly\n",
    "sim_fact_shock = dist.generate_cond_shock_cf('GDP Change', condition = -0.01)\n",
    "sim_shock = sm.map_factors_expected(sim_fact_shock)\n",
    "sim_env = env_now.simulate(sim_shock)\n",
    "#print(my_pf.calc_value(sim_env) - curr_port_value)\n",
    "pnl.append(my_pf.calc_value(sim_env) - curr_port_value)\n",
    "\n",
    "#Volatility up 50% \n",
    "sim_fact_shock = dist.generate_cond_shock_cf('IVMID Change', condition = 0.50)\n",
    "sim_shock = sm.map_factors_expected(sim_fact_shock)\n",
    "sim_env = env_now.simulate(sim_shock)\n",
    "#print(my_pf.calc_value(sim_env) - curr_port_value)\n",
    "pnl.append(my_pf.calc_value(sim_env) - curr_port_value)\n",
    "\n",
    "#Volatility down 50%\n",
    "sim_fact_shock = dist.generate_cond_shock_cf('IVMID Change', condition = -0.50)\n",
    "sim_shock = sm.map_factors_expected(sim_fact_shock)\n",
    "sim_env = env_now.simulate(sim_shock)\n",
    "#print(my_pf.calc_value(sim_env) - curr_port_value)\n",
    "pnl.append(my_pf.calc_value(sim_env) - curr_port_value)\n",
    "\n",
    "#SPY down 10%\n",
    "sim_fact_shock = dist.generate_cond_shock_cf('SPY Change', condition = -0.1)\n",
    "sim_shock = sm.map_factors_expected(sim_fact_shock)\n",
    "sim_env = env_now.simulate(sim_shock)\n",
    "#print(my_pf.calc_value(sim_env) - curr_port_value)\n",
    "pnl.append(my_pf.calc_value(sim_env) - curr_port_value)\n",
    "\n",
    "#SPY up 10%\n",
    "sim_fact_shock = dist.generate_cond_shock_cf('SPY Change', condition = 0.1)\n",
    "sim_shock = sm.map_factors_expected(sim_fact_shock)\n",
    "sim_env = env_now.simulate(sim_shock)\n",
    "#print(my_pf.calc_value(sim_env) - curr_port_value)\n",
    "pnl.append(my_pf.calc_value(sim_env) - curr_port_value)\n",
    "\n",
    "#10Y IR up 1%\n",
    "sim_fact_shock = dist.generate_cond_shock_cf('T10Y Change', condition = 0.01)\n",
    "sim_shock = sm.map_factors_expected(sim_fact_shock)\n",
    "sim_env = env_now.simulate(sim_shock)\n",
    "#print(my_pf.calc_value(sim_env) - curr_port_value)\n",
    "pnl.append(my_pf.calc_value(sim_env) - curr_port_value)\n",
    "\n",
    "my_pf.calc_value(env_now)\n"
   ]
  },
  {
   "cell_type": "code",
   "execution_count": 93,
   "metadata": {},
   "outputs": [
    {
     "data": {
      "text/html": [
       "<div>\n",
       "<style scoped>\n",
       "    .dataframe tbody tr th:only-of-type {\n",
       "        vertical-align: middle;\n",
       "    }\n",
       "\n",
       "    .dataframe tbody tr th {\n",
       "        vertical-align: top;\n",
       "    }\n",
       "\n",
       "    .dataframe thead th {\n",
       "        text-align: right;\n",
       "    }\n",
       "</style>\n",
       "<table border=\"1\" class=\"dataframe\">\n",
       "  <thead>\n",
       "    <tr style=\"text-align: right;\">\n",
       "      <th></th>\n",
       "      <th>PnL</th>\n",
       "      <th>Percentage Change in Portfolio Value</th>\n",
       "    </tr>\n",
       "  </thead>\n",
       "  <tbody>\n",
       "    <tr>\n",
       "      <th>GDP down 1%</th>\n",
       "      <td>-4179.797815</td>\n",
       "      <td>-0.700159</td>\n",
       "    </tr>\n",
       "    <tr>\n",
       "      <th>Volatility Up 50%</th>\n",
       "      <td>-13429.482262</td>\n",
       "      <td>-2.249576</td>\n",
       "    </tr>\n",
       "    <tr>\n",
       "      <th>Volatility Down 50%</th>\n",
       "      <td>5502.028814</td>\n",
       "      <td>0.921646</td>\n",
       "    </tr>\n",
       "    <tr>\n",
       "      <th>SPY Down 10%</th>\n",
       "      <td>-22157.681385</td>\n",
       "      <td>-3.711639</td>\n",
       "    </tr>\n",
       "    <tr>\n",
       "      <th>SPY Up 10%</th>\n",
       "      <td>9294.020422</td>\n",
       "      <td>1.556844</td>\n",
       "    </tr>\n",
       "    <tr>\n",
       "      <th>10Y IR Up 1%</th>\n",
       "      <td>5032.244931</td>\n",
       "      <td>0.842953</td>\n",
       "    </tr>\n",
       "  </tbody>\n",
       "</table>\n",
       "</div>"
      ],
      "text/plain": [
       "                              PnL  Percentage Change in Portfolio Value\n",
       "GDP down 1%          -4179.797815                             -0.700159\n",
       "Volatility Up 50%   -13429.482262                             -2.249576\n",
       "Volatility Down 50%   5502.028814                              0.921646\n",
       "SPY Down 10%        -22157.681385                             -3.711639\n",
       "SPY Up 10%            9294.020422                              1.556844\n",
       "10Y IR Up 1%          5032.244931                              0.842953"
      ]
     },
     "execution_count": 93,
     "metadata": {},
     "output_type": "execute_result"
    }
   ],
   "source": [
    "Scenarios = ['GDP down 1%','Volatility Up 50%', 'Volatility Down 50%', 'SPY Down 10%', 'SPY Up 10%', '10Y IR Up 1%']\n",
    "pnl\n",
    "\n",
    "s_anal = pd.DataFrame(pnl, index = Scenarios, columns = ['PnL'])\n",
    "s_anal['Percentage Change in Portfolio Value'] = (s_anal['PnL']/curr_port_value) * 100\n",
    "s_anal\n"
   ]
  },
  {
   "cell_type": "code",
   "execution_count": 47,
   "metadata": {},
   "outputs": [
    {
     "data": {
      "text/plain": [
       "TIP US Equity      71528.334039\n",
       "AGG US Equity      71528.334039\n",
       "IEF US Equity      71528.334039\n",
       "TLT US Equity      71528.334039\n",
       "SHY US Equity      71528.334039\n",
       "LQD US Equity      71528.334039\n",
       "IYR US Equity      27098.430181\n",
       "RWR US Equity      27098.430181\n",
       "ICF US Equity      27098.430181\n",
       "EWZ US Equity      25697.042099\n",
       "ISMUF US Equity    25697.042099\n",
       "ILF US Equity      25697.042099\n",
       "SPY US Equity          0.000000\n",
       "EFA US Equity          0.000000\n",
       "XLF US Equity          0.000000\n",
       "XLK US Equity          0.000000\n",
       "XLV US Equity          0.000000\n",
       "XLP US Equity          0.000000\n",
       "XLE US Equity          0.000000\n",
       "EWJ US Equity          0.000000\n",
       "XLU US Equity          0.000000\n",
       "XLI US Equity          0.000000\n",
       "EZU US Equity          0.000000\n",
       "XLB US Equity          0.000000\n",
       "IXN US Equity          0.000000\n",
       "IYZ US Equity          0.000000\n",
       "IEV US Equity          0.000000\n",
       "NaN                  481.951530\n",
       "SPY Call 1         72738.615052\n",
       "SPY Call 2        -95106.833935\n",
       "SPY Call 3         31308.235324\n",
       "dtype: float64"
      ]
     },
     "execution_count": 47,
     "metadata": {},
     "output_type": "execute_result"
    }
   ],
   "source": [
    "#current portfolio ETF exposure values\n",
    "my_pf.calc_value(env_now)\n",
    "exposure = list(my_pf.pf_dollars.values())\n",
    "names = []\n",
    "for instru in list(my_pf.pf_dollars.keys()):\n",
    "    names.append(instru.name)\n",
    "\n",
    "exp_by_instru = pd.Series(exposure, index = names)\n",
    "exp_by_instru\n"
   ]
  },
  {
   "cell_type": "code",
   "execution_count": 48,
   "metadata": {},
   "outputs": [
    {
     "data": {
      "text/plain": [
       "94001.45443218475"
      ]
     },
     "execution_count": 48,
     "metadata": {},
     "output_type": "execute_result"
    }
   ],
   "source": [
    "# this is the equivalent dollar delta exposure of options. \n",
    "my_pf.calc_opt_greeks(env_now)['delta']*env_now.prices['SPY US Equity']\n"
   ]
  },
  {
   "cell_type": "code",
   "execution_count": 49,
   "metadata": {},
   "outputs": [
    {
     "data": {
      "text/plain": [
       "{'TIP US Equity': 0.1217386645319019,\n",
       " 'AGG US Equity': 0.1217386645319019,\n",
       " 'IEF US Equity': 0.1217386645319019,\n",
       " 'TLT US Equity': 0.1217386645319019,\n",
       " 'SHY US Equity': 0.1217386645319019,\n",
       " 'LQD US Equity': 0.1217386645319019,\n",
       " 'IYR US Equity': 0.04612055831478875,\n",
       " 'RWR US Equity': 0.04612055831478875,\n",
       " 'ICF US Equity': 0.04612055831478875,\n",
       " 'EWZ US Equity': 0.0437354459547408,\n",
       " 'ISMUF US Equity': 0.0437354459547408,\n",
       " 'ILF US Equity': 0.0437354459547408,\n",
       " 'SPY US Equity': 0,\n",
       " 'EFA US Equity': 0,\n",
       " 'XLF US Equity': 0,\n",
       " 'XLK US Equity': 0,\n",
       " 'XLV US Equity': 0,\n",
       " 'XLP US Equity': 0,\n",
       " 'XLE US Equity': 0,\n",
       " 'EWJ US Equity': 0,\n",
       " 'XLU US Equity': 0,\n",
       " 'XLI US Equity': 0,\n",
       " 'EZU US Equity': 0,\n",
       " 'XLB US Equity': 0,\n",
       " 'IXN US Equity': 0,\n",
       " 'IYZ US Equity': 0,\n",
       " 'IEV US Equity': 0}"
      ]
     },
     "execution_count": 49,
     "metadata": {},
     "output_type": "execute_result"
    }
   ],
   "source": [
    "w_dict"
   ]
  },
  {
   "cell_type": "code",
   "execution_count": 28,
   "metadata": {},
   "outputs": [
    {
     "data": {
      "text/plain": [
       "(DatetimeIndex(['2015-07-31'], dtype='datetime64[ns]', freq='M'),\n",
       " DatetimeIndex(['2016-01-31'], dtype='datetime64[ns]', freq='M'),\n",
       " 0.08731486310241199)"
      ]
     },
     "execution_count": 28,
     "metadata": {},
     "output_type": "execute_result"
    }
   ],
   "source": [
    "import pandas as pd\n",
    "from max_drawdown import max_drawdown\n",
    "max_drawdown(perf_df)"
   ]
  },
  {
   "cell_type": "code",
   "execution_count": null,
   "metadata": {},
   "outputs": [],
   "source": []
  }
 ],
 "metadata": {
  "kernelspec": {
   "display_name": "Python 3",
   "language": "python",
   "name": "python3"
  },
  "language_info": {
   "codemirror_mode": {
    "name": "ipython",
    "version": 3
   },
   "file_extension": ".py",
   "mimetype": "text/x-python",
   "name": "python",
   "nbconvert_exporter": "python",
   "pygments_lexer": "ipython3",
   "version": "3.6.8"
  }
 },
 "nbformat": 4,
 "nbformat_minor": 2
}
