{
 "cells": [
  {
   "cell_type": "code",
   "execution_count": null,
   "metadata": {},
   "outputs": [],
   "source": [
    "import pandas as pd\n",
    "import numpy as np\n",
    "from environment import Environment\n",
    "from pandas.tseries.offsets import MonthEnd\n",
    "\n",
    "%load_ext autoreload\n",
    "%autoreload 2"
   ]
  },
  {
   "cell_type": "code",
   "execution_count": null,
   "metadata": {},
   "outputs": [],
   "source": [
    "from historical import HistoricalData\n",
    "from pandas._libs.tslibs.timestamps import Timestamp, Timedelta\n",
    "\n",
    "path = \"data\\\\\"\n",
    "env_df = pd.read_csv(path + \"Consolidated.csv\", header = [0,1], index_col=[0])\n",
    "targets_df = pd.read_csv(path + \"Targets.csv\", index_col=[0])\n",
    "features_df = pd.read_csv(path + \"Features.csv\", header = [0,1], index_col=[0])\n",
    "\n",
    "\n",
    "data = HistoricalData(env_df, features_df, targets_df)"
   ]
  },
  {
   "cell_type": "code",
   "execution_count": null,
   "metadata": {},
   "outputs": [],
   "source": [
    "def sell_options(pf, env_now):\n",
    "    # sell current options\n",
    "    \n",
    "    for asset, position in pf.pf_units.items():\n",
    "        if asset.type == 'Option':\n",
    "    \n",
    "        opt_val = position * asset.value(env_now)\n",
    "        pf.pf_units[asset] = 0\n",
    "        del asset\n",
    "    \n",
    "        # add cash from sold options\n",
    "        pf.pf_units[icash] = pf.pf_units[icash] + opt_val"
   ]
  },
  {
   "cell_type": "code",
   "execution_count": null,
   "metadata": {},
   "outputs": [],
   "source": [
    "pf_val = 200000\n",
    "date = Timestamp('2014-06-01') + MonthEnd(0)\n",
    "opt_mat = date + MonthEnd(2)\n",
    "env_now = Environment(*data.get_env_args(date))\n",
    "pos_dict = {}\n",
    "etf_dict = {}\n",
    "\n",
    "icash = instrument.Cash('USD')\n",
    "for etf in env_df[['EQ', 'FI', 'EM', 'RE']].columns.droplevel():\n",
    "    etf_dict[etf] = instrument.Equity(etf, 'USD')\n",
    "    pos_dict[etf_dict[etf]] = pf_val/27/env_now.prices[etf]\n",
    "\n",
    "iput = instrument.Option(name='SPY Put', ccy='USD', is_call=0, ul='SPY US Equity',\n",
    "                       K=etf_dict['SPY US Equity'].value(env_now)*0.9, T=opt_mat)\n",
    "\n",
    "icall = instrument.Option(name='SPY Call', ccy='USD', is_call=1, ul='SPY US Equity',\n",
    "                       K=etf_dict['SPY US Equity'].value(env_now)*1.1, T=opt_mat)\n",
    "\n",
    "pos_dict[iput] = pos_dict[etf_dict['SPY US Equity']] * 5\n",
    "pos_dict[icall] = pos_dict[etf_dict['SPY US Equity']] * 5\n",
    "pos_dict[icash] = -(pos_dict[iput]*iput.value(env_now) + pos_dict[icall]*icall.value(env_now))\n",
    "my_pf = Portfolio(pos_dict)"
   ]
  },
  {
   "cell_type": "code",
   "execution_count": null,
   "metadata": {},
   "outputs": [],
   "source": []
  }
 ],
 "metadata": {
  "kernelspec": {
   "display_name": "Python 3",
   "language": "python",
   "name": "python3"
  },
  "language_info": {
   "codemirror_mode": {
    "name": "ipython",
    "version": 3
   },
   "file_extension": ".py",
   "mimetype": "text/x-python",
   "name": "python",
   "nbconvert_exporter": "python",
   "pygments_lexer": "ipython3",
   "version": "3.6.5"
  }
 },
 "nbformat": 4,
 "nbformat_minor": 2
}
