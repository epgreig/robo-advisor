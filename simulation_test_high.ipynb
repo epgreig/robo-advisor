{
 "cells": [
  {
   "cell_type": "code",
   "execution_count": 1,
   "metadata": {},
   "outputs": [],
   "source": [
    "import pandas as pd\n",
    "import numpy as np\n",
    "from environment import Environment\n",
    "from pandas.tseries.offsets import MonthEnd\n",
    "import instrument\n",
    "from portfolio import Portfolio\n",
    "from risk_parity import RiskParity\n",
    "\n",
    "\n",
    "%load_ext autoreload\n",
    "%autoreload 2"
   ]
  },
  {
   "cell_type": "code",
   "execution_count": 2,
   "metadata": {},
   "outputs": [],
   "source": [
    "from historical import HistoricalData\n",
    "from pandas._libs.tslibs.timestamps import Timestamp, Timedelta\n",
    "\n",
    "path = \"data\\\\\"\n",
    "env_df = pd.read_csv(path + \"Consolidated.csv\", header = [0,1], index_col=[0])\n",
    "targets_df = pd.read_csv(path + \"Targets.csv\", index_col=[0])\n",
    "features_df = pd.read_csv(path + \"Features.csv\", header = [0,1], index_col=[0])\n",
    "exps = pd.read_csv('data\\\\ETF_info.csv', index_col=0).loc[env_df[['EQ', 'EM', 'RE', 'FI']].columns.droplevel(), 'Expense Ratio'].astype(float)\n",
    "data = HistoricalData(env_df, features_df, targets_df)\n",
    "\n",
    "date = Timestamp('2009-03-01') + MonthEnd(0)\n",
    "date_end = date + MonthEnd(60)\n",
    "env_now = Environment(*data.get_env_args(date))\n",
    "rp = RiskParity(data)\n"
   ]
  },
  {
   "cell_type": "markdown",
   "metadata": {},
   "source": [
    "### Initializing stuff"
   ]
  },
  {
   "cell_type": "code",
   "execution_count": 3,
   "metadata": {},
   "outputs": [],
   "source": [
    "def dumb_optimize(env: Environment):\n",
    "    w_dict = {}\n",
    "    n_assets = len(env.prices.items())\n",
    "    for asset, price in env.prices.items():\n",
    "        w_dict[asset] = 1/n_assets\n",
    "    return w_dict\n",
    "\n",
    "usd = 200000/env_now.fx['CAD']\n",
    "w_dict = rp.get_weights_ac(date, asset_classes=np.array(['FI', 'RE', 'EM']))\n",
    "# w_dict = dumb_optimize(env_now)\n",
    "pos_dict = Portfolio.weights_to_pos(w_dict, env_now, usd)\n",
    "pos_dict = Portfolio.etf_dict_from_names(pos_dict)\n",
    "icash = instrument.Cash('USD')\n",
    "pos_dict[icash] = 0"
   ]
  },
  {
   "cell_type": "code",
   "execution_count": 4,
   "metadata": {},
   "outputs": [],
   "source": [
    "my_pf = Portfolio(pos_dict)\n",
    "etf_w = 0.98\n",
    "etf_total_val= my_pf.calc_value(env_now)*etf_w\n",
    "opt_total_val = my_pf.calc_value(env_now)*(1-etf_w)\n",
    "\n",
    "my_pf.rebalance(env_now, Portfolio.weights_to_pos(w_dict, env_now, etf_total_val), exps, time_past=0)\n",
    "\n",
    "\n",
    "C = 1 + 0.02\n",
    "K1 = C - 0.03\n",
    "K2 = C\n",
    "K3 = C + 0.03\n",
    "ttm=2\n",
    "\n",
    "specs = [{'name':'SPY Call 1', 'ccy':'USD', 'is_call':1, 'ul':'SPY US Equity'},\n",
    "         {'name':'SPY Call 2', 'ccy':'USD', 'is_call':1, 'ul':'SPY US Equity'},\n",
    "         {'name':'SPY Call 3', 'ccy':'USD', 'is_call':1, 'ul':'SPY US Equity'}\n",
    "         ]\n",
    "\n",
    "cost = Portfolio.get_opt_strategy_price(env_now, specs, [1, -2, 1], [K1,K2,K3], ttm=ttm)\n",
    "nopt = opt_total_val/cost\n",
    "ofee = my_pf.buy_options(env_now, specs, [nopt, -nopt*2, nopt], [K1,K2,K3], ttm=ttm)\n",
    "\n",
    "last_pf_val = my_pf.calc_value(env_now)\n",
    "last_etf_val = my_pf.get_eq_value(env_now)\n",
    "\n",
    "last_eq_val = my_pf.get_names_value(env_now, env_df['EQ'].columns)\n",
    "last_fi_val = my_pf.get_names_value(env_now, env_df['FI'].columns)\n",
    "last_re_val = my_pf.get_names_value(env_now, env_df['RE'].columns)\n",
    "last_em_val = my_pf.get_names_value(env_now, env_df['EM'].columns)\n",
    "\n",
    "last_opt_val = my_pf.get_options_value(env_now)\n",
    "\n"
   ]
  },
  {
   "cell_type": "markdown",
   "metadata": {},
   "source": [
    "### Set up performance df"
   ]
  },
  {
   "cell_type": "code",
   "execution_count": 5,
   "metadata": {},
   "outputs": [],
   "source": [
    "perf_df = pd.DataFrame(index = pd.date_range(start=date, end=date_end, freq='M'))\n",
    "perf_df['USD Value'] = 0\n",
    "perf_df['CAD Value'] = 0\n",
    "perf_df['PNL'] = 0\n",
    "perf_df['Post-fee PNL'] = np.nan\n",
    "perf_df['ETF PNL'] = np.nan\n",
    "\n",
    "perf_df['EQ PNL'] = np.nan\n",
    "perf_df['FI PNL'] = np.nan\n",
    "perf_df['EM PNL'] = np.nan\n",
    "perf_df['RE PNL'] = np.nan\n",
    "\n",
    "perf_df['Option PNL'] = np.nan\n",
    "\n",
    "\n",
    "perf_df['Return'] = 0\n",
    "perf_df['Post-fee Return'] = np.nan\n",
    "perf_df['ETF Return'] = np.nan\n",
    "\n",
    "perf_df['EQ Return'] = np.nan\n",
    "perf_df['FI Return'] = np.nan\n",
    "perf_df['EM Return'] = np.nan\n",
    "perf_df['RE Return'] = np.nan\n",
    "\n",
    "perf_df['Option Return'] = np.nan\n",
    "\n",
    "\n",
    "perf_df['Injection'] = 0\n",
    "perf_df['FX'] = env_now.fx['CAD']\n",
    "perf_df['Option Fees'] = ofee\n",
    "perf_df['ETF Fees'] = 0\n",
    "perf_df['ETF Expenses'] = 0\n",
    "\n",
    "perf_df['Total Fees'] = 0\n",
    "perf_df['Percentage Fees'] = 0\n",
    "\n"
   ]
  },
  {
   "cell_type": "markdown",
   "metadata": {},
   "source": [
    "### Run sim/backtest"
   ]
  },
  {
   "cell_type": "code",
   "execution_count": 6,
   "metadata": {},
   "outputs": [],
   "source": [
    "perf_df.loc[date, 'USD Value'] = my_pf.calc_value(env_now)\n",
    "perf_df.loc[date, 'CAD Value'] = my_pf.calc_value(env_now, ccy='CAD')\n",
    "perf_df.loc[date, 'Return'] = np.nan\n",
    "perf_df.loc[date, 'PNL'] = np.nan\n",
    "\n",
    "while date < date_end:\n",
    "    \n",
    "    date = date + MonthEnd(1)\n",
    "    env_now = Environment(*data.get_env_args(date))\n",
    "    \n",
    "    new_pf_val = my_pf.calc_value(env_now)\n",
    "    new_etf_val = my_pf.get_eq_value(env_now)\n",
    "    new_opt_val = my_pf.get_options_value(env_now)\n",
    "    new_eq_val = my_pf.get_names_value(env_now, env_df['EQ'].columns)\n",
    "    new_fi_val = my_pf.get_names_value(env_now, env_df['FI'].columns)\n",
    "    new_re_val = my_pf.get_names_value(env_now, env_df['RE'].columns)\n",
    "    new_em_val = my_pf.get_names_value(env_now, env_df['EM'].columns)\n",
    "    \n",
    "    w_dict = rp.get_weights_ac(date, asset_classes=np.array(['FI', 'RE', 'EM']))\n",
    "    \n",
    "    \n",
    "    etf_total_val= my_pf.calc_value(env_now)*etf_w\n",
    "    opt_total_val = my_pf.calc_value(env_now)*(1-etf_w)\n",
    "    \n",
    "\n",
    "    perf_df.loc[date, 'FX'] = env_now.fx['CAD']\n",
    "    \n",
    "    if (date.month == 8) or (date.month == 2):\n",
    "        my_pf.pf_units[my_pf.get_cash('USD')] += 20000/env_now.fx['CAD']\n",
    "        perf_df.loc[date, 'Injection'] = 20000/env_now.fx['CAD']\n",
    "        \n",
    "    \n",
    "    \n",
    "    perf_df.loc[date, 'PNL'] = new_pf_val - last_pf_val\n",
    "    perf_df.loc[date, 'ETF PNL'] = new_etf_val - last_etf_val\n",
    "    perf_df.loc[date, 'Option PNL'] = new_opt_val - last_opt_val\n",
    "    \n",
    "    perf_df.loc[date, 'EQ PNL'] = new_eq_val - last_eq_val\n",
    "    perf_df.loc[date, 'FI PNL'] = new_fi_val - last_fi_val\n",
    "    perf_df.loc[date, 'EM PNL'] = new_em_val - last_em_val\n",
    "    perf_df.loc[date, 'RE PNL'] = new_re_val - last_re_val\n",
    "    \n",
    "    perf_df.loc[date, 'Return'] = (new_pf_val - last_pf_val)/last_pf_val\n",
    "    perf_df.loc[date, 'ETF Return'] = (new_etf_val - last_etf_val)/last_pf_val\n",
    "    perf_df.loc[date, 'Option Return'] = (new_opt_val - last_opt_val)/last_pf_val\n",
    "    \n",
    "    perf_df.loc[date, 'EQ Return'] = (new_eq_val - last_eq_val)/last_pf_val\n",
    "    perf_df.loc[date, 'FI Return'] = (new_fi_val - last_fi_val)/last_pf_val\n",
    "    perf_df.loc[date, 'EM Return'] = (new_em_val - last_em_val)/last_pf_val\n",
    "    perf_df.loc[date, 'RE Return'] = (new_re_val - last_re_val)/last_pf_val\n",
    "    \n",
    "    \n",
    "    efee, eexps = my_pf.rebalance(env_now, Portfolio.weights_to_pos(w_dict, env_now, etf_total_val), exps)\n",
    "    ofee = my_pf.sell_options(env_now)\n",
    "    \n",
    "    # re-buy options\n",
    "    \n",
    "    cost = Portfolio.get_opt_strategy_price(env_now, specs, [1, -2, 1], [K1,K2,K3], ttm=ttm)\n",
    "    nopt = opt_total_val/cost    \n",
    "    ofee += my_pf.buy_options(env_now, specs, [nopt, -nopt*2, nopt], [K1,K2,K3], ttm=ttm)\n",
    "    \n",
    "    # record post-rebalancing (next month starting) portf value\n",
    "    perf_df.loc[date, 'USD Value'] = my_pf.calc_value(env_now)\n",
    "    perf_df.loc[date, 'CAD Value'] = my_pf.calc_value(env_now, ccy='CAD')\n",
    "    perf_df.loc[date, 'Post-fee Return'] = (perf_df.loc[date, 'USD Value'] - perf_df.loc[date, 'Injection'])/perf_df.loc[date + MonthEnd(-1), 'USD Value'] - 1\n",
    "    perf_df.loc[date, 'Post-fee PNL'] = (perf_df.loc[date, 'USD Value'] - perf_df.loc[date, 'Injection']) - perf_df.loc[date + MonthEnd(-1), 'USD Value']\n",
    "    \n",
    "    # record fees\n",
    "    perf_df.loc[date, 'ETF Fees'] = efee\n",
    "    perf_df.loc[date, 'ETF Expenses'] = eexps\n",
    "    perf_df.loc[date, 'Option Fees'] = ofee\n",
    "    perf_df.loc[date, 'Total Fees'] = ofee + eexps + efee\n",
    "    perf_df.loc[date, 'Percentage Fees'] = (ofee + eexps + efee)/last_pf_val\n",
    "    \n",
    "    # find post fee returns\n",
    "    \n",
    "    \n",
    "    # record post rebalancing values for opts and eqs\n",
    "    last_pf_val = my_pf.calc_value(env_now)\n",
    "    last_etf_val = my_pf.get_eq_value(env_now)\n",
    "    last_opt_val = my_pf.get_options_value(env_now)\n",
    "    last_eq_val = my_pf.get_names_value(env_now, env_df['EQ'].columns)\n",
    "    last_fi_val = my_pf.get_names_value(env_now, env_df['FI'].columns)\n",
    "    last_re_val = my_pf.get_names_value(env_now, env_df['RE'].columns)\n",
    "    last_em_val = my_pf.get_names_value(env_now, env_df['EM'].columns)\n",
    "    \n",
    "    #####\n",
    "    # my_pf.get_forw_risk(env_now: Environment, dist: Distribution, N=1000) vector of 1000 simulated forward pnls\n",
    "    # -> self.emp_dist = xxxx\n",
    "    # -> my_pf.calc_var()\n",
    "    # -->   return -np.percentile(self.emp_dist, 5)\n",
    "    # -> my_pf.calc_cvar()\n",
    "    \n",
    "    \n",
    "    #####\n",
    "    "
   ]
  },
  {
   "cell_type": "markdown",
   "metadata": {},
   "source": [
    "### Evaluate performance"
   ]
  },
  {
   "cell_type": "code",
   "execution_count": 13,
   "metadata": {},
   "outputs": [],
   "source": [
    "perf_df.to_csv('perf_df.csv')"
   ]
  },
  {
   "cell_type": "code",
   "execution_count": 8,
   "metadata": {},
   "outputs": [
    {
     "data": {
      "text/plain": [
       "0.19385399305889717"
      ]
     },
     "execution_count": 8,
     "metadata": {},
     "output_type": "execute_result"
    }
   ],
   "source": [
    "irr_values = np.array([-perf_df['USD Value'].iloc[0]] + (-perf_df['Injection'].values).tolist())\n",
    "irr_values[-1] += perf_df['USD Value'].iloc[-1]\n",
    "np.irr(irr_values)*12"
   ]
  },
  {
   "cell_type": "code",
   "execution_count": 9,
   "metadata": {},
   "outputs": [
    {
     "name": "stdout",
     "output_type": "stream",
     "text": [
      "Mean: 16.0%\n",
      "Std: 5.8%\n",
      "VaR: 4.2%\n",
      "CVaR: 6.1%\n",
      "Sharpe: 2.7\n"
     ]
    }
   ],
   "source": [
    "ret_vec =  perf_df['Return'].dropna().values\n",
    "ret_vec = perf_df['Option Return'].dropna().values\n",
    "\n",
    "\n",
    "m = ret_vec.mean()*12\n",
    "s = ret_vec.std()*np.sqrt(12)\n",
    "var = -np.percentile(ret_vec, 5)*np.sqrt(12)\n",
    "cvar = -ret_vec[ret_vec<np.percentile(ret_vec, 5)].mean()*np.sqrt(12)\n",
    "print(\"Mean: {:.1f}%\\nStd: {:.1f}%\\nVaR: {:.1f}%\\nCVaR: {:.1f}%\".format(m*100, s*100, var*100, cvar*100))\n",
    "print(\"Sharpe: {:.1f}\".format(m/s))"
   ]
  },
  {
   "cell_type": "code",
   "execution_count": 10,
   "metadata": {},
   "outputs": [
    {
     "data": {
      "text/plain": [
       "<Figure size 640x480 with 1 Axes>"
      ]
     },
     "metadata": {},
     "output_type": "display_data"
    }
   ],
   "source": [
    "import matplotlib.pyplot as plt\n",
    "perf_df['Return'].dropna().hist()\n",
    "plt.show()"
   ]
  },
  {
   "cell_type": "code",
   "execution_count": 11,
   "metadata": {},
   "outputs": [
    {
     "name": "stdout",
     "output_type": "stream",
     "text": [
      "0.05785421895167844\n",
      "0.08248180214660225\n"
     ]
    }
   ],
   "source": [
    "print(perf_df['ETF Return'].std()*np.sqrt(12))\n",
    "print(perf_df['ETF Return'].mean()*12)"
   ]
  },
  {
   "cell_type": "code",
   "execution_count": 12,
   "metadata": {},
   "outputs": [
    {
     "name": "stdout",
     "output_type": "stream",
     "text": [
      "0.05867877684173605\n",
      "0.16001018850071666\n"
     ]
    }
   ],
   "source": [
    "print(perf_df['Option Return'].std()*np.sqrt(12))\n",
    "print(perf_df['Option Return'].mean()*12)"
   ]
  },
  {
   "cell_type": "code",
   "execution_count": null,
   "metadata": {},
   "outputs": [],
   "source": []
  }
 ],
 "metadata": {
  "kernelspec": {
   "display_name": "Python 3",
   "language": "python",
   "name": "python3"
  },
  "language_info": {
   "codemirror_mode": {
    "name": "ipython",
    "version": 3
   },
   "file_extension": ".py",
   "mimetype": "text/x-python",
   "name": "python",
   "nbconvert_exporter": "python",
   "pygments_lexer": "ipython3",
   "version": "3.7.1"
  }
 },
 "nbformat": 4,
 "nbformat_minor": 2
}
