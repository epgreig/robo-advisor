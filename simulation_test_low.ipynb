{
 "cells": [
  {
   "cell_type": "code",
   "execution_count": 1,
   "metadata": {},
   "outputs": [],
   "source": [
    "import pandas as pd\n",
    "import numpy as np\n",
    "from environment import Environment\n",
    "from pandas.tseries.offsets import MonthEnd\n",
    "import instrument\n",
    "from portfolio import Portfolio\n",
    "from risk_parity import RiskParity\n",
    "from copy import copy, deepcopy\n",
    "\n",
    "%load_ext autoreload\n",
    "%autoreload 2"
   ]
  },
  {
   "cell_type": "code",
   "execution_count": 2,
   "metadata": {},
   "outputs": [],
   "source": [
    "from historical import HistoricalData\n",
    "from pandas._libs.tslibs.timestamps import Timestamp, Timedelta\n",
    "\n",
    "path = \"data\\\\\"\n",
    "env_df = pd.read_csv(path + \"Consolidated.csv\", header = [0,1], index_col=[0])\n",
    "targets_df = pd.read_csv(path + \"Targets.csv\", index_col=[0])\n",
    "features_df = pd.read_csv(path + \"Features.csv\", header = [0,1], index_col=[0])\n",
    "exps = pd.read_csv('data\\\\ETF_info.csv', index_col=0).loc[env_df[['EQ', 'EM', 'RE', 'FI']].columns.droplevel(), 'Expense Ratio'].astype(float)\n",
    "data = HistoricalData(env_df, features_df, targets_df)\n",
    "\n",
    "date = Timestamp('2014-03-01') + MonthEnd(0)\n",
    "date_end = date + MonthEnd(62)\n",
    "env_now = Environment(*data.get_env_args(date))\n",
    "rp = RiskParity(data)\n"
   ]
  },
  {
   "cell_type": "markdown",
   "metadata": {},
   "source": [
    "### Initializing stuff"
   ]
  },
  {
   "cell_type": "code",
   "execution_count": 3,
   "metadata": {},
   "outputs": [],
   "source": [
    "usd = 200000/env_now.fx['CAD']\n",
    "w_dict = rp.get_weights_ac(date)\n",
    "pos_dict = Portfolio.weights_to_pos(w_dict, env_now, usd)\n",
    "pos_dict = Portfolio.etf_dict_from_names(pos_dict)\n",
    "icash = instrument.Cash('USD')\n",
    "pos_dict[icash] = 0"
   ]
  },
  {
   "cell_type": "code",
   "execution_count": 4,
   "metadata": {},
   "outputs": [],
   "source": [
    "my_pf = Portfolio(pos_dict)\n",
    "etf_w = 0.999\n",
    "etf_total_val= my_pf.calc_value(env_now)*etf_w\n",
    "opt_total_val = my_pf.calc_value(env_now)*(1-etf_w)\n",
    "\n",
    "my_pf.rebalance(env_now, Portfolio.weights_to_pos(w_dict, env_now, etf_total_val), exps, time_past=0)\n",
    "\n",
    "\n",
    "C = 0.95\n",
    "ttm=2\n",
    "specs = [{'name':'SPY Put', 'ccy':'USD', 'is_call':0, 'ul':'SPY US Equity'}]\n",
    "\n",
    "cost = Portfolio.get_opt_strategy_price(env_now, specs, [1], [C], ttm=ttm)\n",
    "nopt = opt_total_val/cost\n",
    "ofee, ospread = my_pf.buy_options(env_now, specs, [nopt], [C], ttm=ttm)\n",
    "\n",
    "last_pf_val = my_pf.calc_value(env_now)\n",
    "last_etf_val = my_pf.get_eq_value(env_now)\n",
    "\n",
    "last_eq_val = my_pf.get_names_value(env_now, env_df['EQ'].columns)\n",
    "last_fi_val = my_pf.get_names_value(env_now, env_df['FI'].columns)\n",
    "last_re_val = my_pf.get_names_value(env_now, env_df['RE'].columns)\n",
    "last_em_val = my_pf.get_names_value(env_now, env_df['EM'].columns)\n",
    "\n",
    "last_opt_val = my_pf.get_options_value(env_now)\n",
    "\n"
   ]
  },
  {
   "cell_type": "markdown",
   "metadata": {},
   "source": [
    "### Set up performance df"
   ]
  },
  {
   "cell_type": "code",
   "execution_count": 5,
   "metadata": {},
   "outputs": [],
   "source": [
    "perf_df = pd.DataFrame(index = pd.date_range(start=date, end=date_end, freq='M'))\n",
    "\n",
    "# us and cad portf values after rebalancing each month\n",
    "perf_df['USD Value'] = 0\n",
    "perf_df['CAD Value'] = 0\n",
    "\n",
    "perf_df['PNL'] = np.nan  # PNL before rebalancing\n",
    "perf_df['Post-trading PNL'] = np.nan  # PNL after trading fees and expenses\n",
    "perf_df['Post-fee PNL'] = np.nan  # PNL after trading fees and expenses and advisor fees\n",
    "\n",
    "# PNL attributions for ETFs\n",
    "perf_df['ETF PNL'] = np.nan\n",
    "perf_df['EQ PNL'] = np.nan\n",
    "perf_df['FI PNL'] = np.nan\n",
    "perf_df['EM PNL'] = np.nan\n",
    "perf_df['RE PNL'] = np.nan\n",
    "\n",
    "# PNL attributions for Options\n",
    "perf_df['Option PNL'] = np.nan\n",
    "perf_df['Delta PNL'] = np.nan\n",
    "perf_df['Vega PNL'] = np.nan\n",
    "perf_df['Theta PNL'] = np.nan\n",
    "perf_df['Rho PNL'] = np.nan\n",
    "perf_df['Unexplained PNL'] = np.nan\n",
    "\n",
    "# below is the PNL values divided by the portfolio value at the end of last rebalancing (returns)\n",
    "perf_df['Return'] = np.nan\n",
    "perf_df['Post-trading Return'] = np.nan\n",
    "perf_df['Post-fee Return'] = np.nan\n",
    "\n",
    "perf_df['ETF Return'] = np.nan\n",
    "perf_df['EQ Return'] = np.nan\n",
    "perf_df['FI Return'] = np.nan\n",
    "perf_df['EM Return'] = np.nan\n",
    "perf_df['RE Return'] = np.nan\n",
    "\n",
    "perf_df['Option Return'] = np.nan\n",
    "perf_df['Delta Return'] = np.nan\n",
    "perf_df['Vega Return'] = np.nan\n",
    "perf_df['Theta Return'] = np.nan\n",
    "perf_df['Rho Return'] = np.nan\n",
    "perf_df['Unexplained Return'] = np.nan\n",
    "\n",
    "\n",
    "perf_df['Injection'] = 0  # injectios of 20k CAD\n",
    "perf_df['FX'] = env_now.fx['CAD']  # fx for converting CAD to USD\n",
    "\n",
    "# ETF trading fees and management expenses in $\n",
    "perf_df['ETF Fees'] = 0\n",
    "perf_df['ETF Expenses'] = 0\n",
    "\n",
    "# option trading fees and bid-ask spread losses in $\n",
    "perf_df['Option Fees'] = ofee\n",
    "perf_df['Option Spread'] = ospread\n",
    "\n",
    "# total trading fees, expenses and spread losses in $\n",
    "perf_df['Total Trading Fees'] = 0\n",
    "\n",
    "# total advisor fees in $\n",
    "perf_df['Advisor Fees'] = 0\n",
    "# total fees in $\n",
    "perf_df['Total Fees'] = 0\n",
    "\n",
    "# total trading fees, expenses and spread losses as a fraction of pre-rebalancing portfolio value\n",
    "perf_df['Percentage Trading Fees'] = 0\n",
    "\n",
    "# total advisor fees as a fraction of pre-rebalancing portfolio value\n",
    "perf_df['Percentage Advisor Fees'] = 0\n",
    "\n",
    "# total fees as a fraction of pre-rebalancing portfolio value\n",
    "perf_df['Percentage Fees'] = 0\n",
    "\n"
   ]
  },
  {
   "cell_type": "markdown",
   "metadata": {},
   "source": [
    "### Run sim/backtest"
   ]
  },
  {
   "cell_type": "code",
   "execution_count": 6,
   "metadata": {},
   "outputs": [],
   "source": [
    "perf_df.loc[date, 'USD Value'] = my_pf.calc_value(env_now)\n",
    "perf_df.loc[date, 'CAD Value'] = my_pf.calc_value(env_now, ccy='CAD')\n",
    "perf_df.loc[date, 'Return'] = np.nan\n",
    "perf_df.loc[date, 'PNL'] = np.nan\n",
    "\n",
    "while date < date_end:\n",
    "    # print(my_pf.pf_units[my_pf.get_cash('USD')])\n",
    "    date = date + MonthEnd(1)\n",
    "    env_before = deepcopy(env_now)\n",
    "    env_now = Environment(*data.get_env_args(date))\n",
    "    \n",
    "    #if env_now.surfaces['SPY US Equity'].matrix[1,5] > 0.20:\n",
    "    #    # print(date, \": high vol of {:.2f}\".format(env_now.surfaces['SPY US Equity'].matrix[1,5]))\n",
    "    #    etf_w = 1\n",
    "    #else:\n",
    "    #    etf_w = 0.98\n",
    "    \n",
    "    new_pf_val = my_pf.calc_value(env_now)\n",
    "    new_etf_val = my_pf.get_eq_value(env_now)\n",
    "    new_opt_val = my_pf.get_options_value(env_now)\n",
    "    new_eq_val = my_pf.get_names_value(env_now, env_df['EQ'].columns)\n",
    "    new_fi_val = my_pf.get_names_value(env_now, env_df['FI'].columns)\n",
    "    new_re_val = my_pf.get_names_value(env_now, env_df['RE'].columns)\n",
    "    new_em_val = my_pf.get_names_value(env_now, env_df['EM'].columns)\n",
    "    \n",
    "    w_dict = rp.get_weights_ac(date)\n",
    "    \n",
    "    \n",
    "    etf_total_val= my_pf.calc_value(env_now)*etf_w\n",
    "    opt_total_val = my_pf.calc_value(env_now)*(1-etf_w)\n",
    "    \n",
    "\n",
    "    perf_df.loc[date, 'FX'] = env_now.fx['CAD']\n",
    "    \n",
    "    # add injection if it happened\n",
    "    if (date.month == 8) or (date.month == 2):\n",
    "        my_pf.pf_units[my_pf.get_cash('USD')] += 20000/env_now.fx['CAD']\n",
    "        perf_df.loc[date, 'Injection'] = 20000/env_now.fx['CAD']\n",
    "     \n",
    "    # collect our robo fees\n",
    "    adv_fee = my_pf.calc_value(env_now)*0.004/12/env_now.fx['CAD']\n",
    "    my_pf.pf_units[my_pf.get_cash('USD')] -= adv_fee\n",
    "    perf_df.loc[date, 'Advisor Fees'] = adv_fee\n",
    "    \n",
    "    # record pnls\n",
    "    perf_df.loc[date, 'PNL'] = new_pf_val - last_pf_val # post-old and pre-new rebalancing pnl (pure portfolio growth)\n",
    "    perf_df.loc[date, 'ETF PNL'] = new_etf_val - last_etf_val\n",
    "    perf_df.loc[date, 'Option PNL'] = new_opt_val - last_opt_val\n",
    "    \n",
    "    \n",
    "    attribs = my_pf.get_pnl_attr(env_before, env_now)\n",
    "    perf_df.loc[date, 'Delta PNL'] = attribs['delta']\n",
    "    perf_df.loc[date, 'Vega PNL'] = attribs['vega']\n",
    "    perf_df.loc[date, 'Theta PNL'] = attribs['theta']\n",
    "    perf_df.loc[date, 'Rho PNL'] = attribs['rho']\n",
    "    perf_df.loc[date, 'Unexplained PNL'] = perf_df.loc[date, 'Option PNL'] -\\\n",
    "            attribs['delta'] - attribs['vega'] - attribs['theta'] - attribs['rho']\n",
    "    \n",
    "    perf_df.loc[date, 'EQ PNL'] = new_eq_val - last_eq_val\n",
    "    perf_df.loc[date, 'FI PNL'] = new_fi_val - last_fi_val\n",
    "    perf_df.loc[date, 'EM PNL'] = new_em_val - last_em_val\n",
    "    perf_df.loc[date, 'RE PNL'] = new_re_val - last_re_val\n",
    "    \n",
    "    perf_df.loc[date, 'Return'] = (new_pf_val - last_pf_val)/last_pf_val \n",
    "    perf_df.loc[date, 'ETF Return'] = (new_etf_val - last_etf_val)/last_pf_val\n",
    "    perf_df.loc[date, 'Option Return'] = (new_opt_val - last_opt_val)/last_pf_val\n",
    "    perf_df.loc[date, 'Delta Return'] = attribs['delta']/last_pf_val\n",
    "    perf_df.loc[date, 'Vega Return'] = attribs['vega']/last_pf_val\n",
    "    perf_df.loc[date, 'Theta Return'] = attribs['theta']/last_pf_val\n",
    "    perf_df.loc[date, 'Rho Return'] = attribs['rho']/last_pf_val\n",
    "    perf_df.loc[date, 'Unexplained Return'] = perf_df.loc[date, 'Unexplained PNL']/last_pf_val\n",
    "    \n",
    "    perf_df.loc[date, 'EQ Return'] = (new_eq_val - last_eq_val)/last_pf_val\n",
    "    perf_df.loc[date, 'FI Return'] = (new_fi_val - last_fi_val)/last_pf_val\n",
    "    perf_df.loc[date, 'EM Return'] = (new_em_val - last_em_val)/last_pf_val\n",
    "    perf_df.loc[date, 'RE Return'] = (new_re_val - last_re_val)/last_pf_val\n",
    "    \n",
    "    \n",
    "    efee, eexps = my_pf.rebalance(env_now, Portfolio.weights_to_pos(w_dict, env_now, etf_total_val), exps)\n",
    "    ofee, ospread = my_pf.sell_options(env_now)\n",
    "    \n",
    "    # re-buy options\n",
    "    \n",
    "    cost = Portfolio.get_opt_strategy_price(env_now, specs, [1], [C], ttm=ttm)\n",
    "    nopt = opt_total_val/cost    \n",
    "    ofee_buy, ospread_buy = my_pf.buy_options(env_now, specs, [nopt], [C], ttm=ttm)\n",
    "    ofee += ofee_buy\n",
    "    ospread += ospread_buy\n",
    "    # record post-rebalancing (next month starting) portf value\n",
    "    perf_df.loc[date, 'USD Value'] = my_pf.calc_value(env_now)\n",
    "    perf_df.loc[date, 'CAD Value'] = my_pf.calc_value(env_now, ccy='CAD')\n",
    "    \n",
    "    # record pnl after paying trading fees and robo fees\n",
    "    perf_df.loc[date, 'Post-fee Return'] = (perf_df.loc[date, 'USD Value'] - perf_df.loc[date, 'Injection'])/perf_df.loc[date + MonthEnd(-1), 'USD Value'] - 1\n",
    "    perf_df.loc[date, 'Post-fee PNL'] = (perf_df.loc[date, 'USD Value'] - perf_df.loc[date, 'Injection']) - perf_df.loc[date + MonthEnd(-1), 'USD Value']\n",
    "    \n",
    "    # record pnl after paying trading fees but before robo fees\n",
    "    perf_df.loc[date, 'Post-trading Return'] = (perf_df.loc[date, 'USD Value'] - perf_df.loc[date, 'Injection'] + perf_df.loc[date, 'Advisor Fees'])/perf_df.loc[date + MonthEnd(-1), 'USD Value'] - 1\n",
    "    perf_df.loc[date, 'Post-trading PNL'] = (perf_df.loc[date, 'USD Value'] - perf_df.loc[date, 'Injection'] + perf_df.loc[date, 'Advisor Fees']) - perf_df.loc[date + MonthEnd(-1), 'USD Value']\n",
    "    \n",
    "    # record fees\n",
    "    perf_df.loc[date, 'ETF Fees'] = efee\n",
    "    perf_df.loc[date, 'ETF Expenses'] = eexps\n",
    "    perf_df.loc[date, 'Option Fees'] = ofee\n",
    "    perf_df.loc[date, 'Option Spread'] = ospread\n",
    "    perf_df.loc[date, 'Total Trading Fees'] = ofee + eexps + efee + ospread\n",
    "    perf_df.loc[date, 'Percentage Trading Fees'] = (ofee + eexps + efee + ospread)/last_pf_val\n",
    "    perf_df.loc[date, 'Percentage Advisor Fees'] = adv_fee/last_pf_val\n",
    "    perf_df.loc[date, 'Total Fees'] = ofee + eexps + efee + ospread + adv_fee\n",
    "    perf_df.loc[date, 'Percentage Fees'] = (ofee + eexps + efee + ospread + adv_fee)/last_pf_val\n",
    "    \n",
    "    \n",
    "    \n",
    "    # record post rebalancing values for opts and eqs\n",
    "    last_pf_val = my_pf.calc_value(env_now)\n",
    "    last_etf_val = my_pf.get_eq_value(env_now)\n",
    "    last_opt_val = my_pf.get_options_value(env_now)\n",
    "    last_eq_val = my_pf.get_names_value(env_now, env_df['EQ'].columns)\n",
    "    last_fi_val = my_pf.get_names_value(env_now, env_df['FI'].columns)\n",
    "    last_re_val = my_pf.get_names_value(env_now, env_df['RE'].columns)\n",
    "    last_em_val = my_pf.get_names_value(env_now, env_df['EM'].columns)\n",
    "    \n",
    "    #####\n",
    "    # my_pf.get_forw_risk(env_now: Environment, dist: Distribution, N=1000) vector of 1000 simulated forward pnls\n",
    "    # -> self.emp_dist = xxxx\n",
    "    # -> my_pf.calc_var()\n",
    "    # -->   return -np.percentile(self.emp_dist, 5)\n",
    "    # -> my_pf.calc_cvar()\n",
    "    \n",
    "    \n",
    "    #####\n",
    "    "
   ]
  },
  {
   "cell_type": "code",
   "execution_count": 7,
   "metadata": {},
   "outputs": [
    {
     "data": {
      "text/plain": [
       "{'delta': -0.16799499965867745,\n",
       " 'gamma': 0.012042547282507404,\n",
       " 'vega': 38.30930826858893,\n",
       " 'theta': -15.333927864742316,\n",
       " 'rho': 48.268174809426874}"
      ]
     },
     "execution_count": 7,
     "metadata": {},
     "output_type": "execute_result"
    }
   ],
   "source": [
    "my_pf.get_options()[0].get_greeks(env_now)"
   ]
  },
  {
   "cell_type": "code",
   "execution_count": 8,
   "metadata": {},
   "outputs": [
    {
     "name": "stderr",
     "output_type": "stream",
     "text": [
      "c:\\users\\telon\\appdata\\local\\programs\\python\\python36\\lib\\site-packages\\pandas\\core\\indexing.py:362: SettingWithCopyWarning: \n",
      "A value is trying to be set on a copy of a slice from a DataFrame.\n",
      "Try using .loc[row_indexer,col_indexer] = value instead\n",
      "\n",
      "See the caveats in the documentation: http://pandas.pydata.org/pandas-docs/stable/indexing.html#indexing-view-versus-copy\n",
      "  self.obj[key] = _infer_fill_value(value)\n",
      "c:\\users\\telon\\appdata\\local\\programs\\python\\python36\\lib\\site-packages\\pandas\\core\\indexing.py:366: SettingWithCopyWarning: \n",
      "A value is trying to be set on a copy of a slice from a DataFrame\n",
      "\n",
      "See the caveats in the documentation: http://pandas.pydata.org/pandas-docs/stable/indexing.html#indexing-view-versus-copy\n",
      "  self._setitem_with_indexer(new_indexer, value)\n",
      "c:\\users\\telon\\appdata\\local\\programs\\python\\python36\\lib\\site-packages\\pandas\\core\\indexing.py:189: SettingWithCopyWarning: \n",
      "A value is trying to be set on a copy of a slice from a DataFrame\n",
      "\n",
      "See the caveats in the documentation: http://pandas.pydata.org/pandas-docs/stable/indexing.html#indexing-view-versus-copy\n",
      "  self._setitem_with_indexer(indexer, value)\n"
     ]
    },
    {
     "data": {
      "text/html": [
       "<div>\n",
       "<style scoped>\n",
       "    .dataframe tbody tr th:only-of-type {\n",
       "        vertical-align: middle;\n",
       "    }\n",
       "\n",
       "    .dataframe tbody tr th {\n",
       "        vertical-align: top;\n",
       "    }\n",
       "\n",
       "    .dataframe thead th {\n",
       "        text-align: right;\n",
       "    }\n",
       "</style>\n",
       "<table border=\"1\" class=\"dataframe\">\n",
       "  <thead>\n",
       "    <tr style=\"text-align: right;\">\n",
       "      <th></th>\n",
       "      <th>Option PNL</th>\n",
       "      <th>Delta PNL</th>\n",
       "      <th>Vega PNL</th>\n",
       "      <th>Theta PNL</th>\n",
       "      <th>Rho PNL</th>\n",
       "      <th>Unexplained PNL</th>\n",
       "      <th>UL</th>\n",
       "    </tr>\n",
       "  </thead>\n",
       "  <tbody>\n",
       "    <tr>\n",
       "      <th>2014-03-31</th>\n",
       "      <td>NaN</td>\n",
       "      <td>NaN</td>\n",
       "      <td>NaN</td>\n",
       "      <td>NaN</td>\n",
       "      <td>NaN</td>\n",
       "      <td>NaN</td>\n",
       "      <td>229.8109</td>\n",
       "    </tr>\n",
       "    <tr>\n",
       "      <th>2014-04-30</th>\n",
       "      <td>-155.327615</td>\n",
       "      <td>-51.022398</td>\n",
       "      <td>-47.926045</td>\n",
       "      <td>-159.931806</td>\n",
       "      <td>0.000000</td>\n",
       "      <td>103.552634</td>\n",
       "      <td>231.4084</td>\n",
       "    </tr>\n",
       "    <tr>\n",
       "      <th>2014-05-31</th>\n",
       "      <td>-165.534498</td>\n",
       "      <td>-97.631753</td>\n",
       "      <td>-80.167598</td>\n",
       "      <td>-166.485757</td>\n",
       "      <td>1.319109</td>\n",
       "      <td>177.431502</td>\n",
       "      <td>236.7786</td>\n",
       "    </tr>\n",
       "    <tr>\n",
       "      <th>2014-06-30</th>\n",
       "      <td>-165.314479</td>\n",
       "      <td>-97.156283</td>\n",
       "      <td>-84.039914</td>\n",
       "      <td>-177.555426</td>\n",
       "      <td>-1.673135</td>\n",
       "      <td>195.110279</td>\n",
       "      <td>241.6641</td>\n",
       "    </tr>\n",
       "    <tr>\n",
       "      <th>2014-07-31</th>\n",
       "      <td>181.123375</td>\n",
       "      <td>214.743680</td>\n",
       "      <td>284.371513</td>\n",
       "      <td>-192.411545</td>\n",
       "      <td>0.000000</td>\n",
       "      <td>-125.580273</td>\n",
       "      <td>238.4168</td>\n",
       "    </tr>\n",
       "  </tbody>\n",
       "</table>\n",
       "</div>"
      ],
      "text/plain": [
       "            Option PNL   Delta PNL    Vega PNL   Theta PNL   Rho PNL  \\\n",
       "2014-03-31         NaN         NaN         NaN         NaN       NaN   \n",
       "2014-04-30 -155.327615  -51.022398  -47.926045 -159.931806  0.000000   \n",
       "2014-05-31 -165.534498  -97.631753  -80.167598 -166.485757  1.319109   \n",
       "2014-06-30 -165.314479  -97.156283  -84.039914 -177.555426 -1.673135   \n",
       "2014-07-31  181.123375  214.743680  284.371513 -192.411545  0.000000   \n",
       "\n",
       "            Unexplained PNL        UL  \n",
       "2014-03-31              NaN  229.8109  \n",
       "2014-04-30       103.552634  231.4084  \n",
       "2014-05-31       177.431502  236.7786  \n",
       "2014-06-30       195.110279  241.6641  \n",
       "2014-07-31      -125.580273  238.4168  "
      ]
     },
     "execution_count": 8,
     "metadata": {},
     "output_type": "execute_result"
    }
   ],
   "source": [
    "sub_df = perf_df[['Option PNL', 'Delta PNL', 'Vega PNL', 'Theta PNL', 'Rho PNL', 'Unexplained PNL']]\n",
    "sub_df.loc[sub_df.index, 'UL'] = env_df['EQ'].loc[sub_df.index, 'SPY US Equity']\n",
    "sub_df.head()"
   ]
  },
  {
   "cell_type": "code",
   "execution_count": 9,
   "metadata": {},
   "outputs": [
    {
     "data": {
      "text/html": [
       "<div>\n",
       "<style scoped>\n",
       "    .dataframe tbody tr th:only-of-type {\n",
       "        vertical-align: middle;\n",
       "    }\n",
       "\n",
       "    .dataframe tbody tr th {\n",
       "        vertical-align: top;\n",
       "    }\n",
       "\n",
       "    .dataframe thead th {\n",
       "        text-align: right;\n",
       "    }\n",
       "</style>\n",
       "<table border=\"1\" class=\"dataframe\">\n",
       "  <thead>\n",
       "    <tr style=\"text-align: right;\">\n",
       "      <th></th>\n",
       "      <th>ETF Fees</th>\n",
       "      <th>ETF Expenses</th>\n",
       "      <th>Option Fees</th>\n",
       "      <th>Option Spread</th>\n",
       "      <th>Total Trading Fees</th>\n",
       "      <th>Advisor Fees</th>\n",
       "      <th>Total Fees</th>\n",
       "    </tr>\n",
       "  </thead>\n",
       "  <tbody>\n",
       "    <tr>\n",
       "      <th>2014-03-31</th>\n",
       "      <td>0.00</td>\n",
       "      <td>0.000000</td>\n",
       "      <td>13.533088</td>\n",
       "      <td>6.177278</td>\n",
       "      <td>0.000000</td>\n",
       "      <td>0.000000</td>\n",
       "      <td>0.000000</td>\n",
       "    </tr>\n",
       "    <tr>\n",
       "      <th>2014-04-30</th>\n",
       "      <td>69.30</td>\n",
       "      <td>32.923798</td>\n",
       "      <td>27.497277</td>\n",
       "      <td>7.424404</td>\n",
       "      <td>137.145479</td>\n",
       "      <td>55.736831</td>\n",
       "      <td>192.882311</td>\n",
       "    </tr>\n",
       "    <tr>\n",
       "      <th>2014-05-31</th>\n",
       "      <td>94.05</td>\n",
       "      <td>33.206072</td>\n",
       "      <td>28.815788</td>\n",
       "      <td>7.574583</td>\n",
       "      <td>163.646443</td>\n",
       "      <td>57.093942</td>\n",
       "      <td>220.740384</td>\n",
       "    </tr>\n",
       "    <tr>\n",
       "      <th>2014-06-30</th>\n",
       "      <td>79.20</td>\n",
       "      <td>33.899939</td>\n",
       "      <td>32.020751</td>\n",
       "      <td>9.332736</td>\n",
       "      <td>154.453425</td>\n",
       "      <td>58.448375</td>\n",
       "      <td>212.901800</td>\n",
       "    </tr>\n",
       "    <tr>\n",
       "      <th>2014-07-31</th>\n",
       "      <td>64.35</td>\n",
       "      <td>33.461013</td>\n",
       "      <td>29.647333</td>\n",
       "      <td>15.449765</td>\n",
       "      <td>142.908111</td>\n",
       "      <td>57.061255</td>\n",
       "      <td>199.969366</td>\n",
       "    </tr>\n",
       "  </tbody>\n",
       "</table>\n",
       "</div>"
      ],
      "text/plain": [
       "            ETF Fees  ETF Expenses  Option Fees  Option Spread  \\\n",
       "2014-03-31      0.00      0.000000    13.533088       6.177278   \n",
       "2014-04-30     69.30     32.923798    27.497277       7.424404   \n",
       "2014-05-31     94.05     33.206072    28.815788       7.574583   \n",
       "2014-06-30     79.20     33.899939    32.020751       9.332736   \n",
       "2014-07-31     64.35     33.461013    29.647333      15.449765   \n",
       "\n",
       "            Total Trading Fees  Advisor Fees  Total Fees  \n",
       "2014-03-31            0.000000      0.000000    0.000000  \n",
       "2014-04-30          137.145479     55.736831  192.882311  \n",
       "2014-05-31          163.646443     57.093942  220.740384  \n",
       "2014-06-30          154.453425     58.448375  212.901800  \n",
       "2014-07-31          142.908111     57.061255  199.969366  "
      ]
     },
     "execution_count": 9,
     "metadata": {},
     "output_type": "execute_result"
    }
   ],
   "source": [
    "# total trading fees, expenses and spread losses as a fraction of pre-rebalancing portfolio value\n",
    "#perf_df['Percentage Trading Fees'] = 0\n",
    "# total fees as a fraction of pre-rebalancing portfolio value\n",
    "#perf_df['Percentage Fees'] = 0\n",
    "fee_df = perf_df[['ETF Fees', 'ETF Expenses', 'Option Fees', 'Option Spread', 'Total Trading Fees', 'Advisor Fees', 'Total Fees']]\n",
    "fee_df.head()"
   ]
  },
  {
   "cell_type": "code",
   "execution_count": 10,
   "metadata": {},
   "outputs": [
    {
     "data": {
      "text/html": [
       "<div>\n",
       "<style scoped>\n",
       "    .dataframe tbody tr th:only-of-type {\n",
       "        vertical-align: middle;\n",
       "    }\n",
       "\n",
       "    .dataframe tbody tr th {\n",
       "        vertical-align: top;\n",
       "    }\n",
       "\n",
       "    .dataframe thead th {\n",
       "        text-align: right;\n",
       "    }\n",
       "</style>\n",
       "<table border=\"1\" class=\"dataframe\">\n",
       "  <thead>\n",
       "    <tr style=\"text-align: right;\">\n",
       "      <th></th>\n",
       "      <th>Return</th>\n",
       "      <th>ETF Return</th>\n",
       "      <th>Option Return</th>\n",
       "      <th>Percentage Trading Fees</th>\n",
       "      <th>Percentage Advisor Fees</th>\n",
       "      <th>Post-trading Return</th>\n",
       "      <th>Post-fee Return</th>\n",
       "    </tr>\n",
       "  </thead>\n",
       "  <tbody>\n",
       "    <tr>\n",
       "      <th>2014-03-31</th>\n",
       "      <td>NaN</td>\n",
       "      <td>NaN</td>\n",
       "      <td>NaN</td>\n",
       "      <td>0.000000</td>\n",
       "      <td>0.000000</td>\n",
       "      <td>NaN</td>\n",
       "      <td>NaN</td>\n",
       "    </tr>\n",
       "    <tr>\n",
       "      <th>2014-04-30</th>\n",
       "      <td>0.013487</td>\n",
       "      <td>0.014346</td>\n",
       "      <td>-0.000859</td>\n",
       "      <td>0.000758</td>\n",
       "      <td>0.000308</td>\n",
       "      <td>0.012729</td>\n",
       "      <td>0.012421</td>\n",
       "    </tr>\n",
       "    <tr>\n",
       "      <th>2014-05-31</th>\n",
       "      <td>0.014576</td>\n",
       "      <td>0.015480</td>\n",
       "      <td>-0.000904</td>\n",
       "      <td>0.000894</td>\n",
       "      <td>0.000312</td>\n",
       "      <td>0.013682</td>\n",
       "      <td>0.013371</td>\n",
       "    </tr>\n",
       "    <tr>\n",
       "      <th>2014-06-30</th>\n",
       "      <td>0.008393</td>\n",
       "      <td>0.009284</td>\n",
       "      <td>-0.000891</td>\n",
       "      <td>0.000832</td>\n",
       "      <td>0.000315</td>\n",
       "      <td>0.007561</td>\n",
       "      <td>0.007246</td>\n",
       "    </tr>\n",
       "    <tr>\n",
       "      <th>2014-07-31</th>\n",
       "      <td>-0.001031</td>\n",
       "      <td>-0.002000</td>\n",
       "      <td>0.000969</td>\n",
       "      <td>0.000765</td>\n",
       "      <td>0.000305</td>\n",
       "      <td>-0.001796</td>\n",
       "      <td>-0.002101</td>\n",
       "    </tr>\n",
       "  </tbody>\n",
       "</table>\n",
       "</div>"
      ],
      "text/plain": [
       "              Return  ETF Return  Option Return  Percentage Trading Fees  \\\n",
       "2014-03-31       NaN         NaN            NaN                 0.000000   \n",
       "2014-04-30  0.013487    0.014346      -0.000859                 0.000758   \n",
       "2014-05-31  0.014576    0.015480      -0.000904                 0.000894   \n",
       "2014-06-30  0.008393    0.009284      -0.000891                 0.000832   \n",
       "2014-07-31 -0.001031   -0.002000       0.000969                 0.000765   \n",
       "\n",
       "            Percentage Advisor Fees  Post-trading Return  Post-fee Return  \n",
       "2014-03-31                 0.000000                  NaN              NaN  \n",
       "2014-04-30                 0.000308             0.012729         0.012421  \n",
       "2014-05-31                 0.000312             0.013682         0.013371  \n",
       "2014-06-30                 0.000315             0.007561         0.007246  \n",
       "2014-07-31                 0.000305            -0.001796        -0.002101  "
      ]
     },
     "execution_count": 10,
     "metadata": {},
     "output_type": "execute_result"
    }
   ],
   "source": [
    "# total trading fees, expenses and spread losses as a fraction of pre-rebalancing portfolio value\n",
    "#perf_df['Percentage Trading Fees'] = 0\n",
    "# total fees as a fraction of pre-rebalancing portfolio value\n",
    "#perf_df['Percentage Fees'] = 0\n",
    "pct_df = perf_df[['Return', 'ETF Return', 'Option Return', 'Percentage Trading Fees', 'Percentage Advisor Fees', 'Post-trading Return', 'Post-fee Return']]\n",
    "pct_df.head()"
   ]
  },
  {
   "cell_type": "code",
   "execution_count": 11,
   "metadata": {},
   "outputs": [
    {
     "name": "stdout",
     "output_type": "stream",
     "text": [
      "2014-03-31             NaN\n",
      "2014-04-30    1.734723e-18\n",
      "2014-05-31   -7.285839e-17\n",
      "2014-06-30    1.561251e-17\n",
      "2014-07-31    9.389191e-17\n",
      "Freq: M, dtype: float64\n",
      "2014-03-31             NaN\n",
      "2014-04-30    2.411266e-16\n",
      "2014-05-31    3.989864e-17\n",
      "2014-06-30   -1.370432e-16\n",
      "2014-07-31   -2.662801e-16\n",
      "Freq: M, dtype: float64\n"
     ]
    }
   ],
   "source": [
    "# sanity checks of the decomp\n",
    "print((pct_df['ETF Return'] + pct_df['Option Return'] - pct_df['Return']).head())\n",
    "print((pct_df['Return'] - pct_df['Percentage Trading Fees'] - pct_df['Percentage Advisor Fees'] - pct_df['Post-fee Return']).head())"
   ]
  },
  {
   "cell_type": "markdown",
   "metadata": {},
   "source": [
    "### Evaluate performance"
   ]
  },
  {
   "cell_type": "code",
   "execution_count": 12,
   "metadata": {},
   "outputs": [
    {
     "data": {
      "text/plain": [
       "0.05075005650495612"
      ]
     },
     "execution_count": 12,
     "metadata": {},
     "output_type": "execute_result"
    }
   ],
   "source": [
    "irr_values = np.array([-perf_df['USD Value'].iloc[0]] + (-perf_df['Injection'].values).tolist())\n",
    "irr_values[-1] += perf_df['USD Value'].iloc[-1]\n",
    "np.irr(irr_values)*12"
   ]
  },
  {
   "cell_type": "code",
   "execution_count": 13,
   "metadata": {},
   "outputs": [
    {
     "name": "stdout",
     "output_type": "stream",
     "text": [
      "Mean: 5.1%\n",
      "Std: 4.8%\n",
      "VaR: 5.9%\n",
      "CVaR: 8.2%\n",
      "Sharpe: 1.0\n"
     ]
    }
   ],
   "source": [
    "ret_vec =  perf_df['Post-fee Return'].dropna().values\n",
    "# ret_vec = perf_df['Option Return'].dropna().values\n",
    "\n",
    "\n",
    "m = ret_vec.mean()*12\n",
    "s = ret_vec.std()*np.sqrt(12)\n",
    "var = -np.percentile(ret_vec, 5)*np.sqrt(12)\n",
    "cvar = -ret_vec[ret_vec<np.percentile(ret_vec, 5)].mean()*np.sqrt(12)\n",
    "print(\"Mean: {:.1f}%\\nStd: {:.1f}%\\nVaR: {:.1f}%\\nCVaR: {:.1f}%\".format(m*100, s*100, var*100, cvar*100))\n",
    "print(\"Sharpe: {:.1f}\".format(m/s))"
   ]
  },
  {
   "cell_type": "code",
   "execution_count": 14,
   "metadata": {},
   "outputs": [
    {
     "data": {
      "text/plain": [
       "<Figure size 640x480 with 1 Axes>"
      ]
     },
     "metadata": {},
     "output_type": "display_data"
    }
   ],
   "source": [
    "import matplotlib.pyplot as plt\n",
    "perf_df['Return'].dropna().hist()\n",
    "plt.show()"
   ]
  },
  {
   "cell_type": "code",
   "execution_count": 15,
   "metadata": {},
   "outputs": [
    {
     "name": "stdout",
     "output_type": "stream",
     "text": [
      "0.052574796635381005\n",
      "0.05100555666353147\n"
     ]
    }
   ],
   "source": [
    "print(perf_df['ETF Return'].std()*np.sqrt(12))\n",
    "print(perf_df['ETF Return'].mean()*12)"
   ]
  },
  {
   "cell_type": "code",
   "execution_count": 16,
   "metadata": {},
   "outputs": [
    {
     "name": "stdout",
     "output_type": "stream",
     "text": [
      "0.017954036586148345\n",
      "0.00950443428835309\n"
     ]
    }
   ],
   "source": [
    "print(perf_df['Option Return'].std()*np.sqrt(12))\n",
    "print(perf_df['Option Return'].mean()*12)"
   ]
  },
  {
   "cell_type": "code",
   "execution_count": 17,
   "metadata": {},
   "outputs": [],
   "source": [
    "my_pf.get_forward_pnl(env_now, data, 10000)"
   ]
  },
  {
   "cell_type": "markdown",
   "metadata": {},
   "source": [
    "### Risk stuff for current portfolio"
   ]
  },
  {
   "cell_type": "code",
   "execution_count": 18,
   "metadata": {},
   "outputs": [
    {
     "name": "stdout",
     "output_type": "stream",
     "text": [
      "Est. VaR loss: 2.62%\n",
      "Est. CVaR loss: 3.36%\n",
      "Est. Standard Deviation: 1.91%\n"
     ]
    }
   ],
   "source": [
    "#display these numbers somewhere in the report\n",
    "\n",
    "var_loss = my_pf.calc_var()/my_pf.calc_value(env_now)*100\n",
    "cvar_loss = my_pf.calc_es()/my_pf.calc_value(env_now)*100\n",
    "print(\"Est. VaR loss: {:.2f}%\".format(var_loss))\n",
    "print(\"Est. CVaR loss: {:.2f}%\".format(cvar_loss))\n",
    "\n",
    "std = np.std(my_pf.emp_dist)/my_pf.calc_value(env_now)*100\n",
    "print(\"Est. Standard Deviation: {:.2f}%\".format(std))"
   ]
  },
  {
   "cell_type": "code",
   "execution_count": 19,
   "metadata": {},
   "outputs": [
    {
     "data": {
      "text/html": [
       "<div>\n",
       "<style scoped>\n",
       "    .dataframe tbody tr th:only-of-type {\n",
       "        vertical-align: middle;\n",
       "    }\n",
       "\n",
       "    .dataframe tbody tr th {\n",
       "        vertical-align: top;\n",
       "    }\n",
       "\n",
       "    .dataframe thead th {\n",
       "        text-align: right;\n",
       "    }\n",
       "</style>\n",
       "<table border=\"1\" class=\"dataframe\">\n",
       "  <thead>\n",
       "    <tr style=\"text-align: right;\">\n",
       "      <th></th>\n",
       "      <th>Component VaR</th>\n",
       "    </tr>\n",
       "  </thead>\n",
       "  <tbody>\n",
       "    <tr>\n",
       "      <th>SPY US Equity</th>\n",
       "      <td>1.531531</td>\n",
       "    </tr>\n",
       "    <tr>\n",
       "      <th>EFA US Equity</th>\n",
       "      <td>2.036267</td>\n",
       "    </tr>\n",
       "    <tr>\n",
       "      <th>XLF US Equity</th>\n",
       "      <td>1.808123</td>\n",
       "    </tr>\n",
       "    <tr>\n",
       "      <th>XLK US Equity</th>\n",
       "      <td>1.578682</td>\n",
       "    </tr>\n",
       "    <tr>\n",
       "      <th>XLV US Equity</th>\n",
       "      <td>1.315718</td>\n",
       "    </tr>\n",
       "    <tr>\n",
       "      <th>XLP US Equity</th>\n",
       "      <td>1.117673</td>\n",
       "    </tr>\n",
       "    <tr>\n",
       "      <th>XLE US Equity</th>\n",
       "      <td>1.766251</td>\n",
       "    </tr>\n",
       "    <tr>\n",
       "      <th>EWJ US Equity</th>\n",
       "      <td>1.394563</td>\n",
       "    </tr>\n",
       "    <tr>\n",
       "      <th>XLU US Equity</th>\n",
       "      <td>1.164063</td>\n",
       "    </tr>\n",
       "    <tr>\n",
       "      <th>XLI US Equity</th>\n",
       "      <td>1.790158</td>\n",
       "    </tr>\n",
       "    <tr>\n",
       "      <th>EZU US Equity</th>\n",
       "      <td>2.384297</td>\n",
       "    </tr>\n",
       "    <tr>\n",
       "      <th>XLB US Equity</th>\n",
       "      <td>2.057805</td>\n",
       "    </tr>\n",
       "    <tr>\n",
       "      <th>IXN US Equity</th>\n",
       "      <td>1.789225</td>\n",
       "    </tr>\n",
       "    <tr>\n",
       "      <th>IYZ US Equity</th>\n",
       "      <td>1.565282</td>\n",
       "    </tr>\n",
       "    <tr>\n",
       "      <th>IEV US Equity</th>\n",
       "      <td>2.139124</td>\n",
       "    </tr>\n",
       "    <tr>\n",
       "      <th>TIP US Equity</th>\n",
       "      <td>5.839059</td>\n",
       "    </tr>\n",
       "    <tr>\n",
       "      <th>AGG US Equity</th>\n",
       "      <td>3.097445</td>\n",
       "    </tr>\n",
       "    <tr>\n",
       "      <th>IEF US Equity</th>\n",
       "      <td>2.467372</td>\n",
       "    </tr>\n",
       "    <tr>\n",
       "      <th>TLT US Equity</th>\n",
       "      <td>5.547901</td>\n",
       "    </tr>\n",
       "    <tr>\n",
       "      <th>SHY US Equity</th>\n",
       "      <td>-0.116875</td>\n",
       "    </tr>\n",
       "    <tr>\n",
       "      <th>LQD US Equity</th>\n",
       "      <td>7.124333</td>\n",
       "    </tr>\n",
       "    <tr>\n",
       "      <th>IYR US Equity</th>\n",
       "      <td>7.684634</td>\n",
       "    </tr>\n",
       "    <tr>\n",
       "      <th>RWR US Equity</th>\n",
       "      <td>7.957874</td>\n",
       "    </tr>\n",
       "    <tr>\n",
       "      <th>ICF US Equity</th>\n",
       "      <td>8.093142</td>\n",
       "    </tr>\n",
       "    <tr>\n",
       "      <th>EWZ US Equity</th>\n",
       "      <td>10.049504</td>\n",
       "    </tr>\n",
       "    <tr>\n",
       "      <th>ISMUF US Equity</th>\n",
       "      <td>8.328205</td>\n",
       "    </tr>\n",
       "    <tr>\n",
       "      <th>ILF US Equity</th>\n",
       "      <td>8.488643</td>\n",
       "    </tr>\n",
       "  </tbody>\n",
       "</table>\n",
       "</div>"
      ],
      "text/plain": [
       "                 Component VaR\n",
       "SPY US Equity         1.531531\n",
       "EFA US Equity         2.036267\n",
       "XLF US Equity         1.808123\n",
       "XLK US Equity         1.578682\n",
       "XLV US Equity         1.315718\n",
       "XLP US Equity         1.117673\n",
       "XLE US Equity         1.766251\n",
       "EWJ US Equity         1.394563\n",
       "XLU US Equity         1.164063\n",
       "XLI US Equity         1.790158\n",
       "EZU US Equity         2.384297\n",
       "XLB US Equity         2.057805\n",
       "IXN US Equity         1.789225\n",
       "IYZ US Equity         1.565282\n",
       "IEV US Equity         2.139124\n",
       "TIP US Equity         5.839059\n",
       "AGG US Equity         3.097445\n",
       "IEF US Equity         2.467372\n",
       "TLT US Equity         5.547901\n",
       "SHY US Equity        -0.116875\n",
       "LQD US Equity         7.124333\n",
       "IYR US Equity         7.684634\n",
       "RWR US Equity         7.957874\n",
       "ICF US Equity         8.093142\n",
       "EWZ US Equity        10.049504\n",
       "ISMUF US Equity       8.328205\n",
       "ILF US Equity         8.488643"
      ]
     },
     "execution_count": 19,
     "metadata": {},
     "output_type": "execute_result"
    }
   ],
   "source": [
    "#these are percentage risk contributions without options\n",
    "(my_pf.calc_risk_contribs(env_now)/my_pf.calc_risk_contribs(env_now).sum())*100"
   ]
  },
  {
   "cell_type": "code",
   "execution_count": 20,
   "metadata": {},
   "outputs": [
    {
     "data": {
      "text/plain": [
       "(array([   9.,  155.,  799., 2062., 2959., 2373., 1220.,  345.,   71.,\n",
       "           7.]),\n",
       " array([-26631.80473305, -20593.78768746, -14555.77064188,  -8517.75359629,\n",
       "         -2479.73655071,   3558.28049488,   9596.29754046,  15634.31458605,\n",
       "         21672.33163163,  27710.34867721,  33748.3657228 ]),\n",
       " <a list of 10 Patch objects>)"
      ]
     },
     "execution_count": 20,
     "metadata": {},
     "output_type": "execute_result"
    },
    {
     "data": {
      "image/png": "[encoded data removed]",
      "text/plain": [
       "<Figure size 432x288 with 1 Axes>"
      ]
     },
     "metadata": {
      "needs_background": "light"
     },
     "output_type": "display_data"
    }
   ],
   "source": [
    "#you can copy my_pf.emp_dist to excel and create a histogram there\n",
    "# ie my_pf.emp_dist\n",
    "plt.hist(my_pf.emp_dist)"
   ]
  },
  {
   "cell_type": "code",
   "execution_count": 21,
   "metadata": {},
   "outputs": [
    {
     "data": {
      "text/plain": [
       "2016-11-30    2.909719\n",
       "2014-09-30    2.477936\n",
       "2018-02-28    2.125955\n",
       "2015-06-30    1.641681\n",
       "2015-05-31    1.183936\n",
       "Name: Return, dtype: float64"
      ]
     },
     "execution_count": 21,
     "metadata": {},
     "output_type": "execute_result"
    }
   ],
   "source": [
    "#backtested VaR shows reasonable results\n",
    "-(perf_df['Return']).sort_values()[0:5]*100"
   ]
  },
  {
   "cell_type": "code",
   "execution_count": 22,
   "metadata": {},
   "outputs": [],
   "source": [
    "greeks = my_pf.calc_opt_greeks(env_now)"
   ]
  },
  {
   "cell_type": "code",
   "execution_count": 23,
   "metadata": {
    "scrolled": true
   },
   "outputs": [
    {
     "name": "stdout",
     "output_type": "stream",
     "text": [
      "-130.1460149941831\n",
      "17.427043159861345\n",
      "79.43977529591336\n",
      "-264.9755892742249\n"
     ]
    }
   ],
   "source": [
    "#potential(expected) PnL given a reasonable movement\n",
    "print(greeks['delta']*env_now.prices['SPY US Equity']*0.01)\n",
    "#we expect 1% movement in SPY over 1 month\n",
    "print(0.5*greeks['gamma']*(env_now.prices['SPY US Equity']*0.01)**2)\n",
    "print(greeks['vega']*0.01)\n",
    "#we might expect a 1% move in vega\n",
    "print(greeks['theta']/12)\n",
    "# literally from 1 month of theta"
   ]
  },
  {
   "cell_type": "code",
   "execution_count": 24,
   "metadata": {},
   "outputs": [
    {
     "data": {
      "text/plain": [
       "414769.60897391743"
      ]
     },
     "execution_count": 24,
     "metadata": {},
     "output_type": "execute_result"
    }
   ],
   "source": [
    "#scenario analysis \n",
    "from historical import Distribution, ShockMap\n",
    "\n",
    "\n",
    "dist = Distribution(data, date, method = \"Normal\")\n",
    "sm = ShockMap(data, date)\n",
    "curr_port_value = my_pf.calc_value(env_now)\n",
    "#print(curr_port_value)\n",
    "pnl = []\n",
    "\n",
    "#GDP down 1% monthly\n",
    "sim_fact_shock = dist.generate_cond_shock_cf('GDP Change', condition = -0.01)\n",
    "sim_shock = sm.map_factors(sim_fact_shock)\n",
    "sim_env = env_now.simulate(sim_shock)\n",
    "#print(my_pf.calc_value(sim_env) - curr_port_value)\n",
    "pnl.append(my_pf.calc_value(sim_env) - curr_port_value)\n",
    "\n",
    "#Volatility up 50% \n",
    "sim_fact_shock = dist.generate_cond_shock_cf('IVMID Change', condition = 0.50)\n",
    "sim_shock = sm.map_factors(sim_fact_shock)\n",
    "sim_env = env_now.simulate(sim_shock)\n",
    "#print(my_pf.calc_value(sim_env) - curr_port_value)\n",
    "pnl.append(my_pf.calc_value(sim_env) - curr_port_value)\n",
    "\n",
    "#Volatility down 50%\n",
    "sim_fact_shock = dist.generate_cond_shock_cf('IVMID Change', condition = -0.50)\n",
    "sim_shock = sm.map_factors(sim_fact_shock)\n",
    "sim_env = env_now.simulate(sim_shock)\n",
    "#print(my_pf.calc_value(sim_env) - curr_port_value)\n",
    "pnl.append(my_pf.calc_value(sim_env) - curr_port_value)\n",
    "\n",
    "#SPY down 5%\n",
    "sim_fact_shock = dist.generate_cond_shock_cf('SPY Change', condition = -0.05)\n",
    "sim_shock = sm.map_factors(sim_fact_shock)\n",
    "sim_env = env_now.simulate(sim_shock)\n",
    "#print(my_pf.calc_value(sim_env) - curr_port_value)\n",
    "pnl.append(my_pf.calc_value(sim_env) - curr_port_value)\n",
    "\n",
    "#SPY up 5%\n",
    "sim_fact_shock = dist.generate_cond_shock_cf('SPY Change', condition = 0.05)\n",
    "sim_shock = sm.map_factors(sim_fact_shock)\n",
    "sim_env = env_now.simulate(sim_shock)\n",
    "#print(my_pf.calc_value(sim_env) - curr_port_value)\n",
    "pnl.append(my_pf.calc_value(sim_env) - curr_port_value)\n",
    "\n",
    "#10Y IR up 1%\n",
    "sim_fact_shock = dist.generate_cond_shock_cf('T10Y Change', condition = 0.01)\n",
    "sim_shock = sm.map_factors(sim_fact_shock)\n",
    "sim_env = env_now.simulate(sim_shock)\n",
    "#print(my_pf.calc_value(sim_env) - curr_port_value)\n",
    "pnl.append(my_pf.calc_value(sim_env) - curr_port_value)\n",
    "\n",
    "my_pf.calc_value(env_now)\n"
   ]
  },
  {
   "cell_type": "code",
   "execution_count": 25,
   "metadata": {},
   "outputs": [
    {
     "data": {
      "text/html": [
       "<div>\n",
       "<style scoped>\n",
       "    .dataframe tbody tr th:only-of-type {\n",
       "        vertical-align: middle;\n",
       "    }\n",
       "\n",
       "    .dataframe tbody tr th {\n",
       "        vertical-align: top;\n",
       "    }\n",
       "\n",
       "    .dataframe thead th {\n",
       "        text-align: right;\n",
       "    }\n",
       "</style>\n",
       "<table border=\"1\" class=\"dataframe\">\n",
       "  <thead>\n",
       "    <tr style=\"text-align: right;\">\n",
       "      <th></th>\n",
       "      <th>PnL</th>\n",
       "      <th>Percentage Change in Portfolio Value</th>\n",
       "    </tr>\n",
       "  </thead>\n",
       "  <tbody>\n",
       "    <tr>\n",
       "      <th>GDP down 1%</th>\n",
       "      <td>-2991.365280</td>\n",
       "      <td>-0.721211</td>\n",
       "    </tr>\n",
       "    <tr>\n",
       "      <th>Volatility Up 50%</th>\n",
       "      <td>-5636.848797</td>\n",
       "      <td>-1.359031</td>\n",
       "    </tr>\n",
       "    <tr>\n",
       "      <th>Volatility Down 50%</th>\n",
       "      <td>10455.724090</td>\n",
       "      <td>2.520851</td>\n",
       "    </tr>\n",
       "    <tr>\n",
       "      <th>SPY Down 5%</th>\n",
       "      <td>-6008.250343</td>\n",
       "      <td>-1.448575</td>\n",
       "    </tr>\n",
       "    <tr>\n",
       "      <th>SPY Up 5%</th>\n",
       "      <td>7750.005832</td>\n",
       "      <td>1.868509</td>\n",
       "    </tr>\n",
       "    <tr>\n",
       "      <th>10Y IR Up 1%</th>\n",
       "      <td>4753.518615</td>\n",
       "      <td>1.146062</td>\n",
       "    </tr>\n",
       "  </tbody>\n",
       "</table>\n",
       "</div>"
      ],
      "text/plain": [
       "                              PnL  Percentage Change in Portfolio Value\n",
       "GDP down 1%          -2991.365280                             -0.721211\n",
       "Volatility Up 50%    -5636.848797                             -1.359031\n",
       "Volatility Down 50%  10455.724090                              2.520851\n",
       "SPY Down 5%          -6008.250343                             -1.448575\n",
       "SPY Up 5%             7750.005832                              1.868509\n",
       "10Y IR Up 1%          4753.518615                              1.146062"
      ]
     },
     "execution_count": 25,
     "metadata": {},
     "output_type": "execute_result"
    }
   ],
   "source": [
    "Scenarios = ['GDP down 1%','Volatility Up 50%', 'Volatility Down 50%', 'SPY Down 5%', 'SPY Up 5%', '10Y IR Up 1%']\n",
    "pnl\n",
    "\n",
    "s_anal = pd.DataFrame(pnl, index = Scenarios, columns = ['PnL'])\n",
    "s_anal['Percentage Change in Portfolio Value'] = (s_anal['PnL']/curr_port_value) * 100\n",
    "s_anal\n"
   ]
  },
  {
   "cell_type": "code",
   "execution_count": 26,
   "metadata": {},
   "outputs": [
    {
     "data": {
      "text/plain": [
       "SPY US Equity       4484.774155\n",
       "EFA US Equity       4484.774155\n",
       "XLF US Equity       4484.774155\n",
       "XLK US Equity       4484.774155\n",
       "XLV US Equity       4484.774155\n",
       "XLP US Equity       4484.774155\n",
       "XLE US Equity       4484.774155\n",
       "EWJ US Equity       4484.774155\n",
       "XLU US Equity       4484.774155\n",
       "XLI US Equity       4484.774155\n",
       "EZU US Equity       4484.774155\n",
       "XLB US Equity       4484.774155\n",
       "IXN US Equity       4484.774155\n",
       "IYZ US Equity       4484.774155\n",
       "IEV US Equity       4484.774155\n",
       "TIP US Equity      44687.635541\n",
       "AGG US Equity      44687.635541\n",
       "IEF US Equity      44687.635541\n",
       "TLT US Equity      44687.635541\n",
       "SHY US Equity      44687.635541\n",
       "LQD US Equity      44687.635541\n",
       "EWZ US Equity      12926.886307\n",
       "ISMUF US Equity    12926.886307\n",
       "ILF US Equity      12926.886307\n",
       "IYR US Equity      13474.961429\n",
       "RWR US Equity      13474.961429\n",
       "ICF US Equity      13474.961429\n",
       "NaN                 -230.365903\n",
       "SPY Put              397.006101\n",
       "dtype: float64"
      ]
     },
     "execution_count": 26,
     "metadata": {},
     "output_type": "execute_result"
    }
   ],
   "source": [
    "#current portfolio ETF exposure values\n",
    "my_pf.calc_value(env_now)\n",
    "exposure = list(my_pf.pf_dollars.values())\n",
    "names = []\n",
    "for instru in list(my_pf.pf_dollars.keys()):\n",
    "    names.append(instru.name)\n",
    "\n",
    "exp_by_instru = pd.Series(exposure, index = names)\n",
    "exp_by_instru\n"
   ]
  },
  {
   "cell_type": "code",
   "execution_count": 27,
   "metadata": {},
   "outputs": [
    {
     "data": {
      "text/plain": [
       "-13014.601499418312"
      ]
     },
     "execution_count": 27,
     "metadata": {},
     "output_type": "execute_result"
    }
   ],
   "source": [
    "# this is the equivalent dollar delta exposure of options. \n",
    "my_pf.calc_opt_greeks(env_now)['delta']*env_now.prices['SPY US Equity']\n"
   ]
  },
  {
   "cell_type": "code",
   "execution_count": 28,
   "metadata": {},
   "outputs": [
    {
     "data": {
      "text/plain": [
       "{'SPY US Equity': 0.010817033384371483,\n",
       " 'EFA US Equity': 0.010817033384371483,\n",
       " 'XLF US Equity': 0.010817033384371483,\n",
       " 'XLK US Equity': 0.010817033384371483,\n",
       " 'XLV US Equity': 0.010817033384371483,\n",
       " 'XLP US Equity': 0.010817033384371483,\n",
       " 'XLE US Equity': 0.010817033384371483,\n",
       " 'EWJ US Equity': 0.010817033384371483,\n",
       " 'XLU US Equity': 0.010817033384371483,\n",
       " 'XLI US Equity': 0.010817033384371483,\n",
       " 'EZU US Equity': 0.010817033384371483,\n",
       " 'XLB US Equity': 0.010817033384371483,\n",
       " 'IXN US Equity': 0.010817033384371483,\n",
       " 'IYZ US Equity': 0.010817033384371483,\n",
       " 'IEV US Equity': 0.010817033384371483,\n",
       " 'TIP US Equity': 0.10778416679780012,\n",
       " 'AGG US Equity': 0.10778416679780012,\n",
       " 'IEF US Equity': 0.10778416679780012,\n",
       " 'TLT US Equity': 0.10778416679780012,\n",
       " 'SHY US Equity': 0.10778416679780012,\n",
       " 'LQD US Equity': 0.10778416679780012,\n",
       " 'EWZ US Equity': 0.031178952590710268,\n",
       " 'ISMUF US Equity': 0.031178952590710268,\n",
       " 'ILF US Equity': 0.031178952590710268,\n",
       " 'IYR US Equity': 0.03250088022516538,\n",
       " 'RWR US Equity': 0.03250088022516538,\n",
       " 'ICF US Equity': 0.03250088022516538}"
      ]
     },
     "execution_count": 28,
     "metadata": {},
     "output_type": "execute_result"
    }
   ],
   "source": [
    "w_dict"
   ]
  },
  {
   "cell_type": "code",
   "execution_count": null,
   "metadata": {},
   "outputs": [],
   "source": []
  }
 ],
 "metadata": {
  "kernelspec": {
   "display_name": "Python 3",
   "language": "python",
   "name": "python3"
  },
  "language_info": {
   "codemirror_mode": {
    "name": "ipython",
    "version": 3
   },
   "file_extension": ".py",
   "mimetype": "text/x-python",
   "name": "python",
   "nbconvert_exporter": "python",
   "pygments_lexer": "ipython3",
   "version": "3.6.5"
  }
 },
 "nbformat": 4,
 "nbformat_minor": 2
}
