{
 "cells": [
  {
   "cell_type": "code",
   "execution_count": 3,
   "metadata": {},
   "outputs": [
    {
     "name": "stdout",
     "output_type": "stream",
     "text": [
      "The autoreload extension is already loaded. To reload it, use:\n",
      "  %reload_ext autoreload\n"
     ]
    }
   ],
   "source": [
    "import pandas as pd\n",
    "import numpy as np\n",
    "from environment import Environment\n",
    "from pandas.tseries.offsets import MonthEnd\n",
    "import instrument\n",
    "from portfolio import Portfolio\n",
    "from risk_parity import RiskParity\n",
    "from copy import copy, deepcopy\n",
    "\n",
    "%load_ext autoreload\n",
    "%autoreload 2"
   ]
  },
  {
   "cell_type": "code",
   "execution_count": 4,
   "metadata": {},
   "outputs": [],
   "source": [
    "from historical import HistoricalData\n",
    "from pandas._libs.tslibs.timestamps import Timestamp, Timedelta\n",
    "\n",
    "path = \"data/\"\n",
    "env_df = pd.read_csv(path + \"Consolidated.csv\", header = [0,1], index_col=[0])\n",
    "targets_df = pd.read_csv(path + \"Targets.csv\", index_col=[0])\n",
    "features_df = pd.read_csv(path + \"Features.csv\", header = [0,1], index_col=[0])\n",
    "exps = pd.read_csv(path + 'ETF_info.csv', index_col=0).loc[env_df[['EQ', 'EM', 'RE', 'FI']].columns.droplevel(), 'Expense Ratio'].astype(float)\n",
    "data = HistoricalData(env_df, features_df, targets_df)\n",
    "\n",
    "date = Timestamp('2014-03-01') + MonthEnd(0)\n",
    "date_end = date + MonthEnd(62)\n",
    "env_now = Environment(*data.get_env_args(date))\n",
    "rp = RiskParity(data)\n"
   ]
  },
  {
   "cell_type": "markdown",
   "metadata": {},
   "source": [
    "### Initializing stuff"
   ]
  },
  {
   "cell_type": "code",
   "execution_count": 5,
   "metadata": {},
   "outputs": [],
   "source": [
    "usd = 200000/env_now.fx['CAD']\n",
    "w_dict = rp.get_weights_ac(date)\n",
    "pos_dict = Portfolio.weights_to_pos(w_dict, env_now, usd)\n",
    "pos_dict = Portfolio.etf_dict_from_names(pos_dict)\n",
    "icash = instrument.Cash('USD')\n",
    "pos_dict[icash] = 0"
   ]
  },
  {
   "cell_type": "code",
   "execution_count": 6,
   "metadata": {},
   "outputs": [],
   "source": [
    "my_pf = Portfolio(pos_dict)\n",
    "etf_w = 1\n",
    "etf_total_val= my_pf.calc_value(env_now)*etf_w\n",
    "opt_total_val = my_pf.calc_value(env_now)*(1-etf_w)\n",
    "\n",
    "my_pf.rebalance(env_now, Portfolio.weights_to_pos(w_dict, env_now, etf_total_val), exps, time_past=0)\n",
    "\n",
    "\n",
    "C = 0.95\n",
    "ttm=2\n",
    "specs = [{'name':'SPY Put', 'ccy':'USD', 'is_call':0, 'ul':'SPY US Equity'}]\n",
    "\n",
    "cost = Portfolio.get_opt_strategy_price(env_now, specs, [1], [C], ttm=ttm)\n",
    "nopt = opt_total_val/cost\n",
    "ofee, ospread = my_pf.buy_options(env_now, specs, [nopt], [C], ttm=ttm)\n",
    "\n",
    "last_pf_val = my_pf.calc_value(env_now)\n",
    "last_etf_val = my_pf.get_eq_value(env_now)\n",
    "\n",
    "last_eq_val = my_pf.get_names_value(env_now, env_df['EQ'].columns)\n",
    "last_fi_val = my_pf.get_names_value(env_now, env_df['FI'].columns)\n",
    "last_re_val = my_pf.get_names_value(env_now, env_df['RE'].columns)\n",
    "last_em_val = my_pf.get_names_value(env_now, env_df['EM'].columns)\n",
    "\n",
    "last_opt_val = my_pf.get_options_value(env_now)\n",
    "\n"
   ]
  },
  {
   "cell_type": "markdown",
   "metadata": {},
   "source": [
    "### Set up performance df"
   ]
  },
  {
   "cell_type": "code",
   "execution_count": 7,
   "metadata": {},
   "outputs": [],
   "source": [
    "perf_df = pd.DataFrame(index = pd.date_range(start=date, end=date_end, freq='M'))\n",
    "\n",
    "# us and cad portf values after rebalancing each month\n",
    "perf_df['USD Value'] = 0\n",
    "perf_df['CAD Value'] = 0\n",
    "\n",
    "perf_df['PNL'] = np.nan  # PNL before rebalancing\n",
    "perf_df['Post-trading PNL'] = np.nan  # PNL after trading fees and expenses\n",
    "perf_df['Post-fee PNL'] = np.nan  # PNL after trading fees and expenses and advisor fees\n",
    "\n",
    "# PNL attributions for ETFs\n",
    "perf_df['ETF PNL'] = np.nan\n",
    "perf_df['EQ PNL'] = np.nan\n",
    "perf_df['FI PNL'] = np.nan\n",
    "perf_df['EM PNL'] = np.nan\n",
    "perf_df['RE PNL'] = np.nan\n",
    "\n",
    "# PNL attributions for Options\n",
    "perf_df['Option PNL'] = np.nan\n",
    "perf_df['Delta PNL'] = np.nan\n",
    "perf_df['Vega PNL'] = np.nan\n",
    "perf_df['Theta PNL'] = np.nan\n",
    "perf_df['Rho PNL'] = np.nan\n",
    "perf_df['Unexplained PNL'] = np.nan\n",
    "\n",
    "# below is the PNL values divided by the portfolio value at the end of last rebalancing (returns)\n",
    "perf_df['Return'] = np.nan\n",
    "perf_df['Post-trading Return'] = np.nan\n",
    "perf_df['Post-fee Return'] = np.nan\n",
    "\n",
    "perf_df['ETF Return'] = np.nan\n",
    "perf_df['EQ Return'] = np.nan\n",
    "perf_df['FI Return'] = np.nan\n",
    "perf_df['EM Return'] = np.nan\n",
    "perf_df['RE Return'] = np.nan\n",
    "\n",
    "perf_df['Option Return'] = np.nan\n",
    "perf_df['Delta Return'] = np.nan\n",
    "perf_df['Vega Return'] = np.nan\n",
    "perf_df['Theta Return'] = np.nan\n",
    "perf_df['Rho Return'] = np.nan\n",
    "perf_df['Unexplained Return'] = np.nan\n",
    "\n",
    "\n",
    "perf_df['Injection'] = 0  # injectios of 20k CAD\n",
    "perf_df['FX'] = env_now.fx['CAD']  # fx for converting CAD to USD\n",
    "\n",
    "# ETF trading fees and management expenses in $\n",
    "perf_df['ETF Fees'] = 0\n",
    "perf_df['ETF Expenses'] = 0\n",
    "\n",
    "# option trading fees and bid-ask spread losses in $\n",
    "perf_df['Option Fees'] = ofee\n",
    "perf_df['Option Spread'] = ospread\n",
    "\n",
    "# total trading fees, expenses and spread losses in $\n",
    "perf_df['Total Trading Fees'] = 0\n",
    "\n",
    "# total advisor fees in $\n",
    "perf_df['Advisor Fees'] = 0\n",
    "# total fees in $\n",
    "perf_df['Total Fees'] = 0\n",
    "\n",
    "# total trading fees, expenses and spread losses as a fraction of pre-rebalancing portfolio value\n",
    "perf_df['Percentage Trading Fees'] = 0\n",
    "\n",
    "# total advisor fees as a fraction of pre-rebalancing portfolio value\n",
    "perf_df['Percentage Advisor Fees'] = 0\n",
    "\n",
    "# total fees as a fraction of pre-rebalancing portfolio value\n",
    "perf_df['Percentage Fees'] = 0\n",
    "\n"
   ]
  },
  {
   "cell_type": "markdown",
   "metadata": {},
   "source": [
    "### Run sim/backtest"
   ]
  },
  {
   "cell_type": "code",
   "execution_count": 8,
   "metadata": {},
   "outputs": [],
   "source": [
    "perf_df.loc[date, 'USD Value'] = my_pf.calc_value(env_now)\n",
    "perf_df.loc[date, 'CAD Value'] = my_pf.calc_value(env_now, ccy='CAD')\n",
    "perf_df.loc[date, 'Return'] = np.nan\n",
    "perf_df.loc[date, 'PNL'] = np.nan\n",
    "\n",
    "while date < date_end:\n",
    "    # print(my_pf.pf_units[my_pf.get_cash('USD')])\n",
    "    date = date + MonthEnd(1)\n",
    "    env_before = deepcopy(env_now)\n",
    "    env_now = Environment(*data.get_env_args(date))\n",
    "    \n",
    "    #if env_now.surfaces['SPY US Equity'].matrix[1,5] > 0.20:\n",
    "    #    # print(date, \": high vol of {:.2f}\".format(env_now.surfaces['SPY US Equity'].matrix[1,5]))\n",
    "    #    etf_w = 1\n",
    "    #else:\n",
    "    #    etf_w = 0.98\n",
    "    \n",
    "    new_pf_val = my_pf.calc_value(env_now)\n",
    "    new_etf_val = my_pf.get_eq_value(env_now)\n",
    "    new_opt_val = my_pf.get_options_value(env_now)\n",
    "    new_eq_val = my_pf.get_names_value(env_now, env_df['EQ'].columns)\n",
    "    new_fi_val = my_pf.get_names_value(env_now, env_df['FI'].columns)\n",
    "    new_re_val = my_pf.get_names_value(env_now, env_df['RE'].columns)\n",
    "    new_em_val = my_pf.get_names_value(env_now, env_df['EM'].columns)\n",
    "    \n",
    "    w_dict = rp.get_weights_ac(date)\n",
    "    \n",
    "    \n",
    "    etf_total_val= my_pf.calc_value(env_now)*etf_w\n",
    "    opt_total_val = my_pf.calc_value(env_now)*(1-etf_w)\n",
    "    \n",
    "\n",
    "    perf_df.loc[date, 'FX'] = env_now.fx['CAD']\n",
    "    \n",
    "    # add injection if it happened\n",
    "    if (date.month == 8) or (date.month == 2):\n",
    "        my_pf.pf_units[my_pf.get_cash('USD')] += 20000/env_now.fx['CAD']\n",
    "        perf_df.loc[date, 'Injection'] = 20000/env_now.fx['CAD']\n",
    "     \n",
    "    # collect our robo fees\n",
    "    adv_fee = my_pf.calc_value(env_now)*0.004/12/env_now.fx['CAD']\n",
    "    my_pf.pf_units[my_pf.get_cash('USD')] -= adv_fee\n",
    "    perf_df.loc[date, 'Advisor Fees'] = adv_fee\n",
    "    \n",
    "    # record pnls\n",
    "    perf_df.loc[date, 'PNL'] = new_pf_val - last_pf_val # post-old and pre-new rebalancing pnl (pure portfolio growth)\n",
    "    perf_df.loc[date, 'ETF PNL'] = new_etf_val - last_etf_val\n",
    "    perf_df.loc[date, 'Option PNL'] = new_opt_val - last_opt_val\n",
    "    \n",
    "    \n",
    "    attribs = my_pf.get_pnl_attr(env_before, env_now)\n",
    "    perf_df.loc[date, 'Delta PNL'] = attribs['delta']\n",
    "    perf_df.loc[date, 'Vega PNL'] = attribs['vega']\n",
    "    perf_df.loc[date, 'Theta PNL'] = attribs['theta']\n",
    "    perf_df.loc[date, 'Rho PNL'] = attribs['rho']\n",
    "    perf_df.loc[date, 'Unexplained PNL'] = perf_df.loc[date, 'Option PNL'] -\\\n",
    "            attribs['delta'] - attribs['vega'] - attribs['theta'] - attribs['rho']\n",
    "    \n",
    "    perf_df.loc[date, 'EQ PNL'] = new_eq_val - last_eq_val\n",
    "    perf_df.loc[date, 'FI PNL'] = new_fi_val - last_fi_val\n",
    "    perf_df.loc[date, 'EM PNL'] = new_em_val - last_em_val\n",
    "    perf_df.loc[date, 'RE PNL'] = new_re_val - last_re_val\n",
    "    \n",
    "    perf_df.loc[date, 'Return'] = (new_pf_val - last_pf_val)/last_pf_val \n",
    "    perf_df.loc[date, 'ETF Return'] = (new_etf_val - last_etf_val)/last_pf_val\n",
    "    perf_df.loc[date, 'Option Return'] = (new_opt_val - last_opt_val)/last_pf_val\n",
    "    perf_df.loc[date, 'Delta Return'] = attribs['delta']/last_pf_val\n",
    "    perf_df.loc[date, 'Vega Return'] = attribs['vega']/last_pf_val\n",
    "    perf_df.loc[date, 'Theta Return'] = attribs['theta']/last_pf_val\n",
    "    perf_df.loc[date, 'Rho Return'] = attribs['rho']/last_pf_val\n",
    "    perf_df.loc[date, 'Unexplained Return'] = perf_df.loc[date, 'Unexplained PNL']/last_pf_val\n",
    "    \n",
    "    perf_df.loc[date, 'EQ Return'] = (new_eq_val - last_eq_val)/last_pf_val\n",
    "    perf_df.loc[date, 'FI Return'] = (new_fi_val - last_fi_val)/last_pf_val\n",
    "    perf_df.loc[date, 'EM Return'] = (new_em_val - last_em_val)/last_pf_val\n",
    "    perf_df.loc[date, 'RE Return'] = (new_re_val - last_re_val)/last_pf_val\n",
    "    \n",
    "    \n",
    "    efee, eexps = my_pf.rebalance(env_now, Portfolio.weights_to_pos(w_dict, env_now, etf_total_val), exps)\n",
    "    ofee, ospread = my_pf.sell_options(env_now)\n",
    "    \n",
    "    # re-buy options\n",
    "    \n",
    "    cost = Portfolio.get_opt_strategy_price(env_now, specs, [1], [C], ttm=ttm)\n",
    "    nopt = opt_total_val/cost    \n",
    "    ofee_buy, ospread_buy = my_pf.buy_options(env_now, specs, [nopt], [C], ttm=ttm)\n",
    "    ofee += ofee_buy\n",
    "    ospread += ospread_buy\n",
    "    # record post-rebalancing (next month starting) portf value\n",
    "    perf_df.loc[date, 'USD Value'] = my_pf.calc_value(env_now)\n",
    "    perf_df.loc[date, 'CAD Value'] = my_pf.calc_value(env_now, ccy='CAD')\n",
    "    \n",
    "    # record pnl after paying trading fees and robo fees\n",
    "    perf_df.loc[date, 'Post-fee Return'] = (perf_df.loc[date, 'USD Value'] - perf_df.loc[date, 'Injection'])/perf_df.loc[date + MonthEnd(-1), 'USD Value'] - 1\n",
    "    perf_df.loc[date, 'Post-fee PNL'] = (perf_df.loc[date, 'USD Value'] - perf_df.loc[date, 'Injection']) - perf_df.loc[date + MonthEnd(-1), 'USD Value']\n",
    "    \n",
    "    # record pnl after paying trading fees but before robo fees\n",
    "    perf_df.loc[date, 'Post-trading Return'] = (perf_df.loc[date, 'USD Value'] - perf_df.loc[date, 'Injection'] + perf_df.loc[date, 'Advisor Fees'])/perf_df.loc[date + MonthEnd(-1), 'USD Value'] - 1\n",
    "    perf_df.loc[date, 'Post-trading PNL'] = (perf_df.loc[date, 'USD Value'] - perf_df.loc[date, 'Injection'] + perf_df.loc[date, 'Advisor Fees']) - perf_df.loc[date + MonthEnd(-1), 'USD Value']\n",
    "    \n",
    "    # record fees\n",
    "    perf_df.loc[date, 'ETF Fees'] = efee\n",
    "    perf_df.loc[date, 'ETF Expenses'] = eexps\n",
    "    perf_df.loc[date, 'Option Fees'] = ofee\n",
    "    perf_df.loc[date, 'Option Spread'] = ospread\n",
    "    perf_df.loc[date, 'Total Trading Fees'] = ofee + eexps + efee + ospread\n",
    "    perf_df.loc[date, 'Percentage Trading Fees'] = (ofee + eexps + efee + ospread)/last_pf_val\n",
    "    perf_df.loc[date, 'Percentage Advisor Fees'] = adv_fee/last_pf_val\n",
    "    perf_df.loc[date, 'Total Fees'] = ofee + eexps + efee + ospread + adv_fee\n",
    "    perf_df.loc[date, 'Percentage Fees'] = (ofee + eexps + efee + ospread + adv_fee)/last_pf_val\n",
    "    \n",
    "    \n",
    "    \n",
    "    # record post rebalancing values for opts and eqs\n",
    "    last_pf_val = my_pf.calc_value(env_now)\n",
    "    last_etf_val = my_pf.get_eq_value(env_now)\n",
    "    last_opt_val = my_pf.get_options_value(env_now)\n",
    "    last_eq_val = my_pf.get_names_value(env_now, env_df['EQ'].columns)\n",
    "    last_fi_val = my_pf.get_names_value(env_now, env_df['FI'].columns)\n",
    "    last_re_val = my_pf.get_names_value(env_now, env_df['RE'].columns)\n",
    "    last_em_val = my_pf.get_names_value(env_now, env_df['EM'].columns)\n",
    "    \n",
    "    #####\n",
    "    # my_pf.get_forw_risk(env_now: Environment, dist: Distribution, N=1000) vector of 1000 simulated forward pnls\n",
    "    # -> self.emp_dist = xxxx\n",
    "    # -> my_pf.calc_var()\n",
    "    # -->   return -np.percentile(self.emp_dist, 5)\n",
    "    # -> my_pf.calc_cvar()\n",
    "    \n",
    "    \n",
    "    #####\n",
    "    "
   ]
  },
  {
   "cell_type": "code",
   "execution_count": 9,
   "metadata": {},
   "outputs": [
    {
     "data": {
      "text/plain": [
       "{'delta': -0.16799499965867745,\n",
       " 'gamma': 0.012042547282507404,\n",
       " 'vega': 38.30930826858893,\n",
       " 'theta': -15.333927864742316,\n",
       " 'rho': 48.268174809426874}"
      ]
     },
     "execution_count": 9,
     "metadata": {},
     "output_type": "execute_result"
    }
   ],
   "source": [
    "my_pf.get_options()[0].get_greeks(env_now)"
   ]
  },
  {
   "cell_type": "code",
   "execution_count": 10,
   "metadata": {},
   "outputs": [
    {
     "name": "stderr",
     "output_type": "stream",
     "text": [
      "/anaconda3/lib/python3.6/site-packages/pandas/core/indexing.py:362: SettingWithCopyWarning: \n",
      "A value is trying to be set on a copy of a slice from a DataFrame.\n",
      "Try using .loc[row_indexer,col_indexer] = value instead\n",
      "\n",
      "See the caveats in the documentation: http://pandas.pydata.org/pandas-docs/stable/indexing.html#indexing-view-versus-copy\n",
      "  self.obj[key] = _infer_fill_value(value)\n",
      "/anaconda3/lib/python3.6/site-packages/pandas/core/indexing.py:366: SettingWithCopyWarning: \n",
      "A value is trying to be set on a copy of a slice from a DataFrame\n",
      "\n",
      "See the caveats in the documentation: http://pandas.pydata.org/pandas-docs/stable/indexing.html#indexing-view-versus-copy\n",
      "  self._setitem_with_indexer(new_indexer, value)\n",
      "/anaconda3/lib/python3.6/site-packages/pandas/core/indexing.py:190: SettingWithCopyWarning: \n",
      "A value is trying to be set on a copy of a slice from a DataFrame\n",
      "\n",
      "See the caveats in the documentation: http://pandas.pydata.org/pandas-docs/stable/indexing.html#indexing-view-versus-copy\n",
      "  self._setitem_with_indexer(indexer, value)\n"
     ]
    },
    {
     "data": {
      "text/html": [
       "<div>\n",
       "<style scoped>\n",
       "    .dataframe tbody tr th:only-of-type {\n",
       "        vertical-align: middle;\n",
       "    }\n",
       "\n",
       "    .dataframe tbody tr th {\n",
       "        vertical-align: top;\n",
       "    }\n",
       "\n",
       "    .dataframe thead th {\n",
       "        text-align: right;\n",
       "    }\n",
       "</style>\n",
       "<table border=\"1\" class=\"dataframe\">\n",
       "  <thead>\n",
       "    <tr style=\"text-align: right;\">\n",
       "      <th></th>\n",
       "      <th>Option PNL</th>\n",
       "      <th>Delta PNL</th>\n",
       "      <th>Vega PNL</th>\n",
       "      <th>Theta PNL</th>\n",
       "      <th>Rho PNL</th>\n",
       "      <th>Unexplained PNL</th>\n",
       "      <th>UL</th>\n",
       "    </tr>\n",
       "  </thead>\n",
       "  <tbody>\n",
       "    <tr>\n",
       "      <th>2014-03-31</th>\n",
       "      <td>NaN</td>\n",
       "      <td>NaN</td>\n",
       "      <td>NaN</td>\n",
       "      <td>NaN</td>\n",
       "      <td>NaN</td>\n",
       "      <td>NaN</td>\n",
       "      <td>229.8109</td>\n",
       "    </tr>\n",
       "    <tr>\n",
       "      <th>2014-04-30</th>\n",
       "      <td>0.0</td>\n",
       "      <td>0.0</td>\n",
       "      <td>0.0</td>\n",
       "      <td>0.0</td>\n",
       "      <td>0.0</td>\n",
       "      <td>0.0</td>\n",
       "      <td>231.4084</td>\n",
       "    </tr>\n",
       "    <tr>\n",
       "      <th>2014-05-31</th>\n",
       "      <td>0.0</td>\n",
       "      <td>0.0</td>\n",
       "      <td>0.0</td>\n",
       "      <td>0.0</td>\n",
       "      <td>0.0</td>\n",
       "      <td>0.0</td>\n",
       "      <td>236.7786</td>\n",
       "    </tr>\n",
       "    <tr>\n",
       "      <th>2014-06-30</th>\n",
       "      <td>0.0</td>\n",
       "      <td>0.0</td>\n",
       "      <td>0.0</td>\n",
       "      <td>0.0</td>\n",
       "      <td>0.0</td>\n",
       "      <td>0.0</td>\n",
       "      <td>241.6641</td>\n",
       "    </tr>\n",
       "    <tr>\n",
       "      <th>2014-07-31</th>\n",
       "      <td>0.0</td>\n",
       "      <td>0.0</td>\n",
       "      <td>0.0</td>\n",
       "      <td>0.0</td>\n",
       "      <td>0.0</td>\n",
       "      <td>0.0</td>\n",
       "      <td>238.4168</td>\n",
       "    </tr>\n",
       "  </tbody>\n",
       "</table>\n",
       "</div>"
      ],
      "text/plain": [
       "            Option PNL  Delta PNL  Vega PNL  Theta PNL  Rho PNL  \\\n",
       "2014-03-31         NaN        NaN       NaN        NaN      NaN   \n",
       "2014-04-30         0.0        0.0       0.0        0.0      0.0   \n",
       "2014-05-31         0.0        0.0       0.0        0.0      0.0   \n",
       "2014-06-30         0.0        0.0       0.0        0.0      0.0   \n",
       "2014-07-31         0.0        0.0       0.0        0.0      0.0   \n",
       "\n",
       "            Unexplained PNL        UL  \n",
       "2014-03-31              NaN  229.8109  \n",
       "2014-04-30              0.0  231.4084  \n",
       "2014-05-31              0.0  236.7786  \n",
       "2014-06-30              0.0  241.6641  \n",
       "2014-07-31              0.0  238.4168  "
      ]
     },
     "execution_count": 10,
     "metadata": {},
     "output_type": "execute_result"
    }
   ],
   "source": [
    "sub_df = perf_df[['Option PNL', 'Delta PNL', 'Vega PNL', 'Theta PNL', 'Rho PNL', 'Unexplained PNL']]\n",
    "sub_df.loc[sub_df.index, 'UL'] = env_df['EQ'].loc[sub_df.index, 'SPY US Equity']\n",
    "sub_df.head()"
   ]
  },
  {
   "cell_type": "code",
   "execution_count": 11,
   "metadata": {},
   "outputs": [
    {
     "data": {
      "text/html": [
       "<div>\n",
       "<style scoped>\n",
       "    .dataframe tbody tr th:only-of-type {\n",
       "        vertical-align: middle;\n",
       "    }\n",
       "\n",
       "    .dataframe tbody tr th {\n",
       "        vertical-align: top;\n",
       "    }\n",
       "\n",
       "    .dataframe thead th {\n",
       "        text-align: right;\n",
       "    }\n",
       "</style>\n",
       "<table border=\"1\" class=\"dataframe\">\n",
       "  <thead>\n",
       "    <tr style=\"text-align: right;\">\n",
       "      <th></th>\n",
       "      <th>ETF Fees</th>\n",
       "      <th>ETF Expenses</th>\n",
       "      <th>Option Fees</th>\n",
       "      <th>Option Spread</th>\n",
       "      <th>Total Trading Fees</th>\n",
       "      <th>Advisor Fees</th>\n",
       "      <th>Total Fees</th>\n",
       "    </tr>\n",
       "  </thead>\n",
       "  <tbody>\n",
       "    <tr>\n",
       "      <th>2014-03-31</th>\n",
       "      <td>0.0</td>\n",
       "      <td>0.000000</td>\n",
       "      <td>0</td>\n",
       "      <td>0</td>\n",
       "      <td>0.000000</td>\n",
       "      <td>0.000000</td>\n",
       "      <td>0.000000</td>\n",
       "    </tr>\n",
       "    <tr>\n",
       "      <th>2014-04-30</th>\n",
       "      <td>59.4</td>\n",
       "      <td>32.956755</td>\n",
       "      <td>0</td>\n",
       "      <td>0</td>\n",
       "      <td>92.356755</td>\n",
       "      <td>55.831491</td>\n",
       "      <td>148.188246</td>\n",
       "    </tr>\n",
       "    <tr>\n",
       "      <th>2014-05-31</th>\n",
       "      <td>89.1</td>\n",
       "      <td>33.295762</td>\n",
       "      <td>0</td>\n",
       "      <td>0</td>\n",
       "      <td>122.395762</td>\n",
       "      <td>57.256579</td>\n",
       "      <td>179.652341</td>\n",
       "    </tr>\n",
       "    <tr>\n",
       "      <th>2014-06-30</th>\n",
       "      <td>79.2</td>\n",
       "      <td>34.030536</td>\n",
       "      <td>0</td>\n",
       "      <td>0</td>\n",
       "      <td>113.230536</td>\n",
       "      <td>58.680232</td>\n",
       "      <td>171.910768</td>\n",
       "    </tr>\n",
       "    <tr>\n",
       "      <th>2014-07-31</th>\n",
       "      <td>79.2</td>\n",
       "      <td>33.627376</td>\n",
       "      <td>0</td>\n",
       "      <td>0</td>\n",
       "      <td>112.827376</td>\n",
       "      <td>57.244704</td>\n",
       "      <td>170.072080</td>\n",
       "    </tr>\n",
       "  </tbody>\n",
       "</table>\n",
       "</div>"
      ],
      "text/plain": [
       "            ETF Fees  ETF Expenses  Option Fees  Option Spread  \\\n",
       "2014-03-31       0.0      0.000000            0              0   \n",
       "2014-04-30      59.4     32.956755            0              0   \n",
       "2014-05-31      89.1     33.295762            0              0   \n",
       "2014-06-30      79.2     34.030536            0              0   \n",
       "2014-07-31      79.2     33.627376            0              0   \n",
       "\n",
       "            Total Trading Fees  Advisor Fees  Total Fees  \n",
       "2014-03-31            0.000000      0.000000    0.000000  \n",
       "2014-04-30           92.356755     55.831491  148.188246  \n",
       "2014-05-31          122.395762     57.256579  179.652341  \n",
       "2014-06-30          113.230536     58.680232  171.910768  \n",
       "2014-07-31          112.827376     57.244704  170.072080  "
      ]
     },
     "execution_count": 11,
     "metadata": {},
     "output_type": "execute_result"
    }
   ],
   "source": [
    "# total trading fees, expenses and spread losses as a fraction of pre-rebalancing portfolio value\n",
    "#perf_df['Percentage Trading Fees'] = 0\n",
    "# total fees as a fraction of pre-rebalancing portfolio value\n",
    "#perf_df['Percentage Fees'] = 0\n",
    "fee_df = perf_df[['ETF Fees', 'ETF Expenses', 'Option Fees', 'Option Spread', 'Total Trading Fees', 'Advisor Fees', 'Total Fees']]\n",
    "fee_df.head()"
   ]
  },
  {
   "cell_type": "code",
   "execution_count": 12,
   "metadata": {},
   "outputs": [
    {
     "data": {
      "text/html": [
       "<div>\n",
       "<style scoped>\n",
       "    .dataframe tbody tr th:only-of-type {\n",
       "        vertical-align: middle;\n",
       "    }\n",
       "\n",
       "    .dataframe tbody tr th {\n",
       "        vertical-align: top;\n",
       "    }\n",
       "\n",
       "    .dataframe thead th {\n",
       "        text-align: right;\n",
       "    }\n",
       "</style>\n",
       "<table border=\"1\" class=\"dataframe\">\n",
       "  <thead>\n",
       "    <tr style=\"text-align: right;\">\n",
       "      <th></th>\n",
       "      <th>Return</th>\n",
       "      <th>ETF Return</th>\n",
       "      <th>Option Return</th>\n",
       "      <th>Percentage Trading Fees</th>\n",
       "      <th>Percentage Advisor Fees</th>\n",
       "      <th>Post-trading Return</th>\n",
       "      <th>Post-fee Return</th>\n",
       "    </tr>\n",
       "  </thead>\n",
       "  <tbody>\n",
       "    <tr>\n",
       "      <th>2014-03-31</th>\n",
       "      <td>NaN</td>\n",
       "      <td>NaN</td>\n",
       "      <td>NaN</td>\n",
       "      <td>0.000000</td>\n",
       "      <td>0.000000</td>\n",
       "      <td>NaN</td>\n",
       "      <td>NaN</td>\n",
       "    </tr>\n",
       "    <tr>\n",
       "      <th>2014-04-30</th>\n",
       "      <td>0.014348</td>\n",
       "      <td>0.014348</td>\n",
       "      <td>0.0</td>\n",
       "      <td>0.000510</td>\n",
       "      <td>0.000308</td>\n",
       "      <td>0.013838</td>\n",
       "      <td>0.013529</td>\n",
       "    </tr>\n",
       "    <tr>\n",
       "      <th>2014-05-31</th>\n",
       "      <td>0.015492</td>\n",
       "      <td>0.015492</td>\n",
       "      <td>0.0</td>\n",
       "      <td>0.000667</td>\n",
       "      <td>0.000312</td>\n",
       "      <td>0.014825</td>\n",
       "      <td>0.014513</td>\n",
       "    </tr>\n",
       "    <tr>\n",
       "      <th>2014-06-30</th>\n",
       "      <td>0.009292</td>\n",
       "      <td>0.009292</td>\n",
       "      <td>0.0</td>\n",
       "      <td>0.000608</td>\n",
       "      <td>0.000315</td>\n",
       "      <td>0.008683</td>\n",
       "      <td>0.008368</td>\n",
       "    </tr>\n",
       "    <tr>\n",
       "      <th>2014-07-31</th>\n",
       "      <td>-0.002002</td>\n",
       "      <td>-0.002002</td>\n",
       "      <td>0.0</td>\n",
       "      <td>0.000601</td>\n",
       "      <td>0.000305</td>\n",
       "      <td>-0.002603</td>\n",
       "      <td>-0.002908</td>\n",
       "    </tr>\n",
       "  </tbody>\n",
       "</table>\n",
       "</div>"
      ],
      "text/plain": [
       "              Return  ETF Return  Option Return  Percentage Trading Fees  \\\n",
       "2014-03-31       NaN         NaN            NaN                 0.000000   \n",
       "2014-04-30  0.014348    0.014348            0.0                 0.000510   \n",
       "2014-05-31  0.015492    0.015492            0.0                 0.000667   \n",
       "2014-06-30  0.009292    0.009292            0.0                 0.000608   \n",
       "2014-07-31 -0.002002   -0.002002            0.0                 0.000601   \n",
       "\n",
       "            Percentage Advisor Fees  Post-trading Return  Post-fee Return  \n",
       "2014-03-31                 0.000000                  NaN              NaN  \n",
       "2014-04-30                 0.000308             0.013838         0.013529  \n",
       "2014-05-31                 0.000312             0.014825         0.014513  \n",
       "2014-06-30                 0.000315             0.008683         0.008368  \n",
       "2014-07-31                 0.000305            -0.002603        -0.002908  "
      ]
     },
     "execution_count": 12,
     "metadata": {},
     "output_type": "execute_result"
    }
   ],
   "source": [
    "# total trading fees, expenses and spread losses as a fraction of pre-rebalancing portfolio value\n",
    "#perf_df['Percentage Trading Fees'] = 0\n",
    "# total fees as a fraction of pre-rebalancing portfolio value\n",
    "#perf_df['Percentage Fees'] = 0\n",
    "pct_df = perf_df[['Return', 'ETF Return', 'Option Return', 'Percentage Trading Fees', 'Percentage Advisor Fees', 'Post-trading Return', 'Post-fee Return']]\n",
    "pct_df.head()"
   ]
  },
  {
   "cell_type": "code",
   "execution_count": 13,
   "metadata": {},
   "outputs": [
    {
     "name": "stdout",
     "output_type": "stream",
     "text": [
      "2014-03-31    NaN\n",
      "2014-04-30    0.0\n",
      "2014-05-31    0.0\n",
      "2014-06-30    0.0\n",
      "2014-07-31    0.0\n",
      "Freq: M, dtype: float64\n",
      "2014-03-31             NaN\n",
      "2014-04-30    4.683753e-17\n",
      "2014-05-31    6.765422e-17\n",
      "2014-06-30    2.029626e-16\n",
      "2014-07-31    2.992398e-17\n",
      "Freq: M, dtype: float64\n"
     ]
    }
   ],
   "source": [
    "# sanity checks of the decomp\n",
    "print((pct_df['ETF Return'] + pct_df['Option Return'] - pct_df['Return']).head())\n",
    "print((pct_df['Return'] - pct_df['Percentage Trading Fees'] - pct_df['Percentage Advisor Fees'] - pct_df['Post-fee Return']).head())"
   ]
  },
  {
   "cell_type": "markdown",
   "metadata": {},
   "source": [
    "### Evaluate performance"
   ]
  },
  {
   "cell_type": "code",
   "execution_count": 14,
   "metadata": {},
   "outputs": [
    {
     "data": {
      "text/plain": [
       "0.04148328407975477"
      ]
     },
     "execution_count": 14,
     "metadata": {},
     "output_type": "execute_result"
    }
   ],
   "source": [
    "irr_values = np.array([-perf_df['USD Value'].iloc[0]] + (-perf_df['Injection'].values).tolist())\n",
    "irr_values[-1] += perf_df['USD Value'].iloc[-1]\n",
    "np.irr(irr_values)*12"
   ]
  },
  {
   "cell_type": "code",
   "execution_count": 15,
   "metadata": {},
   "outputs": [
    {
     "name": "stdout",
     "output_type": "stream",
     "text": [
      "Mean: 4.3%\n",
      "Std: 5.2%\n",
      "VaR: 8.8%\n",
      "CVaR: 9.1%\n",
      "Sharpe: 0.8\n"
     ]
    }
   ],
   "source": [
    "ret_vec =  perf_df['Post-fee Return'].dropna().values\n",
    "# ret_vec = perf_df['Option Return'].dropna().values\n",
    "\n",
    "\n",
    "m = ret_vec.mean()*12\n",
    "s = ret_vec.std()*np.sqrt(12)\n",
    "var = -np.percentile(ret_vec, 5)*np.sqrt(12)\n",
    "cvar = -ret_vec[ret_vec<np.percentile(ret_vec, 5)].mean()*np.sqrt(12)\n",
    "print(\"Mean: {:.1f}%\\nStd: {:.1f}%\\nVaR: {:.1f}%\\nCVaR: {:.1f}%\".format(m*100, s*100, var*100, cvar*100))\n",
    "print(\"Sharpe: {:.1f}\".format(m/s))"
   ]
  },
  {
   "cell_type": "code",
   "execution_count": 16,
   "metadata": {},
   "outputs": [
    {
     "data": {
      "text/plain": [
       "<Figure size 640x480 with 1 Axes>"
      ]
     },
     "metadata": {},
     "output_type": "display_data"
    }
   ],
   "source": [
    "import matplotlib.pyplot as plt\n",
    "perf_df['Return'].dropna().hist()\n",
    "plt.show()"
   ]
  },
  {
   "cell_type": "code",
   "execution_count": 17,
   "metadata": {},
   "outputs": [
    {
     "name": "stdout",
     "output_type": "stream",
     "text": [
      "0.0526144034453828\n",
      "0.05103490351265293\n"
     ]
    }
   ],
   "source": [
    "print(perf_df['ETF Return'].std()*np.sqrt(12))\n",
    "print(perf_df['ETF Return'].mean()*12)"
   ]
  },
  {
   "cell_type": "code",
   "execution_count": 18,
   "metadata": {},
   "outputs": [
    {
     "name": "stdout",
     "output_type": "stream",
     "text": [
      "0.0\n",
      "0.0\n"
     ]
    }
   ],
   "source": [
    "print(perf_df['Option Return'].std()*np.sqrt(12))\n",
    "print(perf_df['Option Return'].mean()*12)"
   ]
  },
  {
   "cell_type": "code",
   "execution_count": 19,
   "metadata": {},
   "outputs": [],
   "source": [
    "my_pf.get_forward_pnl(env_now, data, 10000)"
   ]
  },
  {
   "cell_type": "markdown",
   "metadata": {},
   "source": [
    "### Risk stuff for current portfolio"
   ]
  },
  {
   "cell_type": "code",
   "execution_count": 20,
   "metadata": {},
   "outputs": [
    {
     "name": "stdout",
     "output_type": "stream",
     "text": [
      "Est. VaR loss: 2.95%\n",
      "Est. CVaR loss: 3.79%\n",
      "Est. Standard Deviation: 2.04%\n"
     ]
    }
   ],
   "source": [
    "#display these numbers somewhere in the report\n",
    "\n",
    "var_loss = my_pf.calc_var()/my_pf.calc_value(env_now)*100\n",
    "cvar_loss = my_pf.calc_es()/my_pf.calc_value(env_now)*100\n",
    "print(\"Est. VaR loss: {:.2f}%\".format(var_loss))\n",
    "print(\"Est. CVaR loss: {:.2f}%\".format(cvar_loss))\n",
    "\n",
    "std = np.std(my_pf.emp_dist)/my_pf.calc_value(env_now)*100\n",
    "print(\"Est. Standard Deviation: {:.2f}%\".format(std))"
   ]
  },
  {
   "cell_type": "code",
   "execution_count": 21,
   "metadata": {},
   "outputs": [
    {
     "data": {
      "text/html": [
       "<div>\n",
       "<style scoped>\n",
       "    .dataframe tbody tr th:only-of-type {\n",
       "        vertical-align: middle;\n",
       "    }\n",
       "\n",
       "    .dataframe tbody tr th {\n",
       "        vertical-align: top;\n",
       "    }\n",
       "\n",
       "    .dataframe thead th {\n",
       "        text-align: right;\n",
       "    }\n",
       "</style>\n",
       "<table border=\"1\" class=\"dataframe\">\n",
       "  <thead>\n",
       "    <tr style=\"text-align: right;\">\n",
       "      <th></th>\n",
       "      <th>Component VaR</th>\n",
       "    </tr>\n",
       "  </thead>\n",
       "  <tbody>\n",
       "    <tr>\n",
       "      <th>SPY US Equity</th>\n",
       "      <td>1.513485</td>\n",
       "    </tr>\n",
       "    <tr>\n",
       "      <th>EFA US Equity</th>\n",
       "      <td>2.035576</td>\n",
       "    </tr>\n",
       "    <tr>\n",
       "      <th>XLF US Equity</th>\n",
       "      <td>1.824636</td>\n",
       "    </tr>\n",
       "    <tr>\n",
       "      <th>XLK US Equity</th>\n",
       "      <td>1.580400</td>\n",
       "    </tr>\n",
       "    <tr>\n",
       "      <th>XLV US Equity</th>\n",
       "      <td>1.313564</td>\n",
       "    </tr>\n",
       "    <tr>\n",
       "      <th>XLP US Equity</th>\n",
       "      <td>1.129422</td>\n",
       "    </tr>\n",
       "    <tr>\n",
       "      <th>XLE US Equity</th>\n",
       "      <td>1.746523</td>\n",
       "    </tr>\n",
       "    <tr>\n",
       "      <th>EWJ US Equity</th>\n",
       "      <td>1.386653</td>\n",
       "    </tr>\n",
       "    <tr>\n",
       "      <th>XLU US Equity</th>\n",
       "      <td>1.172898</td>\n",
       "    </tr>\n",
       "    <tr>\n",
       "      <th>XLI US Equity</th>\n",
       "      <td>1.776770</td>\n",
       "    </tr>\n",
       "    <tr>\n",
       "      <th>EZU US Equity</th>\n",
       "      <td>2.383146</td>\n",
       "    </tr>\n",
       "    <tr>\n",
       "      <th>XLB US Equity</th>\n",
       "      <td>2.005686</td>\n",
       "    </tr>\n",
       "    <tr>\n",
       "      <th>IXN US Equity</th>\n",
       "      <td>1.744391</td>\n",
       "    </tr>\n",
       "    <tr>\n",
       "      <th>IYZ US Equity</th>\n",
       "      <td>1.556032</td>\n",
       "    </tr>\n",
       "    <tr>\n",
       "      <th>IEV US Equity</th>\n",
       "      <td>2.107789</td>\n",
       "    </tr>\n",
       "    <tr>\n",
       "      <th>TIP US Equity</th>\n",
       "      <td>5.809798</td>\n",
       "    </tr>\n",
       "    <tr>\n",
       "      <th>AGG US Equity</th>\n",
       "      <td>3.127817</td>\n",
       "    </tr>\n",
       "    <tr>\n",
       "      <th>IEF US Equity</th>\n",
       "      <td>2.488349</td>\n",
       "    </tr>\n",
       "    <tr>\n",
       "      <th>TLT US Equity</th>\n",
       "      <td>5.653360</td>\n",
       "    </tr>\n",
       "    <tr>\n",
       "      <th>SHY US Equity</th>\n",
       "      <td>-0.117581</td>\n",
       "    </tr>\n",
       "    <tr>\n",
       "      <th>LQD US Equity</th>\n",
       "      <td>7.004221</td>\n",
       "    </tr>\n",
       "    <tr>\n",
       "      <th>IYR US Equity</th>\n",
       "      <td>7.660767</td>\n",
       "    </tr>\n",
       "    <tr>\n",
       "      <th>RWR US Equity</th>\n",
       "      <td>7.924949</td>\n",
       "    </tr>\n",
       "    <tr>\n",
       "      <th>ICF US Equity</th>\n",
       "      <td>8.228283</td>\n",
       "    </tr>\n",
       "    <tr>\n",
       "      <th>EWZ US Equity</th>\n",
       "      <td>10.154097</td>\n",
       "    </tr>\n",
       "    <tr>\n",
       "      <th>ISMUF US Equity</th>\n",
       "      <td>8.201327</td>\n",
       "    </tr>\n",
       "    <tr>\n",
       "      <th>ILF US Equity</th>\n",
       "      <td>8.587644</td>\n",
       "    </tr>\n",
       "  </tbody>\n",
       "</table>\n",
       "</div>"
      ],
      "text/plain": [
       "                 Component VaR\n",
       "SPY US Equity         1.513485\n",
       "EFA US Equity         2.035576\n",
       "XLF US Equity         1.824636\n",
       "XLK US Equity         1.580400\n",
       "XLV US Equity         1.313564\n",
       "XLP US Equity         1.129422\n",
       "XLE US Equity         1.746523\n",
       "EWJ US Equity         1.386653\n",
       "XLU US Equity         1.172898\n",
       "XLI US Equity         1.776770\n",
       "EZU US Equity         2.383146\n",
       "XLB US Equity         2.005686\n",
       "IXN US Equity         1.744391\n",
       "IYZ US Equity         1.556032\n",
       "IEV US Equity         2.107789\n",
       "TIP US Equity         5.809798\n",
       "AGG US Equity         3.127817\n",
       "IEF US Equity         2.488349\n",
       "TLT US Equity         5.653360\n",
       "SHY US Equity        -0.117581\n",
       "LQD US Equity         7.004221\n",
       "IYR US Equity         7.660767\n",
       "RWR US Equity         7.924949\n",
       "ICF US Equity         8.228283\n",
       "EWZ US Equity        10.154097\n",
       "ISMUF US Equity       8.201327\n",
       "ILF US Equity         8.587644"
      ]
     },
     "execution_count": 21,
     "metadata": {},
     "output_type": "execute_result"
    }
   ],
   "source": [
    "#these are percentage risk contributions without options\n",
    "(my_pf.calc_risk_contribs(env_now)/my_pf.calc_risk_contribs(env_now).sum())*100"
   ]
  },
  {
   "cell_type": "code",
   "execution_count": 22,
   "metadata": {},
   "outputs": [
    {
     "data": {
      "text/plain": [
       "(array([  13.,  103.,  517., 1559., 2670., 2717., 1678.,  591.,  138.,\n",
       "          14.]),\n",
       " array([-28731.15430907, -22722.71888464, -16714.28346022, -10705.84803579,\n",
       "         -4697.41261136,   1311.02281306,   7319.45823749,  13327.89366192,\n",
       "         19336.32908634,  25344.76451077,  31353.1999352 ]),\n",
       " <a list of 10 Patch objects>)"
      ]
     },
     "execution_count": 22,
     "metadata": {},
     "output_type": "execute_result"
    },
    {
     "data": {
      "image/png": "[encoded data removed]",
      "text/plain": [
       "<Figure size 432x288 with 1 Axes>"
      ]
     },
     "metadata": {
      "needs_background": "light"
     },
     "output_type": "display_data"
    }
   ],
   "source": [
    "#you can copy my_pf.emp_dist to excel and create a histogram there\n",
    "# ie my_pf.emp_dist\n",
    "plt.hist(my_pf.emp_dist)"
   ]
  },
  {
   "cell_type": "code",
   "execution_count": 23,
   "metadata": {},
   "outputs": [
    {
     "data": {
      "text/plain": [
       "2016-11-30    2.819002\n",
       "2018-02-28    2.511201\n",
       "2014-09-30    2.498047\n",
       "2015-08-31    2.494300\n",
       "2018-10-31    2.199429\n",
       "Name: Return, dtype: float64"
      ]
     },
     "execution_count": 23,
     "metadata": {},
     "output_type": "execute_result"
    }
   ],
   "source": [
    "#backtested VaR shows reasonable results\n",
    "-(perf_df['Return']).sort_values()[0:5]*100"
   ]
  },
  {
   "cell_type": "code",
   "execution_count": 24,
   "metadata": {},
   "outputs": [],
   "source": [
    "greeks = my_pf.calc_opt_greeks(env_now)"
   ]
  },
  {
   "cell_type": "code",
   "execution_count": 25,
   "metadata": {
    "scrolled": true
   },
   "outputs": [
    {
     "name": "stdout",
     "output_type": "stream",
     "text": [
      "0.0\n",
      "0.0\n",
      "0.0\n",
      "0.0\n"
     ]
    }
   ],
   "source": [
    "#potential(expected) PnL given a reasonable movement\n",
    "print(greeks['delta']*env_now.prices['SPY US Equity']*0.01)\n",
    "#we expect 1% movement in SPY over 1 month\n",
    "print(0.5*greeks['gamma']*(env_now.prices['SPY US Equity']*0.01)**2)\n",
    "print(greeks['vega']*0.01)\n",
    "#we might expect a 1% move in vega\n",
    "print(greeks['theta']/12)\n",
    "# literally from 1 month of theta"
   ]
  },
  {
   "cell_type": "code",
   "execution_count": 36,
   "metadata": {},
   "outputs": [
    {
     "data": {
      "text/plain": [
       "399489.385268179"
      ]
     },
     "execution_count": 36,
     "metadata": {},
     "output_type": "execute_result"
    }
   ],
   "source": [
    "#scenario analysis \n",
    "from historical import Distribution, ShockMap\n",
    "\n",
    "\n",
    "dist = Distribution(data, date, method = \"Normal\")\n",
    "sm = ShockMap(data, date)\n",
    "curr_port_value = my_pf.calc_value(env_now)\n",
    "#print(curr_port_value)\n",
    "pnl = []\n",
    "\n",
    "#GDP down 1% monthly\n",
    "sim_fact_shock = dist.generate_cond_shock_cf('GDP Change', condition = -0.01)\n",
    "sim_shock = sm.map_factors_expected(sim_fact_shock)\n",
    "sim_env = env_now.simulate(sim_shock)\n",
    "#print(my_pf.calc_value(sim_env) - curr_port_value)\n",
    "pnl.append(my_pf.calc_value(sim_env) - curr_port_value)\n",
    "\n",
    "#Volatility up 50% \n",
    "sim_fact_shock = dist.generate_cond_shock_cf('IVMID Change', condition = 0.50)\n",
    "sim_shock = sm.map_factors_expected(sim_fact_shock)\n",
    "sim_env = env_now.simulate(sim_shock)\n",
    "#print(my_pf.calc_value(sim_env) - curr_port_value)\n",
    "pnl.append(my_pf.calc_value(sim_env) - curr_port_value)\n",
    "\n",
    "#Volatility down 50%\n",
    "sim_fact_shock = dist.generate_cond_shock_cf('IVMID Change', condition = -0.50)\n",
    "sim_shock = sm.map_factors_expected(sim_fact_shock)\n",
    "sim_env = env_now.simulate(sim_shock)\n",
    "#print(my_pf.calc_value(sim_env) - curr_port_value)\n",
    "pnl.append(my_pf.calc_value(sim_env) - curr_port_value)\n",
    "\n",
    "#SPY down 5%\n",
    "sim_fact_shock = dist.generate_cond_shock_cf('SPY Change', condition = -0.1)\n",
    "sim_shock = sm.map_factors_expected(sim_fact_shock)\n",
    "sim_env = env_now.simulate(sim_shock)\n",
    "#print(my_pf.calc_value(sim_env) - curr_port_value)\n",
    "pnl.append(my_pf.calc_value(sim_env) - curr_port_value)\n",
    "\n",
    "#SPY up 5%\n",
    "sim_fact_shock = dist.generate_cond_shock_cf('SPY Change', condition = 0.1)\n",
    "sim_shock = sm.map_factors_expected(sim_fact_shock)\n",
    "sim_env = env_now.simulate(sim_shock)\n",
    "#print(my_pf.calc_value(sim_env) - curr_port_value)\n",
    "pnl.append(my_pf.calc_value(sim_env) - curr_port_value)\n",
    "\n",
    "#10Y IR up 1%\n",
    "sim_fact_shock = dist.generate_cond_shock_cf('T10Y Change', condition = 0.01)\n",
    "sim_shock = sm.map_factors_expected(sim_fact_shock)\n",
    "sim_env = env_now.simulate(sim_shock)\n",
    "#print(my_pf.calc_value(sim_env) - curr_port_value)\n",
    "pnl.append(my_pf.calc_value(sim_env) - curr_port_value)\n",
    "\n",
    "my_pf.calc_value(env_now)\n"
   ]
  },
  {
   "cell_type": "code",
   "execution_count": 37,
   "metadata": {},
   "outputs": [
    {
     "data": {
      "text/html": [
       "<div>\n",
       "<style scoped>\n",
       "    .dataframe tbody tr th:only-of-type {\n",
       "        vertical-align: middle;\n",
       "    }\n",
       "\n",
       "    .dataframe tbody tr th {\n",
       "        vertical-align: top;\n",
       "    }\n",
       "\n",
       "    .dataframe thead th {\n",
       "        text-align: right;\n",
       "    }\n",
       "</style>\n",
       "<table border=\"1\" class=\"dataframe\">\n",
       "  <thead>\n",
       "    <tr style=\"text-align: right;\">\n",
       "      <th></th>\n",
       "      <th>PnL</th>\n",
       "      <th>Percentage Change in Portfolio Value</th>\n",
       "    </tr>\n",
       "  </thead>\n",
       "  <tbody>\n",
       "    <tr>\n",
       "      <th>GDP down 1%</th>\n",
       "      <td>-3509.869979</td>\n",
       "      <td>-0.878589</td>\n",
       "    </tr>\n",
       "    <tr>\n",
       "      <th>Volatility Up 50%</th>\n",
       "      <td>-8477.842623</td>\n",
       "      <td>-2.122170</td>\n",
       "    </tr>\n",
       "    <tr>\n",
       "      <th>Volatility Down 50%</th>\n",
       "      <td>11786.760745</td>\n",
       "      <td>2.950457</td>\n",
       "    </tr>\n",
       "    <tr>\n",
       "      <th>SPY Down 10%</th>\n",
       "      <td>-13508.168496</td>\n",
       "      <td>-3.381359</td>\n",
       "    </tr>\n",
       "    <tr>\n",
       "      <th>SPY Up 10%</th>\n",
       "      <td>14641.276935</td>\n",
       "      <td>3.664998</td>\n",
       "    </tr>\n",
       "    <tr>\n",
       "      <th>10Y IR Up 1%</th>\n",
       "      <td>1360.107000</td>\n",
       "      <td>0.340461</td>\n",
       "    </tr>\n",
       "  </tbody>\n",
       "</table>\n",
       "</div>"
      ],
      "text/plain": [
       "                              PnL  Percentage Change in Portfolio Value\n",
       "GDP down 1%          -3509.869979                             -0.878589\n",
       "Volatility Up 50%    -8477.842623                             -2.122170\n",
       "Volatility Down 50%  11786.760745                              2.950457\n",
       "SPY Down 10%        -13508.168496                             -3.381359\n",
       "SPY Up 10%           14641.276935                              3.664998\n",
       "10Y IR Up 1%          1360.107000                              0.340461"
      ]
     },
     "execution_count": 37,
     "metadata": {},
     "output_type": "execute_result"
    }
   ],
   "source": [
    "Scenarios = ['GDP down 1%','Volatility Up 50%', 'Volatility Down 50%', 'SPY Down 10%', 'SPY Up 10%', '10Y IR Up 1%']\n",
    "pnl\n",
    "\n",
    "s_anal = pd.DataFrame(pnl, index = Scenarios, columns = ['PnL'])\n",
    "s_anal['Percentage Change in Portfolio Value'] = (s_anal['PnL']/curr_port_value) * 100\n",
    "s_anal\n"
   ]
  },
  {
   "cell_type": "code",
   "execution_count": 28,
   "metadata": {},
   "outputs": [
    {
     "data": {
      "text/plain": [
       "SPY US Equity       4323.562335\n",
       "EFA US Equity       4323.562335\n",
       "XLF US Equity       4323.562335\n",
       "XLK US Equity       4323.562335\n",
       "XLV US Equity       4323.562335\n",
       "XLP US Equity       4323.562335\n",
       "XLE US Equity       4323.562335\n",
       "EWJ US Equity       4323.562335\n",
       "XLU US Equity       4323.562335\n",
       "XLI US Equity       4323.562335\n",
       "EZU US Equity       4323.562335\n",
       "XLB US Equity       4323.562335\n",
       "IXN US Equity       4323.562335\n",
       "IYZ US Equity       4323.562335\n",
       "IEV US Equity       4323.562335\n",
       "TIP US Equity      43081.272593\n",
       "AGG US Equity      43081.272593\n",
       "IEF US Equity      43081.272593\n",
       "TLT US Equity      43081.272593\n",
       "SHY US Equity      43081.272593\n",
       "LQD US Equity      43081.272593\n",
       "EWZ US Equity      12462.210319\n",
       "ISMUF US Equity    12462.210319\n",
       "ILF US Equity      12462.210319\n",
       "IYR US Equity      12990.584073\n",
       "RWR US Equity      12990.584073\n",
       "ICF US Equity      12990.584073\n",
       "NaN                 -210.068493\n",
       "SPY Put                0.000000\n",
       "dtype: float64"
      ]
     },
     "execution_count": 28,
     "metadata": {},
     "output_type": "execute_result"
    }
   ],
   "source": [
    "#current portfolio ETF exposure values\n",
    "my_pf.calc_value(env_now)\n",
    "exposure = list(my_pf.pf_dollars.values())\n",
    "names = []\n",
    "for instru in list(my_pf.pf_dollars.keys()):\n",
    "    names.append(instru.name)\n",
    "\n",
    "exp_by_instru = pd.Series(exposure, index = names)\n",
    "exp_by_instru\n"
   ]
  },
  {
   "cell_type": "code",
   "execution_count": 29,
   "metadata": {},
   "outputs": [
    {
     "data": {
      "text/plain": [
       "0.0"
      ]
     },
     "execution_count": 29,
     "metadata": {},
     "output_type": "execute_result"
    }
   ],
   "source": [
    "# this is the equivalent dollar delta exposure of options. \n",
    "my_pf.calc_opt_greeks(env_now)['delta']*env_now.prices['SPY US Equity']\n"
   ]
  },
  {
   "cell_type": "code",
   "execution_count": 30,
   "metadata": {},
   "outputs": [
    {
     "name": "stdout",
     "output_type": "stream",
     "text": [
      "0.010817033384371484\n",
      "0.010817033384371484\n",
      "0.010817033384371484\n",
      "0.010817033384371484\n",
      "0.010817033384371484\n",
      "0.010817033384371484\n",
      "0.010817033384371484\n",
      "0.010817033384371484\n",
      "0.010817033384371484\n",
      "0.010817033384371484\n",
      "0.010817033384371484\n",
      "0.010817033384371484\n",
      "0.010817033384371484\n",
      "0.010817033384371484\n",
      "0.010817033384371484\n",
      "0.10778416679780013\n",
      "0.10778416679780013\n",
      "0.10778416679780013\n",
      "0.10778416679780013\n",
      "0.10778416679780013\n",
      "0.10778416679780013\n",
      "0.031178952590710265\n",
      "0.031178952590710265\n",
      "0.031178952590710265\n",
      "0.032500880225165375\n",
      "0.032500880225165375\n",
      "0.032500880225165375\n"
     ]
    }
   ],
   "source": [
    "w_dict\n",
    "\n",
    "for w in w_dict.items():\n",
    "    print(w[1])"
   ]
  },
  {
   "cell_type": "code",
   "execution_count": 31,
   "metadata": {},
   "outputs": [],
   "source": [
    "perf_df.to_csv(\"data_final_med.csv\")"
   ]
  },
  {
   "cell_type": "code",
   "execution_count": 42,
   "metadata": {},
   "outputs": [
    {
     "data": {
      "text/plain": [
       "(DatetimeIndex(['2015-04-30'], dtype='datetime64[ns]', freq='M'),\n",
       " DatetimeIndex(['2016-01-31'], dtype='datetime64[ns]', freq='M'),\n",
       " 0.05831701252954935)"
      ]
     },
     "execution_count": 42,
     "metadata": {},
     "output_type": "execute_result"
    }
   ],
   "source": [
    "import pandas as pd\n",
    "from max_drawdown import max_drawdown\n",
    "max_drawdown(perf_df)"
   ]
  },
  {
   "cell_type": "code",
   "execution_count": 33,
   "metadata": {},
   "outputs": [
    {
     "data": {
      "image/png": "[encoded data removed]",
      "text/plain": [
       "<Figure size 288x360 with 1 Axes>"
      ]
     },
     "metadata": {
      "needs_background": "light"
     },
     "output_type": "display_data"
    }
   ],
   "source": [
    "import matplotlib.pyplot as plt\n",
    "from matplotlib.ticker import FuncFormatter\n",
    "\n",
    "plt.figure(figsize=(4,5))\n",
    "perf_df['Return'].dropna().hist(bins=8)\n",
    "plt.title('Distribution of Monthly Returns')\n",
    "plt.ylabel('Frequency')\n",
    "plt.xlabel('Percentage Monthly Return')\n",
    "\n",
    "ax = plt.gca()\n",
    "ax.set_xlim([-0.075,0.075])\n",
    "ax.xaxis.set_major_formatter(FuncFormatter(lambda y, _: '{:.0%}'.format(y))) \n",
    "plt.show()"
   ]
  },
  {
   "cell_type": "code",
   "execution_count": null,
   "metadata": {},
   "outputs": [],
   "source": []
  }
 ],
 "metadata": {
  "kernelspec": {
   "display_name": "Python 3",
   "language": "python",
   "name": "python3"
  },
  "language_info": {
   "codemirror_mode": {
    "name": "ipython",
    "version": 3
   },
   "file_extension": ".py",
   "mimetype": "text/x-python",
   "name": "python",
   "nbconvert_exporter": "python",
   "pygments_lexer": "ipython3",
   "version": "3.6.8"
  }
 },
 "nbformat": 4,
 "nbformat_minor": 2
}
