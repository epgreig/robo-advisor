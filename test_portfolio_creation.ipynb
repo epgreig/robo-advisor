{
 "cells": [
  {
   "cell_type": "markdown",
   "metadata": {},
   "source": [
    "### Portfolio Testing (pricing)"
   ]
  },
  {
   "cell_type": "code",
   "execution_count": 1,
   "metadata": {},
   "outputs": [],
   "source": [
    "import pandas as pd\n",
    "import numpy as np\n",
    "from environment import Environment\n",
    "from pandas.tseries.offsets import MonthEnd\n",
    "\n",
    "%load_ext autoreload\n",
    "%autoreload 2"
   ]
  },
  {
   "cell_type": "code",
   "execution_count": 2,
   "metadata": {},
   "outputs": [],
   "source": [
    "from historical import HistoricalData\n",
    "from pandas._libs.tslibs.timestamps import Timestamp, Timedelta\n",
    "\n",
    "path = \"data\\\\\"\n",
    "env_df = pd.read_csv(path + \"Consolidated.csv\", header = [0,1], index_col=[0])\n",
    "targets_df = pd.read_csv(path + \"Targets.csv\", index_col=[0])\n",
    "features_df = pd.read_csv(path + \"Features.csv\", header = [0,1], index_col=[0])\n",
    "\n",
    "\n",
    "data = HistoricalData(env_df, features_df, targets_df)"
   ]
  },
  {
   "cell_type": "code",
   "execution_count": 3,
   "metadata": {},
   "outputs": [],
   "source": [
    "import instrument\n",
    "\n",
    "date = Timestamp('2018-12-31')\n",
    "\n",
    "\n",
    "opt_buy = date + MonthEnd(2)\n",
    "env_now = Environment(*data.get_env_args(date))\n",
    "pos_dict = {}\n",
    "etf_dict = {}\n",
    "\n",
    "\n",
    "icash = instrument.Cash('USD')\n",
    "for etf in env_df[['EQ', 'FI', 'EM', 'RE']].columns.droplevel():\n",
    "    etf_dict[etf] = instrument.Equity(etf, 'USD')\n",
    "    pos_dict[etf_dict[etf]] = 200000/27/env_now.prices[etf]\n",
    "\n",
    "iput = instrument.Option(name='SPY Put', ccy='USD', is_call=0, ul='SPY US Equity',\n",
    "                       K=etf_dict['SPY US Equity'].value(env_now)*0.9, T=opt_buy)\n",
    "\n",
    "icall = instrument.Option(name='SPY Call', ccy='USD', is_call=1, ul='SPY US Equity',\n",
    "                       K=etf_dict['SPY US Equity'].value(env_now)*1.1, T=opt_buy)\n",
    "\n",
    "\n",
    "\n",
    "\n",
    "pos_dict[iput] = pos_dict[etf_dict['SPY US Equity']] * 5\n",
    "pos_dict[icall] = pos_dict[etf_dict['SPY US Equity']] * 5\n",
    "\n",
    "\n",
    "pos_dict[icash] = -(pos_dict[iput]*iput.value(env_now) + pos_dict[icall]*icall.value(env_now))"
   ]
  },
  {
   "cell_type": "code",
   "execution_count": 4,
   "metadata": {},
   "outputs": [
    {
     "data": {
      "text/plain": [
       "4.213865086912866"
      ]
     },
     "execution_count": 4,
     "metadata": {},
     "output_type": "execute_result"
    }
   ],
   "source": [
    "# option price\n",
    "icall.value(env_now)"
   ]
  },
  {
   "cell_type": "code",
   "execution_count": 5,
   "metadata": {},
   "outputs": [
    {
     "data": {
      "text/plain": [
       "200000.00000000003"
      ]
     },
     "execution_count": 5,
     "metadata": {},
     "output_type": "execute_result"
    }
   ],
   "source": [
    "from portfolio import Portfolio\n",
    "my_pf = Portfolio(pos_dict)\n",
    "my_pf.calc_value(env_now)"
   ]
  },
  {
   "cell_type": "markdown",
   "metadata": {},
   "source": [
    "### Regression Testing (mapping shocks to assets)"
   ]
  },
  {
   "cell_type": "code",
   "execution_count": 6,
   "metadata": {},
   "outputs": [],
   "source": [
    "from historical import ShockMap, Distribution\n",
    "sm = ShockMap(data, date)"
   ]
  },
  {
   "cell_type": "code",
   "execution_count": 7,
   "metadata": {},
   "outputs": [],
   "source": [
    "# Runtime: 18s on Ethan's Macbook\n",
    "dist = Distribution(data, date, method='student')\n",
    "N = 1000\n",
    "rets = []\n",
    "val_now = my_pf.calc_value(env_now)\n",
    "factor_shocks = dist.generate_shock(N)\n",
    "for i in range(N):\n",
    "    asset_shocks = sm.map_factors(factor_shocks.iloc[i])\n",
    "    env_sim = env_now.simulate(asset_shocks)\n",
    "    #print(my_pf.calc_value(env_sim))\n",
    "    #print(i1.value(env_sim), i2.value(env_sim))\n",
    "    ret = np.log(my_pf.calc_value(env_sim)/val_now)\n",
    "    rets.append(ret)\n",
    "    \n",
    "rets = pd.Series(rets)"
   ]
  },
  {
   "cell_type": "code",
   "execution_count": 8,
   "metadata": {},
   "outputs": [
    {
     "data": {
      "text/plain": [
       "<Figure size 640x480 with 1 Axes>"
      ]
     },
     "metadata": {},
     "output_type": "display_data"
    }
   ],
   "source": [
    "import matplotlib.pyplot as plt\n",
    "rets.hist(bins=20)\n",
    "plt.show()"
   ]
  },
  {
   "cell_type": "code",
   "execution_count": 9,
   "metadata": {},
   "outputs": [],
   "source": [
    "# Runtime: 18s on Ethan's Macbook\n",
    "dist = Distribution(data, date, method='normal')\n",
    "N = 1000\n",
    "rets = []\n",
    "val_now = my_pf.calc_value(env_now)\n",
    "factor_shocks = dist.generate_shock(N)\n",
    "for i in range(N):\n",
    "    asset_shocks = sm.map_factors(factor_shocks.iloc[i])\n",
    "    env_sim = env_now.simulate(asset_shocks)\n",
    "    #print(my_pf.calc_value(env_sim))\n",
    "    #print(i1.value(env_sim), i2.value(env_sim))\n",
    "    ret = np.log(my_pf.calc_value(env_sim)/val_now)\n",
    "    rets.append(ret)\n",
    "    \n",
    "rets = pd.Series(rets)"
   ]
  },
  {
   "cell_type": "code",
   "execution_count": 10,
   "metadata": {},
   "outputs": [
    {
     "data": {
      "image/png": "[encoded data removed]",
      "text/plain": [
       "<Figure size 432x288 with 1 Axes>"
      ]
     },
     "metadata": {
      "needs_background": "light"
     },
     "output_type": "display_data"
    }
   ],
   "source": [
    "import matplotlib.pyplot as plt\n",
    "rets.hist(bins=10)\n",
    "plt.show()"
   ]
  },
  {
   "cell_type": "markdown",
   "metadata": {},
   "source": [
    "### Testing portfolio performance"
   ]
  },
  {
   "cell_type": "code",
   "execution_count": 11,
   "metadata": {},
   "outputs": [],
   "source": [
    "pf_val = 200000\n",
    "date = Timestamp('2014-06-01') + MonthEnd(0)\n",
    "opt_mat = date + MonthEnd(2)\n",
    "env_now = Environment(*data.get_env_args(date))\n",
    "pos_dict = {}\n",
    "etf_dict = {}\n",
    "\n",
    "icash = instrument.Cash('USD')\n",
    "for etf in env_df[['EQ', 'FI', 'EM', 'RE']].columns.droplevel():\n",
    "    etf_dict[etf] = instrument.Equity(etf, 'USD')\n",
    "    pos_dict[etf_dict[etf]] = pf_val/27/env_now.prices[etf]\n",
    "\n",
    "iput = instrument.Option(name='SPY Put', ccy='USD', is_call=0, ul='SPY US Equity',\n",
    "                       K=etf_dict['SPY US Equity'].value(env_now)*0.9, T=opt_mat)\n",
    "\n",
    "icall = instrument.Option(name='SPY Call', ccy='USD', is_call=1, ul='SPY US Equity',\n",
    "                       K=etf_dict['SPY US Equity'].value(env_now)*1.1, T=opt_mat)\n",
    "\n",
    "pos_dict[iput] = pos_dict[etf_dict['SPY US Equity']] * 5\n",
    "pos_dict[icall] = pos_dict[etf_dict['SPY US Equity']] * 5\n",
    "pos_dict[icash] = -(pos_dict[iput]*iput.value(env_now) + pos_dict[icall]*icall.value(env_now))\n",
    "my_pf = Portfolio(pos_dict)"
   ]
  },
  {
   "cell_type": "code",
   "execution_count": 12,
   "metadata": {},
   "outputs": [],
   "source": [
    "pf_vals = []\n",
    "\n",
    "for i in range(1, 60):\n",
    "    # set date to nex month\n",
    "    date = Timestamp('2014-06-01') + MonthEnd(i)\n",
    "    opt_mat = date + MonthEnd(2)\n",
    "    env_now = Environment(*data.get_env_args(date))\n",
    "    \n",
    "\n",
    "    # sell current options\n",
    "    opt_val = pos_dict[iput] * iput.value(env_now) + pos_dict[icall] * icall.value(env_now)\n",
    "    my_pf.pf_units[iput] = 0\n",
    "    my_pf.pf_units[icall] = 0\n",
    "    del pos_dict[iput], pos_dict[icall]\n",
    "    \n",
    "    # add cash from sold options\n",
    "    my_pf.pf_units[icash] = my_pf.pf_units[icash] + opt_val\n",
    "    \n",
    "    # buy new options\n",
    "    iput = instrument.Option(name='SPY Put', ccy='USD', is_call=0, ul='SPY US Equity',\n",
    "                           K=etf_dict['SPY US Equity'].value(env_now)*0.9, T=opt_mat)\n",
    "\n",
    "    icall = instrument.Option(name='SPY Call', ccy='USD', is_call=1, ul='SPY US Equity',\n",
    "                           K=etf_dict['SPY US Equity'].value(env_now)*1.1, T=opt_mat)\n",
    "    \n",
    "    \n",
    "    pos_dict[iput] = pos_dict[etf_dict['SPY US Equity']] * 5\n",
    "    pos_dict[icall] = pos_dict[etf_dict['SPY US Equity']] * 5\n",
    "    pos_dict[icash] = pos_dict[icash] - (pos_dict[iput]*iput.value(env_now) + pos_dict[icall]*icall.value(env_now))\n",
    "    \n",
    "    # record portf val\n",
    "    pf_vals.append(my_pf.calc_value(env_now))"
   ]
  },
  {
   "cell_type": "code",
   "execution_count": 13,
   "metadata": {},
   "outputs": [],
   "source": [
    "pf_vals = np.array(pf_vals)\n",
    "pf_rets = pf_vals[1:]/pf_vals[0:-1] - 1"
   ]
  },
  {
   "cell_type": "code",
   "execution_count": 14,
   "metadata": {},
   "outputs": [
    {
     "name": "stdout",
     "output_type": "stream",
     "text": [
      "0.05831585774853454 0.08534665960589881\n",
      "0.6832822516758932\n"
     ]
    }
   ],
   "source": [
    "m = pf_rets.mean()*12\n",
    "s = pf_rets.std()*np.sqrt(12)\n",
    "print(m,s)\n",
    "print(m/s)"
   ]
  },
  {
   "cell_type": "code",
   "execution_count": 15,
   "metadata": {},
   "outputs": [
    {
     "name": "stdout",
     "output_type": "stream",
     "text": [
      "12024.031844906332 13719.778867905483\n"
     ]
    }
   ],
   "source": [
    "var = np.percentile(pf_rets, 5)*my_pf.calc_value(env_now)\n",
    "cvar = pf_rets[pf_rets<=np.percentile(pf_rets, 5)].mean()*my_pf.calc_value(env_now)\n",
    "print(-var, -cvar)"
   ]
  },
  {
   "cell_type": "code",
   "execution_count": 16,
   "metadata": {},
   "outputs": [
    {
     "data": {
      "text/plain": [
       "[<instrument.Option at 0x2453cb1b7b8>, <instrument.Option at 0x2453930e5c0>]"
      ]
     },
     "execution_count": 16,
     "metadata": {},
     "output_type": "execute_result"
    }
   ],
   "source": [
    "my_pf.get_options()"
   ]
  },
  {
   "cell_type": "code",
   "execution_count": 17,
   "metadata": {},
   "outputs": [
    {
     "data": {
      "text/plain": [
       "Timestamp('2019-06-30 00:00:00')"
      ]
     },
     "execution_count": 17,
     "metadata": {},
     "output_type": "execute_result"
    }
   ],
   "source": [
    "list(my_pf.pf_units.keys())[-1].T"
   ]
  },
  {
   "cell_type": "code",
   "execution_count": 18,
   "metadata": {},
   "outputs": [],
   "source": [
    "my_pf.sell_options(env_now)"
   ]
  },
  {
   "cell_type": "code",
   "execution_count": 19,
   "metadata": {},
   "outputs": [
    {
     "data": {
      "text/plain": [
       "260332.97469543805"
      ]
     },
     "execution_count": 19,
     "metadata": {},
     "output_type": "execute_result"
    }
   ],
   "source": [
    "my_pf.calc_value(env_now)"
   ]
  },
  {
   "cell_type": "code",
   "execution_count": 20,
   "metadata": {},
   "outputs": [],
   "source": [
    "specs = [{'name':'SPY Call 1', 'ccy':'USD', 'is_call':1, 'ul':'SPY US Equity','K':my_pf.get_asset('SPY US Equity').value(env_now)},\n",
    "         {'name':'SPY Call 2', 'ccy':'USD', 'is_call':1, 'ul':'SPY US Equity','K':my_pf.get_asset('SPY US Equity').value(env_now)*1.05}\n",
    "         ]\n",
    "my_pf.buy_options(env_now, specs, [50, -50])\n"
   ]
  },
  {
   "cell_type": "code",
   "execution_count": 21,
   "metadata": {},
   "outputs": [
    {
     "data": {
      "text/plain": [
       "260332.97469543805"
      ]
     },
     "execution_count": 21,
     "metadata": {},
     "output_type": "execute_result"
    }
   ],
   "source": [
    "my_pf.calc_value(env_now)"
   ]
  },
  {
   "cell_type": "code",
   "execution_count": 22,
   "metadata": {},
   "outputs": [
    {
     "name": "stderr",
     "output_type": "stream",
     "text": [
      "[autoreload of instrument failed: Traceback (most recent call last):\n",
      "  File \"c:\\users\\vladislav\\appdata\\local\\programs\\python\\python37\\lib\\site-packages\\IPython\\extensions\\autoreload.py\", line 244, in check\n",
      "    superreload(m, reload, self.old_objects)\n",
      "  File \"c:\\users\\vladislav\\appdata\\local\\programs\\python\\python37\\lib\\site-packages\\IPython\\extensions\\autoreload.py\", line 394, in superreload\n",
      "    update_generic(old_obj, new_obj)\n",
      "  File \"c:\\users\\vladislav\\appdata\\local\\programs\\python\\python37\\lib\\site-packages\\IPython\\extensions\\autoreload.py\", line 331, in update_generic\n",
      "    update(a, b)\n",
      "  File \"c:\\users\\vladislav\\appdata\\local\\programs\\python\\python37\\lib\\site-packages\\IPython\\extensions\\autoreload.py\", line 289, in update_class\n",
      "    if update_generic(old_obj, new_obj): continue\n",
      "  File \"c:\\users\\vladislav\\appdata\\local\\programs\\python\\python37\\lib\\site-packages\\IPython\\extensions\\autoreload.py\", line 331, in update_generic\n",
      "    update(a, b)\n",
      "  File \"c:\\users\\vladislav\\appdata\\local\\programs\\python\\python37\\lib\\site-packages\\IPython\\extensions\\autoreload.py\", line 265, in update_function\n",
      "    setattr(old, name, getattr(new, name))\n",
      "ValueError: __init__() requires a code object with 0 free vars, not 1\n",
      "]\n"
     ]
    },
    {
     "data": {
      "text/plain": [
       "{<instrument.Equity at 0x2453cbcc8d0>: 30.6516665380063,\n",
       " <instrument.Equity at 0x2453cbcccc0>: 81.46014706896412,\n",
       " <instrument.Equity at 0x2453cbcc978>: 320.0684178249943,\n",
       " <instrument.Equity at 0x2453cbcccf8>: 167.22255624927834,\n",
       " <instrument.Equity at 0x2453cbccd30>: 101.8166741909189,\n",
       " <instrument.Equity at 0x2453cbccd68>: 128.56868087504873,\n",
       " <instrument.Equity at 0x2453cbccda0>: 62.773468693019346,\n",
       " <instrument.Equity at 0x2453cbccdd8>: 135.5923010691453,\n",
       " <instrument.Equity at 0x2453cbcce10>: 113.89037800558133,\n",
       " <instrument.Equity at 0x2453cbcce48>: 111.48782848355705,\n",
       " <instrument.Equity at 0x2453cbccbe0>: 128.83164641175523,\n",
       " <instrument.Equity at 0x2453cbcce80>: 116.70961288646858,\n",
       " <instrument.Equity at 0x2453cbcceb8>: 76.81665925962031,\n",
       " <instrument.Equity at 0x2453cbccef0>: 179.82243074431292,\n",
       " <instrument.Equity at 0x2453cbccf28>: 112.384483501424,\n",
       " <instrument.Equity at 0x2453cbccf60>: 43.57598380245821,\n",
       " <instrument.Equity at 0x2453cbccf98>: 45.93271018722058,\n",
       " <instrument.Equity at 0x2453cbccfd0>: 50.64152942685588,\n",
       " <instrument.Equity at 0x2453cbd0048>: 43.064344180746396,\n",
       " <instrument.Equity at 0x2453cbd0080>: 70.40023767120238,\n",
       " <instrument.Equity at 0x2453cbd00b8>: 37.8677203920308,\n",
       " <instrument.Equity at 0x2453cbd00f0>: 113.96502322265277,\n",
       " <instrument.Equity at 0x2453cbd0128>: 2452.9463565161295,\n",
       " <instrument.Equity at 0x2453cbd0160>: 152.9972427601896,\n",
       " <instrument.Equity at 0x2453cbd0198>: 65.52415474249908,\n",
       " <instrument.Equity at 0x2453cbd01d0>: 58.08583250531979,\n",
       " <instrument.Equity at 0x2453cbd0208>: 56.425180436442,\n",
       " <instrument.Cash at 0x24539308898>: -6606.413728881424,\n",
       " <instrument.Option at 0x2453cb65a90>: 50,\n",
       " <instrument.Option at 0x2453cb65080>: -50}"
      ]
     },
     "execution_count": 22,
     "metadata": {},
     "output_type": "execute_result"
    }
   ],
   "source": [
    "my_pf.pf_units"
   ]
  },
  {
   "cell_type": "code",
   "execution_count": 23,
   "metadata": {},
   "outputs": [
    {
     "data": {
      "text/plain": [
       "{'SPY US Equity': 100.24002473923811, 'XLU US Equity': 591.5625434428742}"
      ]
     },
     "execution_count": 23,
     "metadata": {},
     "output_type": "execute_result"
    }
   ],
   "source": [
    "Portfolio.weights_to_pos({'SPY US Equity': 0.4, 'XLU US Equity': 0.6}, env_now, 100000)"
   ]
  },
  {
   "cell_type": "code",
   "execution_count": 24,
   "metadata": {},
   "outputs": [
    {
     "data": {
      "text/plain": [
       "{'SPY US Equity': 399.0422,\n",
       " 'EFA US Equity': 100.4163,\n",
       " 'XLF US Equity': 38.3799,\n",
       " 'XLK US Equity': 98.40100000000001,\n",
       " 'XLV US Equity': 114.704,\n",
       " 'XLP US Equity': 84.5084,\n",
       " 'XLE US Equity': 89.3335,\n",
       " 'EWJ US Equity': 67.18,\n",
       " 'EWZ US Equity': 62.9673,\n",
       " 'XLU US Equity': 101.4263,\n",
       " 'XLI US Equity': 105.7064,\n",
       " 'EZU US Equity': 61.3173,\n",
       " 'IYR US Equity': 164.18099999999995,\n",
       " 'XLB US Equity': 80.75,\n",
       " 'RWR US Equity': 179.9543,\n",
       " 'IXN US Equity': 205.7194,\n",
       " 'ISMUF US Equity': 4.5286,\n",
       " 'ICF US Equity': 196.2644,\n",
       " 'IYZ US Equity': 46.1624,\n",
       " 'ILF US Equity': 47.2365,\n",
       " 'IEV US Equity': 68.7014,\n",
       " 'TIP US Equity': 179.6958,\n",
       " 'AGG US Equity': 180.5315,\n",
       " 'IEF US Equity': 164.5138,\n",
       " 'TLT US Equity': 212.1756,\n",
       " 'SHY US Equity': 109.7469,\n",
       " 'LQD US Equity': 230.10307999999998}"
      ]
     },
     "execution_count": 24,
     "metadata": {},
     "output_type": "execute_result"
    }
   ],
   "source": [
    "env_now.prices"
   ]
  },
  {
   "cell_type": "code",
   "execution_count": null,
   "metadata": {},
   "outputs": [],
   "source": []
  }
 ],
 "metadata": {
  "kernelspec": {
   "display_name": "Python 3",
   "language": "python",
   "name": "python3"
  },
  "language_info": {
   "codemirror_mode": {
    "name": "ipython",
    "version": 3
   },
   "file_extension": ".py",
   "mimetype": "text/x-python",
   "name": "python",
   "nbconvert_exporter": "python",
   "pygments_lexer": "ipython3",
   "version": "3.7.1"
  }
 },
 "nbformat": 4,
 "nbformat_minor": 2
}
