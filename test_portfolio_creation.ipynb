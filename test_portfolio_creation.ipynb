{
 "cells": [
  {
   "cell_type": "markdown",
   "metadata": {},
   "source": [
    "### Portfolio Testing (pricing)"
   ]
  },
  {
   "cell_type": "code",
   "execution_count": 14,
   "metadata": {},
   "outputs": [
    {
     "name": "stdout",
     "output_type": "stream",
     "text": [
      "The autoreload extension is already loaded. To reload it, use:\n",
      "  %reload_ext autoreload\n"
     ]
    }
   ],
   "source": [
    "import pandas as pd\n",
    "import numpy as np\n",
    "from environment import Environment\n",
    "from pandas.tseries.offsets import MonthEnd\n",
    "\n",
    "%load_ext autoreload\n",
    "%autoreload 2"
   ]
  },
  {
   "cell_type": "code",
   "execution_count": 15,
   "metadata": {},
   "outputs": [],
   "source": [
    "from historical import HistoricalData\n",
    "from pandas._libs.tslibs.timestamps import Timestamp, Timedelta\n",
    "\n",
    "path = \"data\\\\\"\n",
    "env_df = pd.read_csv(path + \"Consolidated.csv\", header = [0,1], index_col=[0])\n",
    "targets_df = pd.read_csv(path + \"Targets.csv\", index_col=[0])\n",
    "features_df = pd.read_csv(path + \"Features.csv\", header = [0,1], index_col=[0])\n",
    "\n",
    "\n",
    "data = HistoricalData(env_df, features_df, targets_df)"
   ]
  },
  {
   "cell_type": "code",
   "execution_count": 16,
   "metadata": {},
   "outputs": [],
   "source": [
    "import instrument\n",
    "\n",
    "date = Timestamp('2018-12-31')\n",
    "\n",
    "\n",
    "opt_buy = date + MonthEnd(2)\n",
    "env_now = Environment(*data.get_env_args(date))\n",
    "pos_dict = {}\n",
    "etf_dict = {}\n",
    "\n",
    "\n",
    "icash = instrument.Cash('USD')\n",
    "for etf in env_df[['EQ', 'FI', 'EM', 'RE']].columns.droplevel():\n",
    "    etf_dict[etf] = instrument.Equity(etf, 'USD')\n",
    "    pos_dict[etf_dict[etf]] = 200000/27/env_now.prices[etf]\n",
    "\n",
    "iput = instrument.Option(name='SPY Put', ccy='USD', is_call=0, ul='SPY US Equity',\n",
    "                       K=etf_dict['SPY US Equity'].value(env_now)*0.9, T=opt_buy)\n",
    "\n",
    "icall = instrument.Option(name='SPY Call', ccy='USD', is_call=1, ul='SPY US Equity',\n",
    "                       K=etf_dict['SPY US Equity'].value(env_now)*1.1, T=opt_buy)\n",
    "\n",
    "\n",
    "\n",
    "\n",
    "pos_dict[iput] = pos_dict[etf_dict['SPY US Equity']] * 5\n",
    "pos_dict[icall] = pos_dict[etf_dict['SPY US Equity']] * 5\n",
    "\n",
    "\n",
    "pos_dict[icash] = -(pos_dict[iput]*iput.value(env_now) + pos_dict[icall]*icall.value(env_now))"
   ]
  },
  {
   "cell_type": "code",
   "execution_count": 17,
   "metadata": {},
   "outputs": [
    {
     "data": {
      "text/plain": [
       "4.213865086912866"
      ]
     },
     "execution_count": 17,
     "metadata": {},
     "output_type": "execute_result"
    }
   ],
   "source": [
    "# option price\n",
    "icall.value(env_now)"
   ]
  },
  {
   "cell_type": "code",
   "execution_count": 18,
   "metadata": {},
   "outputs": [
    {
     "data": {
      "text/plain": [
       "200000.00000000003"
      ]
     },
     "execution_count": 18,
     "metadata": {},
     "output_type": "execute_result"
    }
   ],
   "source": [
    "from portfolio import Portfolio\n",
    "my_pf = Portfolio(pos_dict)\n",
    "my_pf.calc_value(env_now)"
   ]
  },
  {
   "cell_type": "markdown",
   "metadata": {},
   "source": [
    "### Regression Testing (mapping shocks to assets)"
   ]
  },
  {
   "cell_type": "code",
   "execution_count": 19,
   "metadata": {},
   "outputs": [],
   "source": [
    "from historical import ShockMap, Distribution\n",
    "sm = ShockMap(data, date)\n",
    "dist = Distribution(data, date, method='normal')"
   ]
  },
  {
   "cell_type": "code",
   "execution_count": 20,
   "metadata": {},
   "outputs": [],
   "source": [
    "rets = []\n",
    "val_now = my_pf.calc_value(env_now)\n",
    "for i in range(1000):\n",
    "    asset_shocks = sm.map_factors(dist.generate_shock())\n",
    "    env_sim = env_now.simulate(asset_shocks)\n",
    "    #print(my_pf.calc_value(env_sim))\n",
    "    #print(i1.value(env_sim), i2.value(env_sim))\n",
    "    ret = np.log(my_pf.calc_value(env_sim)/val_now)\n",
    "    rets.append(ret)\n",
    "    \n",
    "rets = pd.Series(rets)"
   ]
  },
  {
   "cell_type": "code",
   "execution_count": 21,
   "metadata": {},
   "outputs": [
    {
     "data": {
      "image/png": "[encoded data removed]",
      "text/plain": [
       "<Figure size 432x288 with 1 Axes>"
      ]
     },
     "metadata": {
      "needs_background": "light"
     },
     "output_type": "display_data"
    }
   ],
   "source": [
    "import matplotlib.pyplot as plt\n",
    "rets.hist(bins=10)\n",
    "plt.show()"
   ]
  },
  {
   "cell_type": "markdown",
   "metadata": {},
   "source": [
    "### Testing portfolio performance"
   ]
  },
  {
   "cell_type": "code",
   "execution_count": 22,
   "metadata": {},
   "outputs": [],
   "source": [
    "pf_val = 200000\n",
    "date = Timestamp('2014-06-01') + MonthEnd(0)\n",
    "opt_mat = date + MonthEnd(2)\n",
    "env_now = Environment(*data.get_env_args(date))\n",
    "pos_dict = {}\n",
    "etf_dict = {}\n",
    "\n",
    "icash = instrument.Cash('USD')\n",
    "for etf in env_df[['EQ', 'FI', 'EM', 'RE']].columns.droplevel():\n",
    "    etf_dict[etf] = instrument.Equity(etf, 'USD')\n",
    "    pos_dict[etf_dict[etf]] = pf_val/27/env_now.prices[etf]\n",
    "\n",
    "iput = instrument.Option(name='SPY Put', ccy='USD', is_call=0, ul='SPY US Equity',\n",
    "                       K=etf_dict['SPY US Equity'].value(env_now)*0.9, T=opt_mat)\n",
    "\n",
    "icall = instrument.Option(name='SPY Call', ccy='USD', is_call=1, ul='SPY US Equity',\n",
    "                       K=etf_dict['SPY US Equity'].value(env_now)*1.1, T=opt_mat)\n",
    "\n",
    "pos_dict[iput] = pos_dict[etf_dict['SPY US Equity']] * 5\n",
    "pos_dict[icall] = pos_dict[etf_dict['SPY US Equity']] * 5\n",
    "pos_dict[icash] = -(pos_dict[iput]*iput.value(env_now) + pos_dict[icall]*icall.value(env_now))\n",
    "my_pf = Portfolio(pos_dict)"
   ]
  },
  {
   "cell_type": "code",
   "execution_count": 23,
   "metadata": {},
   "outputs": [],
   "source": [
    "pf_vals = []\n",
    "for i in range(1, 60):\n",
    "    # set date to nex month\n",
    "    date = Timestamp('2014-06-01') + MonthEnd(i)\n",
    "    opt_mat = date + MonthEnd(2)\n",
    "    env_now = Environment(*data.get_env_args(date))\n",
    "    \n",
    "\n",
    "    # sell current options\n",
    "    opt_val = pos_dict[iput] * iput.value(env_now) + pos_dict[icall] * icall.value(env_now)\n",
    "    my_pf.pf_units[iput] = 0\n",
    "    my_pf.pf_units[icall] = 0\n",
    "    del pos_dict[iput], pos_dict[icall]\n",
    "    \n",
    "    # add cash from sold options\n",
    "    my_pf.pf_units[icash] = my_pf.pf_units[icash] + opt_val\n",
    "    \n",
    "    # buy new options\n",
    "    iput = instrument.Option(name='SPY Put', ccy='USD', is_call=0, ul='SPY US Equity',\n",
    "                           K=etf_dict['SPY US Equity'].value(env_now)*0.9, T=opt_mat)\n",
    "\n",
    "    icall = instrument.Option(name='SPY Call', ccy='USD', is_call=1, ul='SPY US Equity',\n",
    "                           K=etf_dict['SPY US Equity'].value(env_now)*1.1, T=opt_mat)\n",
    "    \n",
    "    \n",
    "    pos_dict[iput] = pos_dict[etf_dict['SPY US Equity']] * 5\n",
    "    pos_dict[icall] = pos_dict[etf_dict['SPY US Equity']] * 5\n",
    "    pos_dict[icash] = pos_dict[icash] - (pos_dict[iput]*iput.value(env_now) + pos_dict[icall]*icall.value(env_now))\n",
    "    \n",
    "    # record portf val\n",
    "    pf_vals.append(my_pf.calc_value(env_now))"
   ]
  },
  {
   "cell_type": "code",
   "execution_count": 24,
   "metadata": {},
   "outputs": [],
   "source": [
    "pf_vals = np.array(pf_vals)\n",
    "pf_rets = pf_vals[1:]/pf_vals[0:-1] - 1"
   ]
  },
  {
   "cell_type": "code",
   "execution_count": 25,
   "metadata": {},
   "outputs": [
    {
     "name": "stdout",
     "output_type": "stream",
     "text": [
      "0.05831585774853454 0.08534665960589881\n",
      "0.6832822516758932\n"
     ]
    }
   ],
   "source": [
    "m = pf_rets.mean()*12\n",
    "s = pf_rets.std()*np.sqrt(12)\n",
    "print(m,s)\n",
    "print(m/s)"
   ]
  },
  {
   "cell_type": "code",
   "execution_count": 26,
   "metadata": {},
   "outputs": [
    {
     "name": "stdout",
     "output_type": "stream",
     "text": [
      "12024.031844906332 13719.778867905483\n"
     ]
    }
   ],
   "source": [
    "var = np.percentile(pf_rets, 5)*my_pf.calc_value(env_now)\n",
    "cvar = pf_rets[pf_rets<=np.percentile(pf_rets, 5)].mean()*my_pf.calc_value(env_now)\n",
    "print(-var, -cvar)"
   ]
  },
  {
   "cell_type": "code",
   "execution_count": null,
   "metadata": {},
   "outputs": [],
   "source": []
  }
 ],
 "metadata": {
  "kernelspec": {
   "display_name": "Python 3",
   "language": "python",
   "name": "python3"
  },
  "language_info": {
   "codemirror_mode": {
    "name": "ipython",
    "version": 3
   },
   "file_extension": ".py",
   "mimetype": "text/x-python",
   "name": "python",
   "nbconvert_exporter": "python",
   "pygments_lexer": "ipython3",
   "version": "3.6.5"
  }
 },
 "nbformat": 4,
 "nbformat_minor": 2
}
