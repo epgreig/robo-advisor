{
 "cells": [
  {
   "cell_type": "markdown",
   "metadata": {},
   "source": [
    "### Portfolio Testing (pricing)"
   ]
  },
  {
   "cell_type": "code",
   "execution_count": 101,
   "metadata": {},
   "outputs": [
    {
     "name": "stdout",
     "output_type": "stream",
     "text": [
      "The autoreload extension is already loaded. To reload it, use:\n",
      "  %reload_ext autoreload\n"
     ]
    }
   ],
   "source": [
    "import pandas as pd\n",
    "import numpy as np\n",
    "from environment import Environment\n",
    "\n",
    "%load_ext autoreload\n",
    "%autoreload 2"
   ]
  },
  {
   "cell_type": "code",
   "execution_count": 151,
   "metadata": {},
   "outputs": [],
   "source": [
    "from historical import HistoricalData\n",
    "from pandas._libs.tslibs.timestamps import Timestamp, Timedelta\n",
    "\n",
    "path = \"data\\\\\"\n",
    "env_df = pd.read_csv(path + \"Consolidated.csv\", header = [0,1], index_col=[0])\n",
    "targets_df = pd.read_csv(path + \"Targets.csv\", index_col=[0])\n",
    "features_df = pd.read_csv(path + \"Features.csv\", header = [0,1], index_col=[0])\n",
    "\n",
    "\n",
    "data = HistoricalData(env_df, features_df, targets_df)"
   ]
  },
  {
   "cell_type": "code",
   "execution_count": 211,
   "metadata": {},
   "outputs": [],
   "source": [
    "import instrument\n",
    "i1 = instrument.Equity('SPY US Equity', 'USD')\n",
    "i2 = instrument.Option(name='SPY Put', ccy='USD', is_call=0, ul='SPY US Equity', K=285, T=Timestamp('2017-03-31'))\n",
    "date = Timestamp('2017-01-31')\n",
    "prices, fx, divs, surfaces, curves = data.get_env_args(date)\n",
    "env_now = Environment(date, prices, fx, divs, surfaces, curves)"
   ]
  },
  {
   "cell_type": "code",
   "execution_count": 212,
   "metadata": {},
   "outputs": [
    {
     "data": {
      "text/plain": [
       "0.9451411716691382"
      ]
     },
     "execution_count": 212,
     "metadata": {},
     "output_type": "execute_result"
    }
   ],
   "source": [
    "i2.value(env_now)"
   ]
  },
  {
   "cell_type": "code",
   "execution_count": 213,
   "metadata": {},
   "outputs": [],
   "source": [
    "from portfolio import Portfolio\n",
    "my_pf = Portfolio({i1: 2, i2:2})"
   ]
  },
  {
   "cell_type": "code",
   "execution_count": 214,
   "metadata": {},
   "outputs": [
    {
     "data": {
      "text/plain": [
       "593.7798823433383"
      ]
     },
     "execution_count": 214,
     "metadata": {},
     "output_type": "execute_result"
    }
   ],
   "source": [
    "my_pf.calc_value(env_now)"
   ]
  },
  {
   "cell_type": "markdown",
   "metadata": {},
   "source": [
    "### Regression Testing"
   ]
  },
  {
   "cell_type": "code",
   "execution_count": 221,
   "metadata": {},
   "outputs": [],
   "source": [
    "from historical import ShockMap, Distribution\n",
    "sm = ShockMap(data, date)\n",
    "dist = Distribution(data, date, method='normal')"
   ]
  },
  {
   "cell_type": "code",
   "execution_count": 222,
   "metadata": {},
   "outputs": [],
   "source": [
    "rets = []\n",
    "val_now = my_pf.calc_value(env_now)\n",
    "for i in range(1000):\n",
    "    asset_shocks = sm.map_factors(dist.generate_shock())\n",
    "    env_sim = env_now.simulate(asset_shocks)\n",
    "    #print(my_pf.calc_value(env_sim))\n",
    "    #print(i1.value(env_sim), i2.value(env_sim))\n",
    "    rets.append(np.log(my_pf.calc_value(env_sim)/val_now))\n",
    "    \n",
    "rets = pd.Series(rets)"
   ]
  },
  {
   "cell_type": "code",
   "execution_count": 223,
   "metadata": {},
   "outputs": [
    {
     "data": {
      "text/plain": [
       "<matplotlib.axes._subplots.AxesSubplot at 0x226180341d0>"
      ]
     },
     "execution_count": 223,
     "metadata": {},
     "output_type": "execute_result"
    },
    {
     "data": {
      "image/png": "[encoded data removed]",
      "text/plain": [
       "<Figure size 432x288 with 1 Axes>"
      ]
     },
     "metadata": {
      "needs_background": "light"
     },
     "output_type": "display_data"
    }
   ],
   "source": [
    "import matplotlib.pyplot as plt\n",
    "rets.hist(bins=20)"
   ]
  },
  {
   "cell_type": "code",
   "execution_count": null,
   "metadata": {},
   "outputs": [],
   "source": []
  }
 ],
 "metadata": {
  "kernelspec": {
   "display_name": "Python 3",
   "language": "python",
   "name": "python3"
  },
  "language_info": {
   "codemirror_mode": {
    "name": "ipython",
    "version": 3
   },
   "file_extension": ".py",
   "mimetype": "text/x-python",
   "name": "python",
   "nbconvert_exporter": "python",
   "pygments_lexer": "ipython3",
   "version": "3.6.5"
  }
 },
 "nbformat": 4,
 "nbformat_minor": 2
}
